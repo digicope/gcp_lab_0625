{
 "cells": [
  {
   "cell_type": "markdown",
   "id": "3600aad2-face-4a27-87b4-92477298d111",
   "metadata": {},
   "source": [
    "#### 리스트(list) : 가변형(mutable), 시퀀스, 가장 유용한 자료형, [ ] :대괄호, 중복 허용"
   ]
  },
  {
   "cell_type": "code",
   "execution_count": 11,
   "id": "0dd20262-bc64-487c-b26f-382ad4853c22",
   "metadata": {},
   "outputs": [
    {
     "name": "stdout",
     "output_type": "stream",
     "text": [
      "[1, 2, 3, 4, 5, 6]\n",
      "<class 'list'>\n",
      "['a', 'hello', 1, 3.5, [1, 2, 3, 4, 5, 6], 3.5, 1]\n"
     ]
    }
   ],
   "source": [
    "a = [1,2,3,4,5,6]\n",
    "print(a)\n",
    "print(type(a))\n",
    "\n",
    "b = ['a','hello',1,3.5,a,3.5,1]\n",
    "print(b)"
   ]
  },
  {
   "cell_type": "code",
   "execution_count": 12,
   "id": "b770f836-caf6-4a62-ba88-1c1e2415c334",
   "metadata": {},
   "outputs": [
    {
     "name": "stdout",
     "output_type": "stream",
     "text": [
      "1 2 3 4 5 2 1\n",
      "6 5 4\n"
     ]
    },
    {
     "data": {
      "text/plain": [
       "[10, 2, 3, 4, 5, 6]"
      ]
     },
     "execution_count": 12,
     "metadata": {},
     "output_type": "execute_result"
    }
   ],
   "source": [
    "# 인덱싱 슬라이싱 : 문자열과 동일\n",
    "# indexing : 문자열의 요소를 접근하는 방법, a[index] , 처음 0번으로 시작\n",
    "a = [1,2,3,4,5,6]\n",
    "print(a[0],a[1],a[2],a[3],a[4],a[True],a[False]) # True ==> 1, False ==> 0\n",
    "print(a[-1],a[-2],a[-3])    # -1 맨 마지막 요소 , 뒤에서부터 인덱싱\n",
    "# print(a[len(a) - 1 ])\n",
    "\n",
    "b = a[0]   # OK! \n",
    "a[0] = 10  # 가변형이므로 요소 변경이 가능하다\n",
    "a           "
   ]
  },
  {
   "cell_type": "code",
   "execution_count": 13,
   "id": "38c286da-ae73-4fda-a70e-4f3b77833e7b",
   "metadata": {},
   "outputs": [
    {
     "name": "stdout",
     "output_type": "stream",
     "text": [
      "[10, 2, 3]\n",
      "[10, 2, 3, 4, 5]\n",
      "[3, 4, 5]\n",
      "[10, 2, 3, 4, 5, 6]\n",
      "[4, 5, 6]\n",
      "[10, 2, 3, 4, 5]\n",
      "[4, 5]\n",
      "[10, 4]\n",
      "[10, 3, 5]\n",
      "[6, 5, 4, 3, 2, 10]\n"
     ]
    },
    {
     "data": {
      "text/plain": [
       "[10, 8, 9, 10, 4, 5, 6]"
      ]
     },
     "execution_count": 13,
     "metadata": {},
     "output_type": "execute_result"
    }
   ],
   "source": [
    "# slicing :    a[start:end + 1:step]   , start <= data < end + 1\n",
    "print(a[0:3]) \n",
    "print(a[0:5]) \n",
    "print(a[2:5])\n",
    "\n",
    "print(a[:])       # 처음부터 끝까지 \n",
    "print(a[3:])      \n",
    "\n",
    "print(a[:-1])      # 마지막 문자만 제외\n",
    "print(a[-3:-1])\n",
    "print(a[:5:3])    \n",
    "print(a[::2])      # 처음 부터 끝까지 2개의 간격으로 slicing \n",
    "\n",
    "print(a[::-1])     # 전체 요소의 순서를 거꾸로 바꾼다\n",
    "\n",
    "b = a[:3]          # OK!\n",
    "a[1:3] = [8,9,10]\n",
    "a"
   ]
  },
  {
   "cell_type": "code",
   "execution_count": null,
   "id": "0888614b-3c77-4dc9-b44c-bef1a6bd86bf",
   "metadata": {},
   "outputs": [],
   "source": []
  },
  {
   "cell_type": "code",
   "execution_count": 20,
   "id": "a15a15e4-4a47-4b6b-bc18-44ad5b125512",
   "metadata": {},
   "outputs": [
    {
     "name": "stdout",
     "output_type": "stream",
     "text": [
      "[6, 8, 10]\n"
     ]
    }
   ],
   "source": [
    "# for 문, if문\n",
    "a = []\n",
    "total = 0\n",
    "for k in range(0,11,2):\n",
    "    # print(k)\n",
    "    if k > 4:\n",
    "        a.append(k)\n",
    "print(a)"
   ]
  },
  {
   "cell_type": "code",
   "execution_count": 22,
   "id": "18b3050a-8aa5-4d1b-93e6-8a056cf2ae14",
   "metadata": {},
   "outputs": [
    {
     "name": "stdout",
     "output_type": "stream",
     "text": [
      "[0, 20, 40, 60, 80, 100]\n"
     ]
    }
   ],
   "source": [
    "# 리스트 내장(List Comprehension)  : 파이썬 스타일(Pythonic), 필수 암기\n",
    "a = [k for k in range(0,11,2)]\n",
    "print(a)"
   ]
  },
  {
   "cell_type": "code",
   "execution_count": 26,
   "id": "f1d81c48-af15-4a8e-a3e0-b4bc1cf8ac95",
   "metadata": {},
   "outputs": [
    {
     "name": "stdout",
     "output_type": "stream",
     "text": [
      "[6, 8, 10]\n",
      "[6, 9]\n"
     ]
    }
   ],
   "source": [
    "# 조건식이 포함된 리스트 내장\n",
    "a = [k for k in range(0,11,2) if k > 4]\n",
    "print(a)\n",
    "\n",
    "b = [k for k in range(0,10) if (k%3 == 0) and (k > 4)]\n",
    "print(b)"
   ]
  },
  {
   "cell_type": "markdown",
   "id": "56e57f05-dea8-402e-aabb-7863597efe2a",
   "metadata": {},
   "source": [
    "### 튜플(tuple) : 불변형(immutable), 시퀀스형, ( ):소괄호 사용"
   ]
  },
  {
   "cell_type": "code",
   "execution_count": 27,
   "id": "a64fa57f-c84a-4cf2-a0b3-495fe527db74",
   "metadata": {},
   "outputs": [
    {
     "name": "stdout",
     "output_type": "stream",
     "text": [
      "(1, 2, 3, 4, 5)\n",
      "<class 'tuple'>\n"
     ]
    }
   ],
   "source": [
    "a = (1,2,3,4,5)\n",
    "print(a)\n",
    "print(type(a))"
   ]
  },
  {
   "cell_type": "code",
   "execution_count": 30,
   "id": "c766f05f-3544-4287-9ef6-0f19dd3ae1b9",
   "metadata": {},
   "outputs": [
    {
     "name": "stdout",
     "output_type": "stream",
     "text": [
      "1 2 3 5 4\n"
     ]
    }
   ],
   "source": [
    "# 인덱싱\n",
    "print(a[0],a[1],a[2],a[-1],a[-2])\n",
    "# a[0] = 10  # TypeError   , 불변형이므로 요소 수정이 불가"
   ]
  },
  {
   "cell_type": "code",
   "execution_count": 31,
   "id": "bba89e1a-44a8-4a8b-b1af-82b9b6443ef6",
   "metadata": {},
   "outputs": [
    {
     "name": "stdout",
     "output_type": "stream",
     "text": [
      "(10, 2, 3, 4, 5)\n"
     ]
    }
   ],
   "source": [
    "b = list(a)\n",
    "b[0] = 10\n",
    "b = tuple(b)\n",
    "print(b)"
   ]
  },
  {
   "cell_type": "code",
   "execution_count": 34,
   "id": "9bf954ee-38fd-4216-8a2a-907fafd8899c",
   "metadata": {},
   "outputs": [
    {
     "name": "stdout",
     "output_type": "stream",
     "text": [
      "<class 'tuple'>\n",
      "<class 'int'>\n"
     ]
    }
   ],
   "source": [
    "# 패킹(packing), 언패킹 튜플\n",
    "t = 1,2,'hello'  # 괄호 생략이 가능, 쉼표로 데이터가 구분되어 있으면 튜플, 패킹\n",
    "print(type(t))\n",
    "x,y,z = t        # 언패킹\n",
    "print(type(x))"
   ]
  },
  {
   "cell_type": "code",
   "execution_count": 35,
   "id": "c2f479a2-d1ee-4b08-a4c8-55feee34f24e",
   "metadata": {},
   "outputs": [],
   "source": [
    "a,b,c = 10,20,'hi' # 언패킹"
   ]
  },
  {
   "cell_type": "code",
   "execution_count": 38,
   "id": "1441b496-5855-4a96-989b-df1fe120e7a3",
   "metadata": {},
   "outputs": [
    {
     "name": "stdout",
     "output_type": "stream",
     "text": [
      "<class 'int'>\n",
      "<class 'tuple'>\n",
      "<class 'tuple'>\n"
     ]
    }
   ],
   "source": [
    "a = (10)\n",
    "print(type(a))\n",
    "a = (10,)\n",
    "print(type(a))\n",
    "a = 10,\n",
    "print(type(a))"
   ]
  },
  {
   "cell_type": "code",
   "execution_count": 40,
   "id": "44691d58-d613-40a4-ac2e-a1e26637ae34",
   "metadata": {},
   "outputs": [],
   "source": [
    "t = (1,2,3,4,5,6,7)\n",
    "# a,b = t          # ValueError\n",
    "a,b,_,c,_,_,d = t  # 언패킹될 요소의 갯수를 일치시켜야한다, '_':사용하지 않을 요소\n"
   ]
  },
  {
   "cell_type": "code",
   "execution_count": 45,
   "id": "dd0cdf78-0d38-4304-b38e-bf458b248478",
   "metadata": {},
   "outputs": [
    {
     "name": "stdout",
     "output_type": "stream",
     "text": [
      "1\n",
      "[2, 3, 4, 5, 6, 7]\n"
     ]
    }
   ],
   "source": [
    "# 확장된 언패킹\n",
    "a,*b = t\n",
    "print(a)\n",
    "print(b)\n",
    "*a,b = t\n",
    "a,b,*c = t\n",
    "\n",
    "# a,*b,*c = t"
   ]
  },
  {
   "cell_type": "code",
   "execution_count": 47,
   "id": "2b203aaf-ea6e-46c7-ba4b-7ad5ce0bbf76",
   "metadata": {},
   "outputs": [
    {
     "name": "stdout",
     "output_type": "stream",
     "text": [
      "2 1\n",
      "2 1\n"
     ]
    }
   ],
   "source": [
    "# 두 개의 값을 서로 변경하는 코드\n",
    "# x : 1, y : 2\n",
    "# (1) 전통 언어 방식\n",
    "x = 1\n",
    "y = 2\n",
    "temp = x\n",
    "x = y\n",
    "y = temp\n",
    "print(x,y)\n",
    "\n",
    "# (2) 파이썬 방식(튜플의 언패킹 사용) \n",
    "x,y = 1,2\n",
    "x,y = y,x\n",
    "print(x,y)"
   ]
  },
  {
   "cell_type": "code",
   "execution_count": null,
   "id": "8173cea6-9b59-4150-a8bf-d36be4442575",
   "metadata": {},
   "outputs": [],
   "source": []
  }
 ],
 "metadata": {
  "kernelspec": {
   "display_name": "Python 3 (ipykernel)",
   "language": "python",
   "name": "python3"
  },
  "language_info": {
   "codemirror_mode": {
    "name": "ipython",
    "version": 3
   },
   "file_extension": ".py",
   "mimetype": "text/x-python",
   "name": "python",
   "nbconvert_exporter": "python",
   "pygments_lexer": "ipython3",
   "version": "3.11.7"
  }
 },
 "nbformat": 4,
 "nbformat_minor": 5
}
