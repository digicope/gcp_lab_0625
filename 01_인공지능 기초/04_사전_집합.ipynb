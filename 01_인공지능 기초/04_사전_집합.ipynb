{
 "cells": [
  {
   "cell_type": "markdown",
   "id": "87d76efe-848a-4395-83ce-94a08e96c0f3",
   "metadata": {},
   "source": [
    "### 사전(dict): 가변형(mutable), 순서가 없다, 연관형, 매핑형 ,{ } : 중괄호사용\n",
    "#### {key:value,.....}, key 는 반드시 immutable형 이어야 한다(숫자형,문자열,튜플),\n",
    "#### value 는 mutable,immutable 모두 사용 가능하다"
   ]
  },
  {
   "cell_type": "code",
   "execution_count": 1,
   "id": "4e83affe-11ee-488a-9ae0-6bbe8128eeff",
   "metadata": {},
   "outputs": [
    {
     "name": "stdout",
     "output_type": "stream",
     "text": [
      "{'name': '홍길동', 'age': 30, 'phone': '010-1234-1234', 'birth': '20221203', 10: 100}\n",
      "<class 'dict'>\n"
     ]
    }
   ],
   "source": [
    "a = {'name':'홍길동','age':30,'phone':'010-1234-1234','birth':'20221203',10:100}\n",
    "print(a)\n",
    "print(type(a))"
   ]
  },
  {
   "cell_type": "code",
   "execution_count": 4,
   "id": "2aba2624-bdf8-4a3d-a516-a3b0d243f942",
   "metadata": {},
   "outputs": [
    {
     "name": "stdout",
     "output_type": "stream",
     "text": [
      "홍길동 30 20221203 100\n"
     ]
    }
   ],
   "source": [
    "# 요소 접근 : a[key]\n",
    "print(a['name'],a['age'],a['birth'],a[10])"
   ]
  },
  {
   "cell_type": "code",
   "execution_count": 7,
   "id": "5f70ae95-85db-43cc-8a33-0b990192c038",
   "metadata": {},
   "outputs": [
    {
     "name": "stdout",
     "output_type": "stream",
     "text": [
      "{'name': '김철수', 'age': 30, 'phone': '010-1234-1234', 'birth': '20221203', 10: 100}\n"
     ]
    }
   ],
   "source": [
    "# 요소 수정\n",
    "a['name'] = '김철수'\n",
    "print(a)"
   ]
  },
  {
   "cell_type": "code",
   "execution_count": 8,
   "id": "cfde8ed6-aff2-4bf5-b515-65a3d06e1315",
   "metadata": {},
   "outputs": [
    {
     "name": "stdout",
     "output_type": "stream",
     "text": [
      "{'name': '김철수', 'age': 30, 'phone': '010-1234-1234', 'birth': '20221203', 10: 100, '주소': '안동시'}\n"
     ]
    }
   ],
   "source": [
    "# 요소 추가\n",
    "a['주소'] = '안동시'\n",
    "print(a)"
   ]
  },
  {
   "cell_type": "code",
   "execution_count": 10,
   "id": "49def792-4748-4551-8982-11d2cfc48dc1",
   "metadata": {},
   "outputs": [
    {
     "name": "stdout",
     "output_type": "stream",
     "text": [
      "{'a': 97, 'b': 98, 'c': 99, 'd': 100, 'e': 101, 'f': 102, 'g': 103}\n"
     ]
    }
   ],
   "source": [
    "# 사전 내장(dict comprehension)\n",
    "a = {k:ord(k) for k in 'abcdefg' }\n",
    "print(a)"
   ]
  },
  {
   "cell_type": "code",
   "execution_count": 11,
   "id": "a750aa76-cf0a-43fe-8e16-4af3f41ac676",
   "metadata": {},
   "outputs": [
    {
     "name": "stdout",
     "output_type": "stream",
     "text": [
      "{'a': 97, 'b': 98, 'd': 100, 'e': 101, 'f': 102, 'g': 103}\n"
     ]
    }
   ],
   "source": [
    "# 조건식을 사용\n",
    "a = {k:ord(k) for k in 'abcdefg' if k!= 'c' }\n",
    "print(a)"
   ]
  },
  {
   "cell_type": "markdown",
   "id": "ee118bbd-601e-457b-a593-dc63db00003f",
   "metadata": {},
   "source": [
    "#### 집합(set) : mutable, 순서가 없다, { }중괄호 사용, 중복을 허용하지 않는다"
   ]
  },
  {
   "cell_type": "code",
   "execution_count": 12,
   "id": "1fe4bdab-0e47-4b20-b420-966a3ffbc6c5",
   "metadata": {},
   "outputs": [
    {
     "name": "stdout",
     "output_type": "stream",
     "text": [
      "{1, 2, 3, 4}\n",
      "<class 'set'>\n"
     ]
    }
   ],
   "source": [
    "s = {1,2,3,4}\n",
    "print(s)\n",
    "print(type(s))"
   ]
  },
  {
   "cell_type": "code",
   "execution_count": 13,
   "id": "9589afd8-0aaa-4105-a9fa-d7b0e33577d8",
   "metadata": {},
   "outputs": [
    {
     "name": "stdout",
     "output_type": "stream",
     "text": [
      "{8, 1, 4, 6}\n"
     ]
    }
   ],
   "source": [
    "s = {4,4,4,6,6,6,1,1,1,8,8,8}\n",
    "print(s)"
   ]
  },
  {
   "cell_type": "code",
   "execution_count": 16,
   "id": "bb136ec1-953f-45ab-b27b-e16a42337d96",
   "metadata": {},
   "outputs": [
    {
     "name": "stdout",
     "output_type": "stream",
     "text": [
      "[8, 1, 4, 6]\n"
     ]
    }
   ],
   "source": [
    "# 리스트에서 중복된 요소를 제거\n",
    "l = [4,4,4,6,6,6,1,1,1,8,8,8]\n",
    "s = list(set(l))\n",
    "print(s)"
   ]
  },
  {
   "cell_type": "code",
   "execution_count": 22,
   "id": "f64eaa0e-103a-47fc-b91b-ee60d420f8e1",
   "metadata": {},
   "outputs": [
    {
     "name": "stdout",
     "output_type": "stream",
     "text": [
      "{1, 4, 9, 16, 25}\n",
      "{'o', 'e'}\n"
     ]
    }
   ],
   "source": [
    "# 집합 내장(set comprehension)\n",
    "s = {k*k for k in [1,2,3,4,5]}\n",
    "print(s)\n",
    "\n",
    "s = {v for v in 'python hello' if v not in 'aeiou'}\n",
    "print(s)"
   ]
  },
  {
   "cell_type": "code",
   "execution_count": null,
   "id": "67b523fe-1915-4a90-bdf3-70f711dc4206",
   "metadata": {},
   "outputs": [],
   "source": [
    "# 자료형을 구별\n",
    "a = 10               # int\n",
    "b = 10.12            # float\n",
    "\n",
    "s1 = 'hello'         # str\n",
    "l = [1,2,3,4]        # list\n",
    "t = (1,2,3,4)        # tuple\n",
    "d = {'a':1, 'b':2}   # dict\n",
    "s2 = {1,2,3,4}       # set"
   ]
  }
 ],
 "metadata": {
  "kernelspec": {
   "display_name": "Python 3 (ipykernel)",
   "language": "python",
   "name": "python3"
  },
  "language_info": {
   "codemirror_mode": {
    "name": "ipython",
    "version": 3
   },
   "file_extension": ".py",
   "mimetype": "text/x-python",
   "name": "python",
   "nbconvert_exporter": "python",
   "pygments_lexer": "ipython3",
   "version": "3.11.7"
  }
 },
 "nbformat": 4,
 "nbformat_minor": 5
}
