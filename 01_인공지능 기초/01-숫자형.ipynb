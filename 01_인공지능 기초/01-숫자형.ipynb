{
 "cells": [
  {
   "cell_type": "code",
   "execution_count": 1,
   "id": "0ddf76e1-a437-40c9-aaa9-42022eea3221",
   "metadata": {},
   "outputs": [
    {
     "data": {
      "text/plain": [
       "'3.11.7 | packaged by Anaconda, Inc. | (main, Dec 15 2023, 18:05:47) [MSC v.1916 64 bit (AMD64)]'"
      ]
     },
     "execution_count": 1,
     "metadata": {},
     "output_type": "execute_result"
    }
   ],
   "source": [
    "# 파이썬 버전 확인\n",
    "import sys\n",
    "sys.version"
   ]
  },
  {
   "cell_type": "code",
   "execution_count": 4,
   "id": "5242c9ca-78c4-4378-8561-222f70c5f1f9",
   "metadata": {},
   "outputs": [
    {
     "name": "stdout",
     "output_type": "stream",
     "text": [
      "30\n"
     ]
    }
   ],
   "source": [
    "a = 10\n",
    "b = 20\n",
    "c = a + b\n",
    "print(c)"
   ]
  },
  {
   "cell_type": "markdown",
   "id": "87d92fa9-55f1-4574-931d-09e45be522eb",
   "metadata": {},
   "source": [
    "#### 객체 :  파이썬의 모든 변수,  데이터 형은 객체로 관리된다"
   ]
  },
  {
   "cell_type": "code",
   "execution_count": 30,
   "id": "2a0fd2d3-678b-47bc-8599-673d9571c8ef",
   "metadata": {},
   "outputs": [
    {
     "name": "stdout",
     "output_type": "stream",
     "text": [
      "0x7ff86651c6c8\n",
      "0x7ff86651c808\n",
      "0x7ff86651c6c8\n",
      "0x7ff86651c808\n",
      "40\n",
      "0x7ff86651c6c8\n"
     ]
    }
   ],
   "source": [
    "a = 30  # int 클래스의 인스턴스 객체를 생성\n",
    "print(hex(id(a)))\n",
    "b = 40  # int 클래스의 인스턴스 객체를 생성\n",
    "print(hex(id(b)))\n",
    "b = a\n",
    "print(hex(id(b)))\n",
    "b = 40\n",
    "print(hex(id(b)))\n",
    "print(b)\n",
    "c = 30\n",
    "print(hex(id(c)))\n",
    "\n",
    "del a # 객체의 삭제\n",
    "# print(hex(id(a)))"
   ]
  },
  {
   "cell_type": "markdown",
   "id": "b764baf3-ee61-4e71-a312-91e17c19445a",
   "metadata": {},
   "source": [
    "### 파이썬 자료형\n",
    "- 정수형 : int형"
   ]
  },
  {
   "cell_type": "code",
   "execution_count": 12,
   "id": "e69fdc2c-4a0f-4aba-a0e6-dde21f89ecea",
   "metadata": {},
   "outputs": [
    {
     "name": "stdout",
     "output_type": "stream",
     "text": [
      "12345\n",
      "<class 'int'>\n"
     ]
    },
    {
     "data": {
      "text/plain": [
       "['__abs__',\n",
       " '__add__',\n",
       " '__and__',\n",
       " '__bool__',\n",
       " '__ceil__',\n",
       " '__class__',\n",
       " '__delattr__',\n",
       " '__dir__',\n",
       " '__divmod__',\n",
       " '__doc__',\n",
       " '__eq__',\n",
       " '__float__',\n",
       " '__floor__',\n",
       " '__floordiv__',\n",
       " '__format__',\n",
       " '__ge__',\n",
       " '__getattribute__',\n",
       " '__getnewargs__',\n",
       " '__getstate__',\n",
       " '__gt__',\n",
       " '__hash__',\n",
       " '__index__',\n",
       " '__init__',\n",
       " '__init_subclass__',\n",
       " '__int__',\n",
       " '__invert__',\n",
       " '__le__',\n",
       " '__lshift__',\n",
       " '__lt__',\n",
       " '__mod__',\n",
       " '__mul__',\n",
       " '__ne__',\n",
       " '__neg__',\n",
       " '__new__',\n",
       " '__or__',\n",
       " '__pos__',\n",
       " '__pow__',\n",
       " '__radd__',\n",
       " '__rand__',\n",
       " '__rdivmod__',\n",
       " '__reduce__',\n",
       " '__reduce_ex__',\n",
       " '__repr__',\n",
       " '__rfloordiv__',\n",
       " '__rlshift__',\n",
       " '__rmod__',\n",
       " '__rmul__',\n",
       " '__ror__',\n",
       " '__round__',\n",
       " '__rpow__',\n",
       " '__rrshift__',\n",
       " '__rshift__',\n",
       " '__rsub__',\n",
       " '__rtruediv__',\n",
       " '__rxor__',\n",
       " '__setattr__',\n",
       " '__sizeof__',\n",
       " '__str__',\n",
       " '__sub__',\n",
       " '__subclasshook__',\n",
       " '__truediv__',\n",
       " '__trunc__',\n",
       " '__xor__',\n",
       " 'as_integer_ratio',\n",
       " 'bit_count',\n",
       " 'bit_length',\n",
       " 'conjugate',\n",
       " 'denominator',\n",
       " 'from_bytes',\n",
       " 'imag',\n",
       " 'numerator',\n",
       " 'real',\n",
       " 'to_bytes']"
      ]
     },
     "execution_count": 12,
     "metadata": {},
     "output_type": "execute_result"
    }
   ],
   "source": [
    "a = 12345\n",
    "b = 100\n",
    "print(a)\n",
    "print(type(a))\n",
    "dir(a)"
   ]
  },
  {
   "cell_type": "markdown",
   "id": "cc863fe2-22f0-405b-a016-bf02dfd20417",
   "metadata": {},
   "source": [
    "* 실수형 : float 형"
   ]
  },
  {
   "cell_type": "code",
   "execution_count": 33,
   "id": "ef00746f-46c1-4f65-b1a6-267dfb3c6c9b",
   "metadata": {},
   "outputs": [
    {
     "name": "stdout",
     "output_type": "stream",
     "text": [
      "10.54\n"
     ]
    },
    {
     "name": "stdin",
     "output_type": "stream",
     "text": [
      " \n"
     ]
    },
    {
     "name": "stdout",
     "output_type": "stream",
     "text": [
      "<class 'float'>\n"
     ]
    },
    {
     "name": "stdin",
     "output_type": "stream",
     "text": [
      " \n"
     ]
    },
    {
     "name": "stdout",
     "output_type": "stream",
     "text": [
      "10.0 <class 'float'>\n",
      "<class 'float'>\n"
     ]
    },
    {
     "name": "stdin",
     "output_type": "stream",
     "text": [
      " \n"
     ]
    },
    {
     "name": "stdout",
     "output_type": "stream",
     "text": [
      "<class 'float'>\n"
     ]
    }
   ],
   "source": [
    "a = 10\n",
    "f = 10.54\n",
    "print(f)\n",
    "print(type(f))\n",
    "b = float(a) # 형변환\n",
    "print(b,type(b))\n",
    "d = 10.          # 소수점 뒤의 0은 생략가능\n",
    "print(type(d))\n",
    "e = .5\n",
    "print(type(e))   # 소수점 앞의 0은 생략가능"
   ]
  },
  {
   "cell_type": "code",
   "execution_count": 26,
   "id": "80fff897-e8c8-40b6-b385-e9da89822da4",
   "metadata": {},
   "outputs": [
    {
     "name": "stdout",
     "output_type": "stream",
     "text": [
      "13\n",
      "7\n",
      "3.3333333333333335\n",
      "3\n",
      "1000\n"
     ]
    }
   ],
   "source": [
    "### 사칙 연산 : +, -, *, /, %, //, **\n",
    "a = 10\n",
    "b = 3\n",
    "c = a + b\n",
    "print(c)\n",
    "\n",
    "c = a - b\n",
    "print(c)\n",
    "\n",
    "c = a * b\n",
    "print(c)\n",
    "\n",
    "f = a / b    # float형\n",
    "print(f)\n",
    "\n",
    "print(a//b)  # 정수 몫\n",
    "print(a**b)  # 10^3, 10의 3제곱"
   ]
  },
  {
   "cell_type": "markdown",
   "id": "b4079ca3-9a3e-4d74-a4f7-17670352f8a3",
   "metadata": {},
   "source": [
    "### 표준 입출력\n",
    "#### 1. 표준 입력 : 변수 = input()"
   ]
  },
  {
   "cell_type": "code",
   "execution_count": 31,
   "id": "bb049814-3db4-4ec2-aedc-4d2e3c3a6fea",
   "metadata": {},
   "outputs": [
    {
     "name": "stdin",
     "output_type": "stream",
     "text": [
      " hello\n"
     ]
    },
    {
     "name": "stdout",
     "output_type": "stream",
     "text": [
      "hello\n"
     ]
    }
   ],
   "source": [
    "a = input()\n",
    "print(a)"
   ]
  },
  {
   "cell_type": "markdown",
   "id": "660971ff-60e7-4dcf-b73e-c9881cb986ae",
   "metadata": {},
   "source": [
    "### 2. 표준 출력 : print()"
   ]
  },
  {
   "cell_type": "code",
   "execution_count": 37,
   "id": "cf3e604e-61ed-40ca-a1b6-211402d660db",
   "metadata": {},
   "outputs": [
    {
     "name": "stdout",
     "output_type": "stream",
     "text": [
      "1 2 3 4\n"
     ]
    }
   ],
   "source": [
    "print(1,2,end=' ') # 줄바꿈 대신에 space를 사용\n",
    "print(3,4)"
   ]
  },
  {
   "cell_type": "code",
   "execution_count": 39,
   "id": "7fd6bbe1-0e89-4613-b6f2-e08189dae9e3",
   "metadata": {},
   "outputs": [
    {
     "name": "stdout",
     "output_type": "stream",
     "text": [
      "5:6:7\n"
     ]
    }
   ],
   "source": [
    "print(5,6,7,sep=':')  # space대신에 ':'으로 출력 "
   ]
  },
  {
   "cell_type": "code",
   "execution_count": 40,
   "id": "7083d410-955b-4955-8759-beab49ebe3ba",
   "metadata": {},
   "outputs": [
    {
     "name": "stdout",
     "output_type": "stream",
     "text": [
      "int형: 10\n",
      "float형: 1.234000\n",
      "16진수: 0xa\n",
      "문자열: Hello Python\n",
      "문자열: Hello Python int형: 10\n"
     ]
    }
   ],
   "source": [
    "num_1 = 10\n",
    "num_2 = 1.234\n",
    "str_1 = 'Hello Python'\n",
    "\n",
    "print('int형: %d'%num_1)   \n",
    "print('float형: %f'%num_2)\n",
    "print('16진수: 0x%x'%num_1)\n",
    "print('문자열: %s'%str_1)\n",
    "      \n",
    "print('문자열: %s int형: %d'%(str_1,num_1))"
   ]
  },
  {
   "cell_type": "code",
   "execution_count": 43,
   "id": "27e41322-cd89-42f6-bc76-d84db8d7f651",
   "metadata": {},
   "outputs": [
    {
     "name": "stdout",
     "output_type": "stream",
     "text": [
      "1.234560\n",
      "apple / 7.77\n",
      "apple       7.770\n",
      "     apple  7.770\n",
      "  apple     7.770\n",
      "apple=====  7.770\n",
      "**apple***  7.770\n"
     ]
    }
   ],
   "source": [
    "# format() 함수\n",
    "print(format(1.23456,'7.6f')) # 전체 7 자리, 소숫점 6 자리\n",
    "\n",
    "# 추천 방법\n",
    "print('{0} / {1}'.format('apple',7.77))\n",
    "\n",
    "print('{0:<10}{1:7.3f}'.format('apple',7.77)) # 10 자리 왼쪽으로 정렬 \n",
    "print('{0:>10}{1:7.3f}'.format('apple',7.77)) # 10 자리 오른쪽으로 정렬 \n",
    "print('{0:^10}{1:7.3f}'.format('apple',7.77)) # 10 자리 가운데로 정렬 \n",
    "\n",
    "print('{0:=<10}{1:7.3f}'.format('apple',7.77)) # 빈칸을 '='기호로 채움 \n",
    "print('{0:*^10}{1:7.3f}'.format('apple',7.77)) # 빈칸을 '*'기호로 채움 "
   ]
  },
  {
   "cell_type": "code",
   "execution_count": null,
   "id": "3e3ca7f2-4371-4296-a95f-68c7ea901d69",
   "metadata": {},
   "outputs": [],
   "source": []
  }
 ],
 "metadata": {
  "kernelspec": {
   "display_name": "Python 3 (ipykernel)",
   "language": "python",
   "name": "python3"
  },
  "language_info": {
   "codemirror_mode": {
    "name": "ipython",
    "version": 3
   },
   "file_extension": ".py",
   "mimetype": "text/x-python",
   "name": "python",
   "nbconvert_exporter": "python",
   "pygments_lexer": "ipython3",
   "version": "3.11.7"
  }
 },
 "nbformat": 4,
 "nbformat_minor": 5
}
