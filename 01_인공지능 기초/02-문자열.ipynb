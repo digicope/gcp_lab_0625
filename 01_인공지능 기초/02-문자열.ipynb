{
 "cells": [
  {
   "cell_type": "markdown",
   "id": "495e1420-baee-43b0-8ec9-df975b533dc9",
   "metadata": {},
   "source": [
    "### 문자열(string) : 불변형(immutable), 시퀀스형\n",
    "- 문자열은 요소를 수정할수 없는 자료형, 순서를 갖는 자료형 "
   ]
  },
  {
   "cell_type": "code",
   "execution_count": 8,
   "id": "5d3ac8ba-8e68-4b1a-be42-41ef2f946605",
   "metadata": {},
   "outputs": [
    {
     "name": "stdout",
     "output_type": "stream",
     "text": [
      "Hello Python\n",
      "<class 'str'>\n",
      "Good Bye\n",
      "\n",
      "Desc : This is a test code!\n",
      "Date : 2024-06-26\n",
      "(C) copyright\n",
      "\n",
      "this is a 'double' quotation\n"
     ]
    }
   ],
   "source": [
    "a = \"Hello Python\"\n",
    "print(a)\n",
    "print(type(a))\n",
    "\n",
    "b = 'Good Bye'\n",
    "print(b)\n",
    "\n",
    "# \\ 는 줄바꿈\n",
    "c = \\\n",
    "'''\n",
    "Desc : This is a test code!\n",
    "Date : 2024-06-26\n",
    "(C) copyright\n",
    "'''\n",
    "print(c)\n",
    "\n",
    "d = \"this is a 'double' quotation\"\n",
    "print(d)"
   ]
  },
  {
   "cell_type": "markdown",
   "id": "1b20f802-2dda-432c-a078-1079a8696970",
   "metadata": {},
   "source": [
    "### 문자열의 indexing 과 slicing"
   ]
  },
  {
   "cell_type": "code",
   "execution_count": 31,
   "id": "bfcdba20-53f3-4d4a-8b7c-21e28c8aaf53",
   "metadata": {},
   "outputs": [
    {
     "name": "stdout",
     "output_type": "stream",
     "text": [
      "Life is too short, you need python\n",
      "L i f e t i L\n",
      "n o h\n"
     ]
    }
   ],
   "source": [
    "# indexing : 문자열의 요소를 접근하는 방법, a[index] , 처음 0번으로 시작\n",
    "a = 'Life is too short, you need python'\n",
    "print(a)\n",
    "\n",
    "print(a[0],a[1],a[2],a[3],a[8],a[True],a[False]) # True ==> 1, False ==> 0\n",
    "print(a[-1],a[-2],a[-3])    # -1 맨 마지막 요소 , 뒤에서부터 인덱싱\n",
    "# print(a[len(a) - 1 ])\n",
    "\n",
    "b = a[0]   # OK! \n",
    "# a[0] = 'n' # TypeError: 'str' object does not support item assignment\n",
    "             # 불변형 데이터는 요소 수정이 불가"
   ]
  },
  {
   "cell_type": "code",
   "execution_count": 50,
   "id": "d64a2ea7-41c3-4ce7-9f0f-b8b89b01b4d4",
   "metadata": {},
   "outputs": [
    {
     "name": "stdout",
     "output_type": "stream",
     "text": [
      "Lif\n",
      "Life is to\n",
      "o\n",
      "Life is too short, you need python\n",
      "too short, you need python\n",
      "Life is too short, you need pytho\n",
      "pytho\n",
      "Lesosr ue \n",
      "Lf stosot o edpto\n",
      "nohtyp deen uoy ,trohs oot si efiL\n"
     ]
    },
    {
     "ename": "TypeError",
     "evalue": "'str' object does not support item assignment",
     "output_type": "error",
     "traceback": [
      "\u001b[1;31m---------------------------------------------------------------------------\u001b[0m",
      "\u001b[1;31mTypeError\u001b[0m                                 Traceback (most recent call last)",
      "Cell \u001b[1;32mIn[50], line 19\u001b[0m\n\u001b[0;32m     16\u001b[0m \u001b[38;5;28mprint\u001b[39m(a[::\u001b[38;5;241m-\u001b[39m\u001b[38;5;241m1\u001b[39m])     \u001b[38;5;66;03m# 전체 요소의 순서를 거꾸로 바꾼다\u001b[39;00m\n\u001b[0;32m     18\u001b[0m b \u001b[38;5;241m=\u001b[39m a[:\u001b[38;5;241m3\u001b[39m]      \u001b[38;5;66;03m# OK!\u001b[39;00m\n\u001b[1;32m---> 19\u001b[0m a[:\u001b[38;5;241m3\u001b[39m] \u001b[38;5;241m=\u001b[39m \u001b[38;5;124m'\u001b[39m\u001b[38;5;124mnif\u001b[39m\u001b[38;5;124m'\u001b[39m\n",
      "\u001b[1;31mTypeError\u001b[0m: 'str' object does not support item assignment"
     ]
    }
   ],
   "source": [
    "# slicing :    a[start:end + 1:step]   , start <= data < end + 1\n",
    "a = 'Life is too short, you need python'\n",
    "print(a[0:3])     # from 0 to (3 - 1)\n",
    "print(a[0:10])    # from 0 to (10 - 1)\n",
    "print(a[9:10])    # from 0 to (10 - 1)\n",
    "\n",
    "print(a[:])       # 처음부터 끝까지 , print(a[0:34])와 동일한 결과\n",
    "print(a[8:])      # 8번 요소 부터  끝까지 , print(a[8:34])와 동일한 결과\n",
    "\n",
    "print(a[:-1])      # 마지막 문자만 제외\n",
    "print(a[-6:-1])\n",
    "print(a[:30:3])    # 처음 부터 29번째 까지 3개의 간격으로 slicing\n",
    "print(a[::2])      # 처음 부터 끝까지 2개의 간격으로 slicing \n",
    "\n",
    "print(a[::-1])     # 전체 요소의 순서를 거꾸로 바꾼다\n",
    "\n",
    "b = a[:3]          # OK!\n",
    "# a[:3] = 'nif'   # TypeError: 'str' object does not support item assignment\n",
    "                  # 불변형 데이터는 요소 수정이 불가"
   ]
  },
  {
   "cell_type": "code",
   "execution_count": 16,
   "id": "d5fef30d-1048-49c4-b622-60e18cfbb0b1",
   "metadata": {},
   "outputs": [
    {
     "data": {
      "text/plain": [
       "4"
      ]
     },
     "execution_count": 16,
     "metadata": {},
     "output_type": "execute_result"
    }
   ],
   "source": []
  },
  {
   "cell_type": "code",
   "execution_count": null,
   "id": "5be6ce7a-b803-4b0c-8f78-4c8422380824",
   "metadata": {},
   "outputs": [],
   "source": []
  }
 ],
 "metadata": {
  "kernelspec": {
   "display_name": "Python 3 (ipykernel)",
   "language": "python",
   "name": "python3"
  },
  "language_info": {
   "codemirror_mode": {
    "name": "ipython",
    "version": 3
   },
   "file_extension": ".py",
   "mimetype": "text/x-python",
   "name": "python",
   "nbconvert_exporter": "python",
   "pygments_lexer": "ipython3",
   "version": "3.11.7"
  }
 },
 "nbformat": 4,
 "nbformat_minor": 5
}
