{
 "cells": [
  {
   "cell_type": "markdown",
   "id": "9c527d55-d9a9-43b2-8492-d98b494d713d",
   "metadata": {},
   "source": [
    "### 함수(function)"
   ]
  },
  {
   "cell_type": "code",
   "execution_count": 1,
   "id": "2b123ee9-d645-4dec-bbe0-33112cca0178",
   "metadata": {},
   "outputs": [],
   "source": [
    "# 함수 구현 방법\n",
    "# '''\n",
    "# def 함수명(매개변수,.....):\n",
    "#     <수행할 문장1>\n",
    "#     <수행할 문장2>\n",
    "#     <수행할 문장3>\n",
    "#     ..\n",
    "#     return 반환할값\n",
    "# '''"
   ]
  },
  {
   "cell_type": "code",
   "execution_count": 14,
   "id": "77d48206-fe98-4b8b-9832-90c78637d533",
   "metadata": {},
   "outputs": [
    {
     "name": "stdout",
     "output_type": "stream",
     "text": [
      "<class 'function'>\n",
      "add is called!\n",
      "30\n",
      "subtract is called!\n",
      "-10\n",
      "multiply is called!\n",
      "200\n",
      "divide is called!\n",
      "0.5\n",
      "add is called!\n",
      "25.6\n",
      "add is called!\n",
      "GoodMorning\n",
      "add is called!\n",
      "[1, 2, 3, 4, 5, 6]\n"
     ]
    }
   ],
   "source": [
    "# 함수 정의\n",
    "def add(a,b):\n",
    "    c = a + b\n",
    "    print('add is called!')\n",
    "    return c\n",
    "\n",
    "def subtract(a,b):\n",
    "    c = a - b\n",
    "    print('subtract is called!')\n",
    "    return c\n",
    "\n",
    "def multiply(a,b):\n",
    "    c = a * b\n",
    "    print('multiply is called!')\n",
    "    return c\n",
    "\n",
    "def divide(a,b):\n",
    "    c = a / b\n",
    "    print('divide is called!')\n",
    "    return c\n",
    "    \n",
    "print(type(add))  # class 'function'\n",
    "dir(add)          # '__call__' : 호출 가능\n",
    "\n",
    "# 함수 호출\n",
    "c = add(10,20)\n",
    "print(c)\n",
    "\n",
    "c = subtract(10,20)\n",
    "print(c)\n",
    "\n",
    "c = multiply(10,20)\n",
    "print(c)\n",
    "\n",
    "c = divide(10,20)\n",
    "print(c)\n",
    "\n",
    "print(add(5.5,20.1))\n",
    "print(add('Good','Morning'))\n",
    "print(add([1,2,3],[4,5,6]))"
   ]
  },
  {
   "cell_type": "code",
   "execution_count": 19,
   "id": "58528e04-574d-4540-be7b-502e0f497836",
   "metadata": {},
   "outputs": [],
   "source": [
    "### 함수 구현 순서\n",
    "#### (1) def 를 사용하고 함수이름을 결정\n",
    "#### (2) 매개변수(인자)를 결정\n",
    "#### (3) 인자를 사용하여 처리하는 코드를 구현\n",
    "#### (4) return 을 사용하여 결과값을 반환\n",
    "#### (5) 인자를 설정하여 함수를 호출하여 결과를 확인"
   ]
  },
  {
   "cell_type": "code",
   "execution_count": null,
   "id": "6d8fea9b-d49f-4ca4-873f-1266cae7c0b4",
   "metadata": {},
   "outputs": [],
   "source": [
    "# 함수의 유형 4가지\n",
    "# [1] 반환값이 없고 인자도 없는 경우\n",
    "def f_1():\n",
    "    print('f_1 is callled!')\n",
    "    \n",
    "print(f_1())   # None \n",
    "print(type(None))"
   ]
  },
  {
   "cell_type": "code",
   "execution_count": null,
   "id": "4cfbc020-0d05-4289-84d6-3f66c8e41911",
   "metadata": {},
   "outputs": [],
   "source": [
    "# [2] 반환값이 없고 인자는 있는 경우\n",
    "def f_2(a,b):\n",
    "    print('f_2 is called!')\n",
    "    print(a + b, a - b)\n",
    "\n",
    "print(f_2(10,3))  "
   ]
  },
  {
   "cell_type": "code",
   "execution_count": null,
   "id": "473ec447-cc73-4008-9f94-bbe24b13c6ed",
   "metadata": {},
   "outputs": [],
   "source": [
    "# [3] 반환값이 있고 인자는 없는 경우\n",
    "def f_3():\n",
    "    print('f_3 is called!')\n",
    "    return 'Bread','Butter',100,[1,2,3]\n",
    "\n",
    "ret = f_3()\n",
    "print(ret)\n",
    "print(type(ret))\n",
    "\n",
    "a,b,c,_ = f_3()    # 튜플의 언패킹\n",
    "print(a,b,c)"
   ]
  },
  {
   "cell_type": "code",
   "execution_count": 31,
   "id": "df7e780f-496d-4342-b7b6-5fb06a64973a",
   "metadata": {},
   "outputs": [
    {
     "name": "stdout",
     "output_type": "stream",
     "text": [
      "f_4 is called!\n",
      "(8, -2, 15, 0.6)\n"
     ]
    }
   ],
   "source": [
    "# [4] 반환값이 있고 인자도 있는 경우\n",
    "def f_4(a,b):\n",
    "    print('f_4 is called!')\n",
    "    return a+b,a-b,a*b,a/b\n",
    "\n",
    "print(f_4(3,5))"
   ]
  },
  {
   "cell_type": "code",
   "execution_count": 33,
   "id": "d679af2b-0853-4919-ad0f-0866b054b0d0",
   "metadata": {},
   "outputs": [
    {
     "name": "stdout",
     "output_type": "stream",
     "text": [
      "(5, 3)\n",
      "(5, 3)\n",
      "('yes', 'hello')\n"
     ]
    }
   ],
   "source": [
    "# 문제 1: 두 개의 정수형 인자를 주면, 큰 수, 작은 수의 순서로 반환하는 함수 order()를 구현\n",
    "# 3,5 ==> 5,3\n",
    "# 5,3 ==> 5,3\n",
    "def order(a,b):\n",
    "    if a < b:\n",
    "        a,b = b,a\n",
    "    return a,b\n",
    "print(order(3,5)) # (5,3)\n",
    "print(order(5,3)) # (5,3)\n",
    "print(order('hello','yes'))"
   ]
  },
  {
   "cell_type": "code",
   "execution_count": null,
   "id": "8d07c249-f713-41e8-bbe5-976672e4f1dd",
   "metadata": {},
   "outputs": [],
   "source": []
  },
  {
   "cell_type": "code",
   "execution_count": 38,
   "id": "11db711a-d5f3-40af-937d-737b2a2900d8",
   "metadata": {},
   "outputs": [
    {
     "name": "stdout",
     "output_type": "stream",
     "text": [
      "Global: 10\n",
      "foo: 20\n",
      "bar: 30 20\n"
     ]
    }
   ],
   "source": [
    "# 함수 사용시 변수의 유효 범위 규칙 (Scope Rule)\n",
    "# local 변수 : 지역 변수  , 변수가 선언된 함수내에서만 사용가능\n",
    "# global 변수 : 전역 변수 , 모든 함수안에서 접근 가능\n",
    "# LEGB 규칙 : Local > Enclosing Function Local > Global > Built-in\n",
    "# 핵심 : 지역변수가 전역변수보다 우선한다!!\n",
    "\n",
    "x = 10           # G:전역변수(Global Variable)\n",
    "y = 11           # G:전역변수(Global Variable)\n",
    "\n",
    "def foo():\n",
    "    x = 20       #  L:지역변수(Local Variable)  \n",
    "    print('foo:',x)\n",
    "\n",
    "    def bar():   \n",
    "        a = 30   #  L:지역변수(Local Variable)  \n",
    "        print('bar:',a,x)  # a: L,  x: E\n",
    "\n",
    "    bar()\n",
    "print('Global:',x)\n",
    "foo()"
   ]
  },
  {
   "cell_type": "code",
   "execution_count": 40,
   "id": "ba3e1fac-f95c-4f0e-911c-6d52db33b8b7",
   "metadata": {},
   "outputs": [],
   "source": []
  },
  {
   "cell_type": "markdown",
   "id": "5c7ecc7b-433e-4eed-88a7-91f3d7870446",
   "metadata": {},
   "source": [
    "### 일급함수(First Class Function) : 함수이름을 변수처럼 사용가능하다\n",
    "#### (1) 함수객체를 다른 함수의 인자로 전달할 수 있다\n",
    "#### (2) 함수객체를 반환 값으로 전달할 수 있다\n",
    "#### (3) 함수객체를 다른 자료 구조에 저장해서 사용 가능"
   ]
  },
  {
   "cell_type": "code",
   "execution_count": 6,
   "id": "919d6af6-6f49-413b-97d7-64094648cc29",
   "metadata": {},
   "outputs": [
    {
     "name": "stdout",
     "output_type": "stream",
     "text": [
      "func_two is called!!\n",
      "add_two is called!!\n",
      "30\n"
     ]
    }
   ],
   "source": [
    "# (1) 함수객체를 다른 함수의 인자로 전달할 수 있다\n",
    "def add_two(a,b):                # (4)\n",
    "    print('add_two is called!!')\n",
    "    return a + b                 # (5)\n",
    "# b = add_two\n",
    "# b(10,20)\n",
    "\n",
    "def func_two(func,a,b):           # (2)\n",
    "    print('func_two is called!!')\n",
    "    result = func(a,b)            # (3)\n",
    "    return result                 # (6)\n",
    "    \n",
    "result = func_two(add_two,10,20)   # (1)\n",
    "print(result)                      # (7)"
   ]
  },
  {
   "cell_type": "code",
   "execution_count": 7,
   "id": "7180d654-ed0d-47eb-8929-4c377eb96578",
   "metadata": {},
   "outputs": [
    {
     "name": "stdout",
     "output_type": "stream",
     "text": [
      "foo2 is called!!\n",
      "<class 'function'>\n",
      "bar2 is called!!\n"
     ]
    }
   ],
   "source": [
    "# (2) 함수객체를 반환 값으로 전달할 수 있다\n",
    "def foo2():\n",
    "    print('foo2 is called!!')\n",
    "    \n",
    "    def bar2():\n",
    "        print('bar2 is called!!')\n",
    "        \n",
    "    return bar2    \n",
    "\n",
    "ret = foo2()\n",
    "print(type(ret))\n",
    "ret()"
   ]
  },
  {
   "cell_type": "code",
   "execution_count": 14,
   "id": "f2d44494-1f05-4195-bb08-052695e84484",
   "metadata": {},
   "outputs": [
    {
     "name": "stdout",
     "output_type": "stream",
     "text": [
      "[<function add at 0x0000021BC1980680>, <function subtract at 0x0000021BC0CE2700>, <function multiply at 0x0000021BC0D976A0>, <function divide at 0x0000021BC0D958A0>]\n",
      "add is called!\n",
      "30\n",
      "subtract is called!\n",
      "-10\n",
      "multiply is called!\n",
      "200\n",
      "divide is called!\n",
      "0.5\n",
      "--------------------\n",
      "add is called!\n",
      "30\n",
      "subtract is called!\n",
      "-10\n",
      "multiply is called!\n",
      "200\n",
      "divide is called!\n",
      "0.5\n"
     ]
    }
   ],
   "source": [
    "# (3) 함수객체를 다른 자료 구조에 저장해서 사용 가능\n",
    "def add(a,b):\n",
    "    c = a + b\n",
    "    print('add is called!')\n",
    "    return c\n",
    "\n",
    "def subtract(a,b):\n",
    "    c = a - b\n",
    "    print('subtract is called!')\n",
    "    return c\n",
    "\n",
    "def multiply(a,b):\n",
    "    c = a * b\n",
    "    print('multiply is called!')\n",
    "    return c\n",
    "\n",
    "def divide(a,b):\n",
    "    c = a / b\n",
    "    print('divide is called!')\n",
    "    return c\n",
    "\n",
    "# list 사용\n",
    "func_list = [add,subtract,multiply,divide]\n",
    "print(func_list)\n",
    "\n",
    "print(func_list[0](10,20))\n",
    "print(func_list[1](10,20))\n",
    "print(func_list[2](10,20))\n",
    "print(func_list[3](10,20))\n",
    "\n",
    "print('-'*20)\n",
    "for k in func_list:\n",
    "    print(k(10,20))"
   ]
  },
  {
   "cell_type": "markdown",
   "id": "6cc0db45-3459-42eb-878f-bc154f5edf1f",
   "metadata": {},
   "source": [
    "### 람다(lambda) 함수 , 람다식\n",
    "#### : 한줄 짜리 함수식, 식을 정의하는 순간 바로 함수 객체로 사용, 바로 인수로 전달할 수 있다, def 키워드를 사용하지 않는다\n",
    "#### 함수명 = lambda 인수1,인수2,..: 반환할 식"
   ]
  },
  {
   "cell_type": "code",
   "execution_count": 19,
   "id": "955d71b2-5ad4-48f1-8c01-367b3a41bde0",
   "metadata": {},
   "outputs": [
    {
     "name": "stdout",
     "output_type": "stream",
     "text": [
      "<class 'function'>\n",
      "<class 'function'>\n"
     ]
    },
    {
     "data": {
      "text/plain": [
       "30"
      ]
     },
     "execution_count": 19,
     "metadata": {},
     "output_type": "execute_result"
    }
   ],
   "source": [
    "def add(a,b):\n",
    "    return a + b\n",
    "add(3,4) \n",
    "add(10,20)\n",
    "print(type(add))\n",
    "\n",
    "add_new = lambda a,b : a + b\n",
    "print(type(add_new))\n",
    "add_new(10,20)"
   ]
  },
  {
   "cell_type": "code",
   "execution_count": 30,
   "id": "ead4ba33-9ca4-4a0a-b23b-54cd36352e64",
   "metadata": {},
   "outputs": [
    {
     "name": "stdout",
     "output_type": "stream",
     "text": [
      "[2, 5, 10, 17]\n",
      "[3, 5, 7, 9]\n",
      "--------------------\n",
      "[2, 5, 10, 17]\n",
      "[3, 5, 7, 9]\n",
      "[3, 13, 37, 81]\n"
     ]
    }
   ],
   "source": [
    "def f1(x):\n",
    "    return x*x + 1\n",
    "\n",
    "def f2(x):\n",
    "    return 2*x + 1\n",
    "\n",
    "def g(func):\n",
    "    return [func(x) for x in range(1,5)]\n",
    "    \n",
    "# print([f1(1),f1(2),f1(3),f1(4)])\n",
    "# print([f1(x) for x in range(1,5)])\n",
    "\n",
    "print(g(f1))\n",
    "print(g(f2))\n",
    "print('-'*20)\n",
    "# 람다 함수를 사용하여 구현\n",
    "print(g(lambda x:x*x + 1))\n",
    "print(g(lambda x:2*x + 1))\n",
    "print(g(lambda x:x**3 + x**2 + 1))"
   ]
  },
  {
   "cell_type": "code",
   "execution_count": null,
   "id": "bf90075c-42d5-4025-98cf-a6f8442a9df4",
   "metadata": {},
   "outputs": [],
   "source": [
    "def g(func):\n",
    "    return [func(x) for x in range(1,5)]\n",
    "    \n",
    "print(g(lambda x:x*x + 1))\n",
    "print(g(lambda x:2*x + 1))\n",
    "print(g(lambda x:x**3 + x**2 + 1))"
   ]
  },
  {
   "cell_type": "markdown",
   "id": "a2ec5f82-ce61-41fd-b3ea-2a7540c03167",
   "metadata": {},
   "source": [
    "### 파이썬 내장(Built-in) 함수\n",
    ":map()/max()/min()/sum()/round()/id()/hex()/zip()등 다양한 내장 함수가 존재"
   ]
  },
  {
   "cell_type": "code",
   "execution_count": 34,
   "id": "de41f665-415d-48a0-b1fd-b58da369a205",
   "metadata": {},
   "outputs": [
    {
     "name": "stdout",
     "output_type": "stream",
     "text": [
      "<class 'map'>\n",
      "multi_two is called!!\n",
      "multi_two is called!!\n",
      "multi_two is called!!\n",
      "multi_two is called!!\n",
      "multi_two is called!!\n",
      "multi_two is called!!\n",
      "[2, 4, 6, 8, 10, 12]\n"
     ]
    }
   ],
   "source": [
    "# map()함수\n",
    "def multi_two(x):\n",
    "    print('multi_two is called!!')\n",
    "    return x*2\n",
    "\n",
    "ret = map(multi_two, [1,2,3,4,5,6])   # map객체를 생성 \n",
    "print(type(ret))                      # <class 'map'>\n",
    "print(list(ret))  # list로 형 변환 , map객체로 데이터 접근시에 함수가 실제 호출됨"
   ]
  },
  {
   "cell_type": "code",
   "execution_count": 35,
   "id": "820e1f16-7bc5-4cb3-829b-618f1c57215f",
   "metadata": {},
   "outputs": [
    {
     "data": {
      "text/plain": [
       "['__class__',\n",
       " '__delattr__',\n",
       " '__dir__',\n",
       " '__doc__',\n",
       " '__eq__',\n",
       " '__format__',\n",
       " '__ge__',\n",
       " '__getattribute__',\n",
       " '__getstate__',\n",
       " '__gt__',\n",
       " '__hash__',\n",
       " '__init__',\n",
       " '__init_subclass__',\n",
       " '__iter__',\n",
       " '__le__',\n",
       " '__lt__',\n",
       " '__ne__',\n",
       " '__new__',\n",
       " '__next__',\n",
       " '__reduce__',\n",
       " '__reduce_ex__',\n",
       " '__repr__',\n",
       " '__setattr__',\n",
       " '__sizeof__',\n",
       " '__str__',\n",
       " '__subclasshook__']"
      ]
     },
     "execution_count": 35,
     "metadata": {},
     "output_type": "execute_result"
    }
   ],
   "source": [
    "# map객체\n",
    "dir(ret)  # '__next__',"
   ]
  },
  {
   "cell_type": "code",
   "execution_count": 44,
   "id": "6603a740-1d9e-4ad2-a0fe-8bb0642dbdc7",
   "metadata": {},
   "outputs": [],
   "source": [
    "ret = map(multi_two, [1,2,3,4,5,6])"
   ]
  },
  {
   "cell_type": "code",
   "execution_count": 45,
   "id": "85b0f665-d20d-40e6-9831-1956f115cb7f",
   "metadata": {},
   "outputs": [],
   "source": [
    "# next(ret)"
   ]
  },
  {
   "cell_type": "code",
   "execution_count": 46,
   "id": "5b0c033d-a859-447d-a8d1-3368ab843665",
   "metadata": {},
   "outputs": [
    {
     "name": "stdout",
     "output_type": "stream",
     "text": [
      "[2, 4, 6, 8, 10, 12]\n"
     ]
    }
   ],
   "source": [
    "# 문제 : 아래 코드를 람다 함수를 사용하여 구현해 보세요(def를 사용하지 않고 람다식으로 함수객체 생성)\n",
    "# def multi_two(x):     # 함수를 반복해서 재사용할 예정인 경우에는 def를 사용한다\n",
    "#     return x*2\n",
    "\n",
    "# ret = map(multi_two,[1,2,3,4,5,6])\n",
    "# print(list(ret))\n",
    "\n",
    "ret = map(lambda x: x*2,[1,2,3,4,5,6]) # 한번만 사용될 함수는 람다함수를 사용\n",
    "print(list(ret))"
   ]
  },
  {
   "cell_type": "code",
   "execution_count": null,
   "id": "71199aa7-22b2-48c0-b6a0-5e53e6de0580",
   "metadata": {},
   "outputs": [],
   "source": []
  }
 ],
 "metadata": {
  "kernelspec": {
   "display_name": "Python 3 (ipykernel)",
   "language": "python",
   "name": "python3"
  },
  "language_info": {
   "codemirror_mode": {
    "name": "ipython",
    "version": 3
   },
   "file_extension": ".py",
   "mimetype": "text/x-python",
   "name": "python",
   "nbconvert_exporter": "python",
   "pygments_lexer": "ipython3",
   "version": "3.11.7"
  }
 },
 "nbformat": 4,
 "nbformat_minor": 5
}
