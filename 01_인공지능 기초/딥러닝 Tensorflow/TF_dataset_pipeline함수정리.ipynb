{
 "cells": [
  {
   "cell_type": "code",
   "execution_count": 2,
   "id": "20e608c2-befd-4a3b-8d95-acefd22fc484",
   "metadata": {
    "tags": []
   },
   "outputs": [],
   "source": [
    "import tensorflow as tf"
   ]
  },
  {
   "cell_type": "code",
   "execution_count": 3,
   "id": "cf78805c-32f4-4ca0-9c6a-a91a72509014",
   "metadata": {
    "tags": []
   },
   "outputs": [
    {
     "name": "stdout",
     "output_type": "stream",
     "text": [
      "[0, 1, 2, 3, 4, 5, 6, 7, 8, 9]\n",
      "[[0, 1, 2, 3, 4], [1, 2, 3, 4, 5], [2, 3, 4, 5, 6], [3, 4, 5, 6, 7], [4, 5, 6, 7, 8], [5, 6, 7, 8, 9], [6, 7, 8, 9], [7, 8, 9], [8, 9], [9]]\n"
     ]
    }
   ],
   "source": [
    "size = 5\n",
    "data = list(range(10))\n",
    "print(data)     # [0, 1, 2, 3, 4, 5, 6, 7, 8, 9]\n",
    "X=[]\n",
    "for i in range(len(data)):\n",
    "    _X = data[i:size+ i]\n",
    "    X.insert(i,_X)\n",
    "print(X)"
   ]
  },
  {
   "cell_type": "markdown",
   "id": "aaa57079-42e9-4ffa-a031-0f3b4500c58e",
   "metadata": {},
   "source": [
    "## range() / window()"
   ]
  },
  {
   "cell_type": "code",
   "execution_count": 20,
   "id": "862afab4-1772-4643-9418-3679c1721e8c",
   "metadata": {
    "tags": []
   },
   "outputs": [
    {
     "name": "stdout",
     "output_type": "stream",
     "text": [
      "<class 'tensorflow.python.data.ops.window_op._WindowDataset'>\n",
      "0,1,2,3,4,\n",
      "1,2,3,4,5,\n",
      "2,3,4,5,6,\n",
      "3,4,5,6,7,\n",
      "4,5,6,7,8,\n",
      "5,6,7,8,9,\n"
     ]
    },
    {
     "name": "stderr",
     "output_type": "stream",
     "text": [
      "2024-07-24 02:03:46.135665: W tensorflow/core/framework/dataset.cc:959] Input of Window will not be optimized because the dataset does not implement the AsGraphDefInternal() method needed to apply optimizations.\n"
     ]
    }
   ],
   "source": [
    "dataset = tf.data.Dataset.range(10) \n",
    "# print(type(dataset))\n",
    "# for val in dataset:\n",
    "#     print(val.numpy())\n",
    "\n",
    "# dataset = dataset.window(5, shift=1) \n",
    "dataset = dataset.window(5, shift=1,drop_remainder=True)  # 나머지는 제거\n",
    "print(type(dataset))\n",
    "for window_dataset in dataset:     \n",
    "    for val in window_dataset:   \n",
    "        print(val.numpy(), end=\",\")\n",
    "    print()"
   ]
  },
  {
   "cell_type": "markdown",
   "id": "171ea6a2-2708-4e84-938d-ba045ba2957f",
   "metadata": {},
   "source": [
    "## batch()"
   ]
  },
  {
   "cell_type": "code",
   "execution_count": 38,
   "id": "eaf5edc4-13ca-46f0-9b00-a070816c0a18",
   "metadata": {
    "tags": []
   },
   "outputs": [
    {
     "name": "stdout",
     "output_type": "stream",
     "text": [
      "<class 'tensorflow.python.data.ops.batch_op._BatchDataset'>\n",
      "[0 1 2 3 4 5 6 7 8 9]\n",
      "[10 11 12 13 14 15 16 17 18 19]\n",
      "[20 21 22 23 24 25 26 27 28 29]\n",
      "[30 31 32 33 34 35 36 37 38 39]\n",
      "[40 41 42 43 44 45 46 47 48 49]\n",
      "[50 51 52 53 54 55 56 57 58 59]\n",
      "[60 61 62 63 64 65 66 67 68 69]\n",
      "[70 71 72 73 74 75 76 77 78 79]\n",
      "[80 81 82 83 84 85 86 87 88 89]\n",
      "[90 91 92 93 94 95 96 97 98 99]\n"
     ]
    }
   ],
   "source": [
    "dataset = tf.data.Dataset.range(100)\n",
    "dataset = dataset.batch(10)\n",
    "print(type(dataset))\n",
    "for val in dataset:\n",
    "    print(val.numpy())"
   ]
  },
  {
   "cell_type": "code",
   "execution_count": 26,
   "id": "dc1cb853-0578-4202-b59a-216b72097be4",
   "metadata": {
    "tags": []
   },
   "outputs": [
    {
     "data": {
      "text/plain": [
       "[<tf.Tensor: shape=(3,), dtype=int64, numpy=array([0, 1, 2])>,\n",
       " <tf.Tensor: shape=(3,), dtype=int64, numpy=array([3, 4, 5])>,\n",
       " <tf.Tensor: shape=(3,), dtype=int64, numpy=array([6, 7, 8])>,\n",
       " <tf.Tensor: shape=(1,), dtype=int64, numpy=array([9])>]"
      ]
     },
     "execution_count": 26,
     "metadata": {},
     "output_type": "execute_result"
    }
   ],
   "source": []
  },
  {
   "cell_type": "markdown",
   "id": "15d4f71b-5d8a-4f67-b612-a4c1798d00c5",
   "metadata": {},
   "source": [
    "## flat_map()"
   ]
  },
  {
   "cell_type": "code",
   "execution_count": 51,
   "id": "4baca1ac-24a7-47c2-bdfc-6fe949b1b730",
   "metadata": {
    "tags": []
   },
   "outputs": [
    {
     "name": "stdout",
     "output_type": "stream",
     "text": [
      "0,1,2,3,4,\n",
      "1,2,3,4,5,\n",
      "2,3,4,5,6,\n",
      "3,4,5,6,7,\n",
      "4,5,6,7,8,\n",
      "5,6,7,8,9,\n",
      "--------------------------------------------------\n",
      "[0 1 2 3 4]\n",
      "--------------------------------------------------\n",
      "[1 2 3 4 5]\n",
      "--------------------------------------------------\n",
      "[2 3 4 5 6]\n",
      "--------------------------------------------------\n",
      "[3 4 5 6 7]\n",
      "--------------------------------------------------\n",
      "[4 5 6 7 8]\n",
      "--------------------------------------------------\n",
      "[5 6 7 8 9]\n",
      "--------------------------------------------------\n"
     ]
    },
    {
     "name": "stderr",
     "output_type": "stream",
     "text": [
      "2024-07-24 04:17:28.938914: W tensorflow/core/framework/dataset.cc:959] Input of Window will not be optimized because the dataset does not implement the AsGraphDefInternal() method needed to apply optimizations.\n"
     ]
    }
   ],
   "source": [
    "dataset = tf.data.Dataset.range(10)\n",
    "dataset = dataset.window(5, shift=1, drop_remainder=True)\n",
    "# print(dataset)\n",
    "for window_dataset in dataset:     \n",
    "    for val in window_dataset:   \n",
    "        print(val.numpy(), end=\",\")\n",
    "    print()\n",
    "    \n",
    "print('-'*50)\n",
    "dataset = dataset.flat_map(lambda window: window.batch(5))\n",
    "for window in dataset:\n",
    "    print(window.numpy())\n",
    "    print('-'*50)\n",
    "    # input()"
   ]
  },
  {
   "cell_type": "markdown",
   "id": "bbf66b54-9aaf-4782-a3fc-0c4770fd21de",
   "metadata": {},
   "source": [
    "## map()"
   ]
  },
  {
   "cell_type": "code",
   "execution_count": 50,
   "id": "4be9e3fb-609a-43f0-b6ad-1fbd321b8465",
   "metadata": {
    "tags": []
   },
   "outputs": [
    {
     "name": "stdout",
     "output_type": "stream",
     "text": [
      "[0 1 2 3] [4]\n",
      "[1 2 3 4] [5]\n",
      "[2 3 4 5] [6]\n",
      "[3 4 5 6] [7]\n",
      "[4 5 6 7] [8]\n",
      "[5 6 7 8] [9]\n"
     ]
    }
   ],
   "source": [
    "dataset = tf.data.Dataset.range(10)\n",
    "dataset = dataset.window(5, shift=1, drop_remainder=True)\n",
    "dataset = dataset.flat_map(lambda window: window.batch(5))\n",
    "dataset = dataset.map(lambda window: (window[:-1], window[-1:]))\n",
    "for x,y in dataset:\n",
    "    print(x.numpy(), y.numpy())"
   ]
  },
  {
   "cell_type": "markdown",
   "id": "6b04ec02-79eb-4146-8502-0ceb29248af8",
   "metadata": {
    "tags": []
   },
   "source": [
    "## shuffle()"
   ]
  },
  {
   "cell_type": "code",
   "execution_count": 64,
   "id": "b89c349b-5f72-4c1a-b830-00fa58300e72",
   "metadata": {
    "tags": []
   },
   "outputs": [
    {
     "name": "stdout",
     "output_type": "stream",
     "text": [
      "[3 4 5 6] [7]\n",
      "[0 1 2 3] [4]\n",
      "[5 6 7 8] [9]\n",
      "[4 5 6 7] [8]\n",
      "[1 2 3 4] [5]\n",
      "[2 3 4 5] [6]\n"
     ]
    }
   ],
   "source": [
    "dataset = tf.data.Dataset.range(10)\n",
    "dataset = dataset.window(5, shift=1, drop_remainder=True)\n",
    "dataset = dataset.flat_map(lambda window: window.batch(5))\n",
    "dataset = dataset.map(lambda window: (window[:-1], window[-1:]))\n",
    "dataset = dataset.shuffle(buffer_size=10)\n",
    "for x,y in dataset:\n",
    "    print(x.numpy(), y.numpy())"
   ]
  },
  {
   "cell_type": "markdown",
   "id": "d4181a07-7b48-45f3-bff7-dc02b18ca0d6",
   "metadata": {},
   "source": [
    "## prefetch()"
   ]
  },
  {
   "cell_type": "code",
   "execution_count": 70,
   "id": "0530d2bc-e154-4298-a468-1ae055e7236e",
   "metadata": {
    "tags": []
   },
   "outputs": [
    {
     "name": "stdout",
     "output_type": "stream",
     "text": [
      "[[3 4 5 6]\n",
      " [2 3 4 5]] , [[7]\n",
      " [6]]\n",
      "[[4 5 6 7]\n",
      " [0 1 2 3]] , [[8]\n",
      " [4]]\n",
      "[[5 6 7 8]\n",
      " [1 2 3 4]] , [[9]\n",
      " [5]]\n"
     ]
    }
   ],
   "source": [
    "dataset = tf.data.Dataset.range(10)\n",
    "dataset = dataset.window(5, shift=1, drop_remainder=True)\n",
    "dataset = dataset.flat_map(lambda window: window.batch(5))\n",
    "dataset = dataset.map(lambda window: (window[:-1], window[-1:]))\n",
    "dataset = dataset.shuffle(buffer_size=10)\n",
    "dataset = dataset.batch(2).prefetch(1)\n",
    "# prefetch(1)을 호출하면 데이터셋은 항상 한 배치가 미리 준비되도록한다 \n",
    "for x,y in dataset:\n",
    "    print(\"x = \", x.numpy())\n",
    "    print(\"y = \", y.numpy())"
   ]
  },
  {
   "cell_type": "markdown",
   "id": "0d05b284-f071-4842-8b1e-ff3bb45fbe4a",
   "metadata": {},
   "source": [
    "## from_tensor_slices()"
   ]
  },
  {
   "cell_type": "code",
   "execution_count": 76,
   "id": "4c54aac2-981d-4339-8ee9-b9d47200873b",
   "metadata": {
    "tags": []
   },
   "outputs": [
    {
     "data": {
      "text/plain": [
       "[1, 2, 3]"
      ]
     },
     "execution_count": 76,
     "metadata": {},
     "output_type": "execute_result"
    }
   ],
   "source": [
    "# Slicing a 1D tensor produces scalar tensor elements.\n",
    "dataset = tf.data.Dataset.from_tensor_slices([1, 2, 3])\n",
    "list(dataset.as_numpy_iterator())"
   ]
  },
  {
   "cell_type": "code",
   "execution_count": 77,
   "id": "e2408cc6-46ae-489a-8b4a-5071268d5d53",
   "metadata": {
    "tags": []
   },
   "outputs": [
    {
     "data": {
      "text/plain": [
       "[array([1, 2], dtype=int32), array([3, 4], dtype=int32)]"
      ]
     },
     "execution_count": 77,
     "metadata": {},
     "output_type": "execute_result"
    }
   ],
   "source": [
    "# Slicing a 2D tensor produces 1D tensor elements.\n",
    "dataset = tf.data.Dataset.from_tensor_slices([[1, 2], [3, 4]])\n",
    "list(dataset.as_numpy_iterator())"
   ]
  },
  {
   "cell_type": "code",
   "execution_count": 80,
   "id": "e87f597e-a000-4e54-b102-566966491c06",
   "metadata": {
    "tags": []
   },
   "outputs": [
    {
     "data": {
      "text/plain": [
       "[(1, 3, 5), (2, 4, 6)]"
      ]
     },
     "execution_count": 80,
     "metadata": {},
     "output_type": "execute_result"
    }
   ],
   "source": [
    "# Slicing a tuple of 1D tensors produces tuple elements containing\n",
    "# scalar tensors.\n",
    "dataset = tf.data.Dataset.from_tensor_slices(([1, 2], [3, 4], [5, 6]))\n",
    "list(dataset.as_numpy_iterator())"
   ]
  },
  {
   "cell_type": "code",
   "execution_count": 82,
   "id": "15d1b6a6-eadb-4949-b9b3-3009abb88288",
   "metadata": {
    "tags": []
   },
   "outputs": [
    {
     "data": {
      "text/plain": [
       "[{'a': 1, 'b': 3}, {'a': 2, 'b': 4}]"
      ]
     },
     "execution_count": 82,
     "metadata": {},
     "output_type": "execute_result"
    }
   ],
   "source": [
    "# Dictionary structure is also preserved.\n",
    "dataset = tf.data.Dataset.from_tensor_slices({\"a\": [1, 2], \"b\": [3, 4]})\n",
    "list(dataset.as_numpy_iterator())"
   ]
  },
  {
   "cell_type": "code",
   "execution_count": null,
   "id": "22ae73f0-d50a-4c2f-b8d5-0e157379eb2c",
   "metadata": {},
   "outputs": [],
   "source": []
  }
 ],
 "metadata": {
  "environment": {
   "kernel": "python3",
   "name": "tf2-gpu.2-6.m120",
   "type": "gcloud",
   "uri": "us-docker.pkg.dev/deeplearning-platform-release/gcr.io/tf2-gpu.2-6:m120"
  },
  "kernelspec": {
   "display_name": "Python 3 (Local)",
   "language": "python",
   "name": "python3"
  },
  "language_info": {
   "codemirror_mode": {
    "name": "ipython",
    "version": 3
   },
   "file_extension": ".py",
   "mimetype": "text/x-python",
   "name": "python",
   "nbconvert_exporter": "python",
   "pygments_lexer": "ipython3",
   "version": "3.9.19"
  }
 },
 "nbformat": 4,
 "nbformat_minor": 5
}
