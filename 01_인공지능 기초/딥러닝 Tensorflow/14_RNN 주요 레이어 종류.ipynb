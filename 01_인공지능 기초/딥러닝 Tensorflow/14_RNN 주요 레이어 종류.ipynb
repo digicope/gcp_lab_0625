{
 "cells": [
  {
   "cell_type": "markdown",
   "id": "b9be8aba-12fa-4166-b3f2-52bb2a2cd722",
   "metadata": {},
   "source": [
    "### * RNN 주요 레이어 종류\n",
    "#### (1) SimpleRNN :가장 간단한 형태의 RNN레이어, 활성화 함수로 tanh가 사용됨(tanh: -1 ~ 1 사이의 값을 반환)\n",
    "#### (2) LSTM(Long short Term Memory) : 입력 데이터와 출력 사이의 거리가 멀어질수로 연관 관계가 적어진다(Long Term Dependency,장기의존성 문제), LSTM은 장기 의존성 문제를 해결하기 위해 출력값외에 셀상태(cell state)값을 출력함, 활성화 함수로 tanh외에 sigmoid가 사용됨\n",
    "#### (3) GRU(Gated Recurent Unit) : 뉴욕대 조경현 교수 등이 제안, LSTM보다 구조가 간단하고 성능이 우수함"
   ]
  },
  {
   "cell_type": "code",
   "execution_count": 1,
   "id": "ede9e4a0-c060-4369-935c-e4a9ed576e12",
   "metadata": {},
   "outputs": [],
   "source": [
    "import tensorflow as tf\n",
    "import numpy as np"
   ]
  },
  {
   "cell_type": "code",
   "execution_count": 2,
   "id": "f97bb6b4-8c6c-4b96-b727-6f2cd73d7fa5",
   "metadata": {},
   "outputs": [
    {
     "name": "stdout",
     "output_type": "stream",
     "text": [
      "(6, 4, 1) (6,)\n"
     ]
    },
    {
     "data": {
      "text/plain": [
       "<tf.Tensor: shape=(6, 4, 1), dtype=float32, numpy=\n",
       "array([[[0.],\n",
       "        [1.],\n",
       "        [2.],\n",
       "        [3.]],\n",
       "\n",
       "       [[1.],\n",
       "        [2.],\n",
       "        [3.],\n",
       "        [4.]],\n",
       "\n",
       "       [[2.],\n",
       "        [3.],\n",
       "        [4.],\n",
       "        [5.]],\n",
       "\n",
       "       [[3.],\n",
       "        [4.],\n",
       "        [5.],\n",
       "        [6.]],\n",
       "\n",
       "       [[4.],\n",
       "        [5.],\n",
       "        [6.],\n",
       "        [7.]],\n",
       "\n",
       "       [[5.],\n",
       "        [6.],\n",
       "        [7.],\n",
       "        [8.]]], dtype=float32)>"
      ]
     },
     "execution_count": 2,
     "metadata": {},
     "output_type": "execute_result"
    }
   ],
   "source": [
    "# Sequence data\n",
    "X = np.array([[0,1,2,3],\n",
    "              [1,2,3,4],\n",
    "              [2,3,4,5],\n",
    "              [3,4,5,6],\n",
    "              [4,5,6,7],\n",
    "              [5,6,7,8]],dtype=np.float32)\n",
    "\n",
    "x_data = tf.reshape(X,(-1,4,1))  # (6,4,1)\n",
    "\n",
    "y_data = np.array([4,5,6,7,8,9],dtype=np.float32)\n",
    "\n",
    "print(x_data.shape,y_data.shape)\n",
    "# print(type(x_data),type(y_data))\n",
    "x_data"
   ]
  },
  {
   "cell_type": "markdown",
   "id": "7fc431b6-d77e-47ba-b747-52cb8af5cccd",
   "metadata": {},
   "source": [
    "### [1] SimpleRNN\n",
    "#### 가장 간단한 형태의 RNN "
   ]
  },
  {
   "cell_type": "code",
   "execution_count": 13,
   "id": "e219329c-4714-4a9d-9511-773b51f29520",
   "metadata": {},
   "outputs": [
    {
     "name": "stdout",
     "output_type": "stream",
     "text": [
      "Model: \"sequential_8\"\n",
      "_________________________________________________________________\n",
      " Layer (type)                Output Shape              Param #   \n",
      "=================================================================\n",
      " simple_rnn_11 (SimpleRNN)   (None, 4, 300)            90600     \n",
      "                                                                 \n",
      " simple_rnn_12 (SimpleRNN)   (None, 300)               180300    \n",
      "                                                                 \n",
      " dense_2 (Dense)             (None, 1)                 301       \n",
      "                                                                 \n",
      "=================================================================\n",
      "Total params: 271,201\n",
      "Trainable params: 271,201\n",
      "Non-trainable params: 0\n",
      "_________________________________________________________________\n"
     ]
    }
   ],
   "source": [
    "# RNN 순환 신경망 구현  : SimpleRNN\n",
    "model = tf.keras.Sequential([\n",
    "    # X: (N,D) , Wx:(D,H), Wh : (H,H), b: H\n",
    "    #    (6,1)    (1,300)    (300,300)  300  --> 1*300+300*300+300 = 90600개의 Param\n",
    "    # (N,T,D) : (6,4,1)  ---> (N,T,H) : (6,4,300) , T는 sequence_length, H는 Hidden Size\n",
    "    # return_sequences=True는 3차원(N,T,H)로 출력 \n",
    "    # return_sequences=False는 2차원(N,H)로 출력 ,기본 값\n",
    "\n",
    "    tf.keras.layers.SimpleRNN(units=300,return_sequences=True,input_shape=(4,1)),\n",
    "    tf.keras.layers.SimpleRNN(units=300),\n",
    "    tf.keras.layers.Dense(1)\n",
    "])\n",
    "\n",
    "model.compile(optimizer='adam',loss='mse')\n",
    "model.summary()"
   ]
  },
  {
   "cell_type": "code",
   "execution_count": 14,
   "id": "a82aa53e-4dca-4074-9d97-e51e928fee79",
   "metadata": {},
   "outputs": [
    {
     "name": "stdout",
     "output_type": "stream",
     "text": [
      "Epoch 1/100\n",
      "1/1 [==============================] - 1s 1s/step - loss: 49.1176\n",
      "Epoch 2/100\n",
      "1/1 [==============================] - 0s 16ms/step - loss: 1.4358\n",
      "Epoch 3/100\n",
      "1/1 [==============================] - 0s 37ms/step - loss: 5.8578\n",
      "Epoch 4/100\n",
      "1/1 [==============================] - 0s 71ms/step - loss: 8.4519\n",
      "Epoch 5/100\n",
      "1/1 [==============================] - 0s 33ms/step - loss: 4.8521\n",
      "Epoch 6/100\n",
      "1/1 [==============================] - 0s 29ms/step - loss: 1.6162\n",
      "Epoch 7/100\n",
      "1/1 [==============================] - 0s 17ms/step - loss: 2.0512\n",
      "Epoch 8/100\n",
      "1/1 [==============================] - 0s 11ms/step - loss: 3.7644\n",
      "Epoch 9/100\n",
      "1/1 [==============================] - 0s 14ms/step - loss: 3.6613\n",
      "Epoch 10/100\n",
      "1/1 [==============================] - 0s 10ms/step - loss: 2.2605\n",
      "Epoch 11/100\n",
      "1/1 [==============================] - 0s 11ms/step - loss: 1.1009\n",
      "Epoch 12/100\n",
      "1/1 [==============================] - 0s 11ms/step - loss: 0.7756\n",
      "Epoch 13/100\n",
      "1/1 [==============================] - 0s 12ms/step - loss: 1.0198\n",
      "Epoch 14/100\n",
      "1/1 [==============================] - 0s 12ms/step - loss: 1.3261\n",
      "Epoch 15/100\n",
      "1/1 [==============================] - 0s 13ms/step - loss: 1.3516\n",
      "Epoch 16/100\n",
      "1/1 [==============================] - 0s 11ms/step - loss: 1.0730\n",
      "Epoch 17/100\n",
      "1/1 [==============================] - 0s 11ms/step - loss: 0.7260\n",
      "Epoch 18/100\n",
      "1/1 [==============================] - 0s 12ms/step - loss: 0.6187\n",
      "Epoch 19/100\n",
      "1/1 [==============================] - 0s 12ms/step - loss: 0.8218\n",
      "Epoch 20/100\n",
      "1/1 [==============================] - 0s 14ms/step - loss: 1.0094\n",
      "Epoch 21/100\n",
      "1/1 [==============================] - 0s 12ms/step - loss: 0.9039\n",
      "Epoch 22/100\n",
      "1/1 [==============================] - 0s 10ms/step - loss: 0.6379\n",
      "Epoch 23/100\n",
      "1/1 [==============================] - 0s 10ms/step - loss: 0.4901\n",
      "Epoch 24/100\n",
      "1/1 [==============================] - 0s 11ms/step - loss: 0.5338\n",
      "Epoch 25/100\n",
      "1/1 [==============================] - 0s 10ms/step - loss: 0.6351\n",
      "Epoch 26/100\n",
      "1/1 [==============================] - 0s 10ms/step - loss: 0.6431\n",
      "Epoch 27/100\n",
      "1/1 [==============================] - 0s 10ms/step - loss: 0.5280\n",
      "Epoch 28/100\n",
      "1/1 [==============================] - 0s 14ms/step - loss: 0.3844\n",
      "Epoch 29/100\n",
      "1/1 [==============================] - 0s 11ms/step - loss: 0.3328\n",
      "Epoch 30/100\n",
      "1/1 [==============================] - 0s 9ms/step - loss: 0.3882\n",
      "Epoch 31/100\n",
      "1/1 [==============================] - 0s 13ms/step - loss: 0.4280\n",
      "Epoch 32/100\n",
      "1/1 [==============================] - 0s 10ms/step - loss: 0.3567\n",
      "Epoch 33/100\n",
      "1/1 [==============================] - 0s 13ms/step - loss: 0.2419\n",
      "Epoch 34/100\n",
      "1/1 [==============================] - 0s 18ms/step - loss: 0.1950\n",
      "Epoch 35/100\n",
      "1/1 [==============================] - 0s 8ms/step - loss: 0.2202\n",
      "Epoch 36/100\n",
      "1/1 [==============================] - 0s 14ms/step - loss: 0.2397\n",
      "Epoch 37/100\n",
      "1/1 [==============================] - 0s 20ms/step - loss: 0.2012\n",
      "Epoch 38/100\n",
      "1/1 [==============================] - 0s 15ms/step - loss: 0.1339\n",
      "Epoch 39/100\n",
      "1/1 [==============================] - 0s 10ms/step - loss: 0.1050\n",
      "Epoch 40/100\n",
      "1/1 [==============================] - 0s 12ms/step - loss: 0.1307\n",
      "Epoch 41/100\n",
      "1/1 [==============================] - 0s 11ms/step - loss: 0.1457\n",
      "Epoch 42/100\n",
      "1/1 [==============================] - 0s 11ms/step - loss: 0.1077\n",
      "Epoch 43/100\n",
      "1/1 [==============================] - 0s 11ms/step - loss: 0.0655\n",
      "Epoch 44/100\n",
      "1/1 [==============================] - 0s 11ms/step - loss: 0.0671\n",
      "Epoch 45/100\n",
      "1/1 [==============================] - 0s 11ms/step - loss: 0.0860\n",
      "Epoch 46/100\n",
      "1/1 [==============================] - 0s 10ms/step - loss: 0.0764\n",
      "Epoch 47/100\n",
      "1/1 [==============================] - 0s 11ms/step - loss: 0.0445\n",
      "Epoch 48/100\n",
      "1/1 [==============================] - 0s 12ms/step - loss: 0.0341\n",
      "Epoch 49/100\n",
      "1/1 [==============================] - 0s 11ms/step - loss: 0.0512\n",
      "Epoch 50/100\n",
      "1/1 [==============================] - 0s 12ms/step - loss: 0.0525\n",
      "Epoch 51/100\n",
      "1/1 [==============================] - 0s 12ms/step - loss: 0.0303\n",
      "Epoch 52/100\n",
      "1/1 [==============================] - 0s 11ms/step - loss: 0.0246\n",
      "Epoch 53/100\n",
      "1/1 [==============================] - 0s 13ms/step - loss: 0.0385\n",
      "Epoch 54/100\n",
      "1/1 [==============================] - 0s 12ms/step - loss: 0.0398\n",
      "Epoch 55/100\n",
      "1/1 [==============================] - 0s 16ms/step - loss: 0.0258\n",
      "Epoch 56/100\n",
      "1/1 [==============================] - 0s 12ms/step - loss: 0.0241\n",
      "Epoch 57/100\n",
      "1/1 [==============================] - 0s 11ms/step - loss: 0.0350\n",
      "Epoch 58/100\n",
      "1/1 [==============================] - 0s 13ms/step - loss: 0.0322\n",
      "Epoch 59/100\n",
      "1/1 [==============================] - 0s 18ms/step - loss: 0.0221\n",
      "Epoch 60/100\n",
      "1/1 [==============================] - 0s 13ms/step - loss: 0.0251\n",
      "Epoch 61/100\n",
      "1/1 [==============================] - 0s 14ms/step - loss: 0.0305\n",
      "Epoch 62/100\n",
      "1/1 [==============================] - 0s 7ms/step - loss: 0.0249\n",
      "Epoch 63/100\n",
      "1/1 [==============================] - 0s 23ms/step - loss: 0.0200\n",
      "Epoch 64/100\n",
      "1/1 [==============================] - 0s 23ms/step - loss: 0.0246\n",
      "Epoch 65/100\n",
      "1/1 [==============================] - 0s 18ms/step - loss: 0.0254\n",
      "Epoch 66/100\n",
      "1/1 [==============================] - 0s 12ms/step - loss: 0.0196\n",
      "Epoch 67/100\n",
      "1/1 [==============================] - 0s 13ms/step - loss: 0.0197\n",
      "Epoch 68/100\n",
      "1/1 [==============================] - 0s 10ms/step - loss: 0.0226\n",
      "Epoch 69/100\n",
      "1/1 [==============================] - 0s 10ms/step - loss: 0.0197\n",
      "Epoch 70/100\n",
      "1/1 [==============================] - 0s 11ms/step - loss: 0.0165\n",
      "Epoch 71/100\n",
      "1/1 [==============================] - 0s 10ms/step - loss: 0.0183\n",
      "Epoch 72/100\n",
      "1/1 [==============================] - 0s 10ms/step - loss: 0.0180\n",
      "Epoch 73/100\n",
      "1/1 [==============================] - 0s 10ms/step - loss: 0.0145\n",
      "Epoch 74/100\n",
      "1/1 [==============================] - 0s 11ms/step - loss: 0.0145\n",
      "Epoch 75/100\n",
      "1/1 [==============================] - 0s 17ms/step - loss: 0.0153\n",
      "Epoch 76/100\n",
      "1/1 [==============================] - 0s 12ms/step - loss: 0.0131\n",
      "Epoch 77/100\n",
      "1/1 [==============================] - 0s 12ms/step - loss: 0.0119\n",
      "Epoch 78/100\n",
      "1/1 [==============================] - 0s 12ms/step - loss: 0.0129\n",
      "Epoch 79/100\n",
      "1/1 [==============================] - 0s 11ms/step - loss: 0.0121\n",
      "Epoch 80/100\n",
      "1/1 [==============================] - 0s 13ms/step - loss: 0.0106\n",
      "Epoch 81/100\n",
      "1/1 [==============================] - 0s 12ms/step - loss: 0.0111\n",
      "Epoch 82/100\n",
      "1/1 [==============================] - 0s 14ms/step - loss: 0.0110\n",
      "Epoch 83/100\n",
      "1/1 [==============================] - 0s 14ms/step - loss: 0.0096\n",
      "Epoch 84/100\n",
      "1/1 [==============================] - 0s 12ms/step - loss: 0.0097\n",
      "Epoch 85/100\n",
      "1/1 [==============================] - 0s 11ms/step - loss: 0.0098\n",
      "Epoch 86/100\n",
      "1/1 [==============================] - 0s 13ms/step - loss: 0.0089\n",
      "Epoch 87/100\n",
      "1/1 [==============================] - 0s 11ms/step - loss: 0.0086\n",
      "Epoch 88/100\n",
      "1/1 [==============================] - 0s 14ms/step - loss: 0.0089\n",
      "Epoch 89/100\n",
      "1/1 [==============================] - 0s 9ms/step - loss: 0.0083\n",
      "Epoch 90/100\n",
      "1/1 [==============================] - 0s 10ms/step - loss: 0.0079\n",
      "Epoch 91/100\n",
      "1/1 [==============================] - 0s 15ms/step - loss: 0.0081\n",
      "Epoch 92/100\n",
      "1/1 [==============================] - 0s 11ms/step - loss: 0.0077\n",
      "Epoch 93/100\n",
      "1/1 [==============================] - 0s 10ms/step - loss: 0.0073\n",
      "Epoch 94/100\n",
      "1/1 [==============================] - 0s 10ms/step - loss: 0.0073\n",
      "Epoch 95/100\n",
      "1/1 [==============================] - 0s 10ms/step - loss: 0.0069\n",
      "Epoch 96/100\n",
      "1/1 [==============================] - 0s 13ms/step - loss: 0.0066\n",
      "Epoch 97/100\n",
      "1/1 [==============================] - 0s 10ms/step - loss: 0.0066\n",
      "Epoch 98/100\n",
      "1/1 [==============================] - 0s 10ms/step - loss: 0.0063\n",
      "Epoch 99/100\n",
      "1/1 [==============================] - 0s 12ms/step - loss: 0.0059\n",
      "Epoch 100/100\n",
      "1/1 [==============================] - 0s 12ms/step - loss: 0.0059\n",
      "1/1 [==============================] - 0s 198ms/step\n",
      "[[4.013008 ]\n",
      " [4.9533567]\n",
      " [5.997008 ]\n",
      " [7.101748 ]\n",
      " [8.087962 ]\n",
      " [8.88395  ]]\n"
     ]
    }
   ],
   "source": [
    "# 학습 및 예측\n",
    "model.fit(x_data,y_data,epochs=100)\n",
    "print(model.predict(x_data))"
   ]
  },
  {
   "cell_type": "code",
   "execution_count": 12,
   "id": "0aed7b48-ead6-4845-b0c2-74dbfd06817a",
   "metadata": {},
   "outputs": [
    {
     "data": {
      "text/plain": [
       "array([4., 5., 6., 7., 8., 9.], dtype=float32)"
      ]
     },
     "execution_count": 12,
     "metadata": {},
     "output_type": "execute_result"
    }
   ],
   "source": [
    "y_data"
   ]
  },
  {
   "cell_type": "code",
   "execution_count": 16,
   "id": "1d07db7d-133b-4e42-b317-cd67d311e43e",
   "metadata": {},
   "outputs": [
    {
     "name": "stdout",
     "output_type": "stream",
     "text": [
      "1/1 [==============================] - 0s 20ms/step\n",
      "[[9.487042]]\n",
      "1/1 [==============================] - 0s 19ms/step\n",
      "[[1.2237161]]\n"
     ]
    }
   ],
   "source": [
    "# 학습되지 않은 입력 데이터에 대한 예측 결과\n",
    "print(model.predict(np.array([[[6.],[7.],[8.],[9.]]])))\n",
    "print(model.predict(np.array([[[-1.],[0.],[1.],[2.]]])))"
   ]
  },
  {
   "cell_type": "code",
   "execution_count": 17,
   "id": "720cebf9-1ee5-4146-b579-1a5cbbeaf17e",
   "metadata": {},
   "outputs": [
    {
     "name": "stdout",
     "output_type": "stream",
     "text": [
      "1/1 [==============================] - 0s 285ms/step - loss: 0.0057\n"
     ]
    },
    {
     "data": {
      "text/plain": [
       "0.005651883315294981"
      ]
     },
     "execution_count": 17,
     "metadata": {},
     "output_type": "execute_result"
    }
   ],
   "source": [
    "# 평가\n",
    "model.evaluate(x_data, y_data)"
   ]
  },
  {
   "cell_type": "code",
   "execution_count": null,
   "id": "1ba19240-1732-4852-b051-baa29f7c3123",
   "metadata": {},
   "outputs": [],
   "source": []
  }
 ],
 "metadata": {
  "kernelspec": {
   "display_name": "Python 3 (ipykernel)",
   "language": "python",
   "name": "python3"
  },
  "language_info": {
   "codemirror_mode": {
    "name": "ipython",
    "version": 3
   },
   "file_extension": ".py",
   "mimetype": "text/x-python",
   "name": "python",
   "nbconvert_exporter": "python",
   "pygments_lexer": "ipython3",
   "version": "3.10.14"
  }
 },
 "nbformat": 4,
 "nbformat_minor": 5
}
