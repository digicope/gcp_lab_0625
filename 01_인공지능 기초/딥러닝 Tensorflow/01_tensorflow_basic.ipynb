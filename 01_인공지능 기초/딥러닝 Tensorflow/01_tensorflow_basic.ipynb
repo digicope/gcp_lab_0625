{
 "cells": [
  {
   "cell_type": "code",
   "execution_count": 1,
   "id": "a0a71cc7-2818-432a-bd6c-da539dd5edf6",
   "metadata": {},
   "outputs": [
    {
     "data": {
      "text/plain": [
       "'2.10.0'"
      ]
     },
     "execution_count": 1,
     "metadata": {},
     "output_type": "execute_result"
    }
   ],
   "source": [
    "import tensorflow as tf\n",
    "tf.__version__"
   ]
  },
  {
   "cell_type": "code",
   "execution_count": 4,
   "id": "e2f808f5-2583-4540-8ff0-48c9beaf57e2",
   "metadata": {},
   "outputs": [
    {
     "data": {
      "text/plain": [
       "[name: \"/device:CPU:0\"\n",
       " device_type: \"CPU\"\n",
       " memory_limit: 268435456\n",
       " locality {\n",
       " }\n",
       " incarnation: 7096578526550350833\n",
       " xla_global_id: -1,\n",
       " name: \"/device:GPU:0\"\n",
       " device_type: \"GPU\"\n",
       " memory_limit: 10067378176\n",
       " locality {\n",
       "   bus_id: 1\n",
       "   links {\n",
       "   }\n",
       " }\n",
       " incarnation: 10021701445642839614\n",
       " physical_device_desc: \"device: 0, name: NVIDIA GeForce RTX 3060, pci bus id: 0000:01:00.0, compute capability: 8.6\"\n",
       " xla_global_id: 416903419]"
      ]
     },
     "execution_count": 4,
     "metadata": {},
     "output_type": "execute_result"
    }
   ],
   "source": [
    "from tensorflow.python.client import device_lib\n",
    "device_lib.list_local_devices()"
   ]
  },
  {
   "cell_type": "code",
   "execution_count": 1,
   "id": "91be7b61-879c-4370-b11c-824251fcf8f8",
   "metadata": {},
   "outputs": [
    {
     "name": "stdout",
     "output_type": "stream",
     "text": [
      "tf.Tensor(b'Hello Tensorflow!!', shape=(), dtype=string)\n",
      "tf.Tensor(\n",
      "[[1. 3.]\n",
      " [3. 7.]], shape=(2, 2), dtype=float32)\n"
     ]
    }
   ],
   "source": [
    "import tensorflow as tf\n",
    "import numpy as np\n",
    "# 상수 : tf.constant()\n",
    "s = tf.constant(\"Hello Tensorflow!!\")\n",
    "print(s)\n",
    "\n",
    "a = tf.constant([[1.,2.],\n",
    "                 [3.,4.]])\n",
    "b = tf.constant([[1.,1.],\n",
    "                 [0.,1.]])\n",
    "c = tf.matmul(a,b) # 내적 곱셈\n",
    "print(c)"
   ]
  },
  {
   "cell_type": "code",
   "execution_count": 2,
   "id": "8eb35b5b-548d-46df-85c6-57a0176f4458",
   "metadata": {},
   "outputs": [
    {
     "name": "stdout",
     "output_type": "stream",
     "text": [
      "tf.Tensor(300, shape=(), dtype=int32)\n"
     ]
    }
   ],
   "source": [
    "# 변수 : tf.Variable()\n",
    "# 초기 값이 미리 설정,주로 텐서플로 내부에서 연산시 변경되는 변수에 사용,weight과 bias\n",
    "a = tf.Variable(100)\n",
    "b = tf.Variable(200)\n",
    "c = tf.add(a,b)\n",
    "print(c)"
   ]
  },
  {
   "cell_type": "markdown",
   "id": "8b44e20f-d9cf-4515-86c9-b41f22faa2f8",
   "metadata": {},
   "source": [
    "### tf.Tensor: 텐서 객체\n",
    "#### 텐서는 다차원 배열로 넘파이(NumPy) ndarray 객체와 비슷하며,\n",
    "#### tf.Tensor 객체는 데이터 타입과 크기를 가지고 있다.\n",
    "#### 또한 tf.Tensor는 GPU 같은 가속기 메모리에 상주할 수 있다.\n",
    "#### 텐서플로는 텐서를 생성하고 이용하는 풍부한 연산 라이브러리(tf.add, tf.matmul, tf.linalg.inv 등.)를 제공하며\n",
    "#### 연산수행 시 자동으로 텐서를 파이썬 네이티브(native) 타입으로 변환하여 연산한다"
   ]
  },
  {
   "cell_type": "code",
   "execution_count": 7,
   "id": "46db2bf6-9783-4fb5-a5ff-a5e3663e2306",
   "metadata": {},
   "outputs": [
    {
     "name": "stdout",
     "output_type": "stream",
     "text": [
      "tf.Tensor(3, shape=(), dtype=int32)\n",
      "tf.Tensor([4 6], shape=(2,), dtype=int32)\n",
      "tf.Tensor(25, shape=(), dtype=int32)\n",
      "tf.Tensor(6, shape=(), dtype=int32)\n"
     ]
    }
   ],
   "source": [
    "# 연산자\n",
    "print(tf.add(1,2))\n",
    "print(tf.add([1,2],[3,4]))\n",
    "print(tf.square(5))\n",
    "print(tf.reduce_sum([1,2,3]))"
   ]
  },
  {
   "cell_type": "code",
   "execution_count": null,
   "id": "aeeed89c-ac83-4009-aee7-a823acc4fb0e",
   "metadata": {},
   "outputs": [],
   "source": [
    "# 10  :  scalar  , 0차원\n",
    "# [1 2 3] : vector , 1차원, Rank 1\n",
    "# [[1. 2.]     : matrix(행렬), 2차원, Rank 2\n",
    "   [3. 4.]]\n",
    "\n",
    "# [[[1. 2.]     : 3d-Tensor, 3차원, Rank 3\n",
    "    [3. 4.]]\n",
    "   [[1. 2.]     \n",
    "    [3. 4.]]]"
   ]
  },
  {
   "cell_type": "code",
   "execution_count": 16,
   "id": "28a8e973-2a15-4114-a319-b4ce0679666a",
   "metadata": {},
   "outputs": [
    {
     "name": "stdout",
     "output_type": "stream",
     "text": [
      "tf.Tensor(\n",
      "[[1. 2.]\n",
      " [3. 4.]], shape=(2, 2), dtype=float32)\n",
      "<class 'tensorflow.python.framework.ops.EagerTensor'>\n",
      "(2, 2)\n",
      "<dtype: 'float32'>\n",
      "[[1. 2.]\n",
      " [3. 4.]]\n",
      "<class 'numpy.ndarray'>\n",
      "10\n",
      "<class 'int'>\n"
     ]
    }
   ],
   "source": [
    "# 속성과 타입 변환\n",
    "a = tf.constant([[1.,2.],\n",
    "                 [3.,4.]])\n",
    "print(a)\n",
    "print(type(a))\n",
    "print(a.shape)\n",
    "print(a.dtype)\n",
    "\n",
    "# Tensor객체를 ndarray로 변환\n",
    "n = a.numpy()\n",
    "print(n)\n",
    "print(type(n))  # <class 'numpy.ndarray'>\n",
    "\n",
    "# 파이썬 native 타입으로 변환\n",
    "a = tf.constant(10)\n",
    "b = int(a)\n",
    "print(b)\n",
    "print(type(b))"
   ]
  },
  {
   "cell_type": "raw",
   "id": "fc36b7f0-de67-41d0-8b48-c613c7d54761",
   "metadata": {},
   "source": []
  }
 ],
 "metadata": {
  "kernelspec": {
   "display_name": "Python 3 (ipykernel)",
   "language": "python",
   "name": "python3"
  },
  "language_info": {
   "codemirror_mode": {
    "name": "ipython",
    "version": 3
   },
   "file_extension": ".py",
   "mimetype": "text/x-python",
   "name": "python",
   "nbconvert_exporter": "python",
   "pygments_lexer": "ipython3",
   "version": "3.10.14"
  }
 },
 "nbformat": 4,
 "nbformat_minor": 5
}
