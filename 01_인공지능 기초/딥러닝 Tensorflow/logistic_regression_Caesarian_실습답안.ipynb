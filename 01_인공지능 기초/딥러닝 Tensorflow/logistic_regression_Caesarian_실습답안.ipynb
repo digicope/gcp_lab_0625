{
 "cells": [
  {
   "cell_type": "code",
   "execution_count": 1,
   "metadata": {},
   "outputs": [],
   "source": [
    "# logistic_regression_Caesarian.\n",
    "\n",
    "import tensorflow as tf\n",
    "import numpy as np\n",
    "tf.random.set_seed(5)\n",
    "\n",
    "xy = np.loadtxt('caesarian.csv',delimiter=',',dtype=np.float32)\n",
    "\n",
    "# train data set\n",
    "x_data = xy[0:56, 0:-1 ]\n",
    "y_data = xy[0:56, [-1] ]\n",
    "\n",
    "x_train = np.array(x_data,dtype=np.float32)\n",
    "y_train = np.array(y_data,dtype=np.float32)"
   ]
  },
  {
   "cell_type": "code",
   "execution_count": 2,
   "metadata": {},
   "outputs": [],
   "source": [
    "# 변수 초기화 : weight, bias\n",
    "W = tf.Variable(tf.random.normal([5,1]), name='weight')\n",
    "b = tf.Variable(tf.random.normal([1]), name='bias')"
   ]
  },
  {
   "cell_type": "code",
   "execution_count": 3,
   "metadata": {},
   "outputs": [],
   "source": [
    "# hypothesis 예측 함수(방정식)  , H(x) = sigmoid(W * X + b)\n",
    "# tf.sigmoid : tf.div(1., 1. + tf.exp(tf.matmul(X,W)))\n",
    "def hypothesis(X):\n",
    "    return  tf.sigmoid(tf.matmul(X,W) + b  )"
   ]
  },
  {
   "cell_type": "code",
   "execution_count": 4,
   "metadata": {},
   "outputs": [],
   "source": [
    "# 비용함수 : logloss\n",
    "def cost_func():\n",
    "    cost = -tf.reduce_mean(y_train*tf.math.log(hypothesis(x_train)) + (1-y_train)*\n",
    "                       tf.math.log(1-hypothesis(x_train)))\n",
    "    return cost"
   ]
  },
  {
   "cell_type": "code",
   "execution_count": 5,
   "metadata": {},
   "outputs": [],
   "source": [
    "## 경사 하강법\n",
    "# learning rate (학습율) 을 0.01로 설정하여  optimizer객체를 생성\n",
    "# optimizer = tf.compat.v1.train.GradientDescentOptimizer(learning_rate=0.01)\n",
    "optimizer = tf.keras.optimizers.Adam(lr=0.01)"
   ]
  },
  {
   "cell_type": "code",
   "execution_count": 6,
   "metadata": {},
   "outputs": [
    {
     "name": "stdout",
     "output_type": "stream",
     "text": [
      "***** Start Learning!!\n",
      "0000 cost: [ 3.2573457 ]  W:  [[-0.17030665]\n",
      " [-0.9402863 ]\n",
      " [-0.02964061]\n",
      " [-0.73254067]\n",
      " [ 1.3331522 ]]   b:  [0.23652858]\n",
      "1000 cost: [ 0.5308221 ]  W:  [[-0.0334911 ]\n",
      " [ 0.25211963]\n",
      " [-0.27006334]\n",
      " [ 0.15151861]\n",
      " [ 2.5541189 ]]   b:  [-0.17207499]\n",
      "2000 cost: [ 0.5292896 ]  W:  [[-0.01470617]\n",
      " [ 0.26314086]\n",
      " [-0.24688809]\n",
      " [ 0.19900659]\n",
      " [ 2.5522108 ]]   b:  [-0.7778424]\n",
      "3000 cost: [ 0.5291536 ]  W:  [[-0.00793588]\n",
      " [ 0.26635   ]\n",
      " [-0.23871744]\n",
      " [ 0.21688215]\n",
      " [ 2.5552855 ]]   b:  [-0.99656296]\n",
      "4000 cost: [ 0.52915204 ]  W:  [[-0.00714856]\n",
      " [ 0.26674026]\n",
      " [-0.23777409]\n",
      " [ 0.21897104]\n",
      " [ 2.5557616 ]]   b:  [-1.0220597]\n",
      "5000 cost: [ 0.52915204 ]  W:  [[-0.00713169]\n",
      " [ 0.26674893]\n",
      " [-0.2377538 ]\n",
      " [ 0.2190162 ]\n",
      " [ 2.555772  ]]   b:  [-1.0226066]\n",
      "6000 cost: [ 0.52915204 ]  W:  [[-0.00713136]\n",
      " [ 0.2667483 ]\n",
      " [-0.23775364]\n",
      " [ 0.21901642]\n",
      " [ 2.5557725 ]]   b:  [-1.0226152]\n",
      "7000 cost: [ 0.52915204 ]  W:  [[-0.00713137]\n",
      " [ 0.26674807]\n",
      " [-0.23775369]\n",
      " [ 0.21901654]\n",
      " [ 2.555773  ]]   b:  [-1.0226159]\n",
      "8000 cost: [ 0.52915204 ]  W:  [[-0.00713071]\n",
      " [ 0.26675013]\n",
      " [-0.23775263]\n",
      " [ 0.21901783]\n",
      " [ 2.555774  ]]   b:  [-1.0226123]\n",
      "9000 cost: [ 0.52915204 ]  W:  [[-0.00713213]\n",
      " [ 0.26674804]\n",
      " [-0.23775433]\n",
      " [ 0.219016  ]\n",
      " [ 2.5557725 ]]   b:  [-1.0226146]\n",
      "10000 cost: [ 0.5291521 ]  W:  [[-0.00710475]\n",
      " [ 0.26677608]\n",
      " [-0.23772396]\n",
      " [ 0.21904865]\n",
      " [ 2.5557985 ]]   b:  [-1.0226079]\n",
      "***** Learning Finished!!\n"
     ]
    }
   ],
   "source": [
    "# 학습 시작\n",
    "print('***** Start Learning!!')\n",
    "for step in range(10001):\n",
    "    # cost를 minimize한다\n",
    "    optimizer.minimize(cost_func, var_list=[W,b])\n",
    "    \n",
    "    if step % 1000 == 0:\n",
    "        print('%04d'%step, 'cost: [', cost_func().numpy(), ']  W: ', W.numpy(), '  b: ', b.numpy())\n",
    "        \n",
    "print('***** Learning Finished!!')"
   ]
  },
  {
   "cell_type": "code",
   "execution_count": 7,
   "metadata": {},
   "outputs": [
    {
     "name": "stdout",
     "output_type": "stream",
     "text": [
      "Weight = [[-0.00710475]\n",
      " [ 0.26677608]\n",
      " [-0.23772396]\n",
      " [ 0.21904865]\n",
      " [ 2.5557985 ]]\n",
      "Bias = [-1.0226079]\n"
     ]
    }
   ],
   "source": [
    "# 회귀 계수 출력\n",
    "print('Weight =', W.numpy())\n",
    "print('Bias =', b.numpy())                                 "
   ]
  },
  {
   "cell_type": "code",
   "execution_count": 8,
   "metadata": {},
   "outputs": [
    {
     "name": "stdout",
     "output_type": "stream",
     "text": [
      "\n",
      "Accuracy: 0.45833334\n"
     ]
    }
   ],
   "source": [
    "# accuracy computation (정확도 측정)\n",
    "# test data set\n",
    "x_data = xy[56:, :-1 ]\n",
    "y_data = xy[56:, [-1] ]\n",
    "\n",
    "x_test = np.array(x_data,dtype=np.float32)\n",
    "y_test = np.array(y_data,dtype=np.float32)\n",
    "\n",
    "def predict(X):\n",
    "    return tf.cast(hypothesis(X) > 0.5, dtype = tf.float32)\n",
    "\n",
    "accuracy = tf.reduce_mean(tf.cast(tf.equal(predict(x_test),y_test),\n",
    "                                     dtype = tf.float32))\n",
    "# print(\"Hypothesis:\\n\",hypothesis(x_test).numpy(), \n",
    "#       \"\\nPredict:\\n\",predict(x_test).numpy())\n",
    "\n",
    "print(\"\\nAccuracy:\",accuracy.numpy()) # Accuracy: 0.45833334\n",
    "\n"
   ]
  },
  {
   "cell_type": "code",
   "execution_count": null,
   "metadata": {},
   "outputs": [],
   "source": []
  }
 ],
 "metadata": {
  "kernelspec": {
   "display_name": "Python 3",
   "language": "python",
   "name": "python3"
  },
  "language_info": {
   "codemirror_mode": {
    "name": "ipython",
    "version": 3
   },
   "file_extension": ".py",
   "mimetype": "text/x-python",
   "name": "python",
   "nbconvert_exporter": "python",
   "pygments_lexer": "ipython3",
   "version": "3.9.4"
  }
 },
 "nbformat": 4,
 "nbformat_minor": 4
}
