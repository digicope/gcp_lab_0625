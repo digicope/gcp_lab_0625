{
 "cells": [
  {
   "cell_type": "code",
   "execution_count": 1,
   "id": "f556c35f-009a-477a-b495-fc2c17e0e2ef",
   "metadata": {},
   "outputs": [],
   "source": [
    "# mnist_cnn_keras\n",
    "import tensorflow as tf\n",
    "import numpy as np\n",
    "import matplotlib.pyplot as plt"
   ]
  },
  {
   "cell_type": "code",
   "execution_count": 2,
   "id": "61c9ea40-e6f8-4b71-a53e-c64d315751d9",
   "metadata": {},
   "outputs": [
    {
     "name": "stdout",
     "output_type": "stream",
     "text": [
      "(60000, 28, 28, 1)\n",
      "(10000, 28, 28, 1)\n",
      "(60000,)\n"
     ]
    }
   ],
   "source": [
    "# mnist 데이터 가져오기\n",
    "# mnist = tf.keras.datasets.mnist        # MNIST : 손글씨 이미지\n",
    "mnist = tf.keras.datasets.fashion_mnist  # 의류(Fashion) 이미지\n",
    "(x_train,y_train),(x_test,y_test) = mnist.load_data()\n",
    "\n",
    "# X값의 타입을 float형으로 변환\n",
    "x_train = tf.cast(x_train,dtype=tf.float32)\n",
    "x_test = tf.cast(x_test,dtype=tf.float32)\n",
    "\n",
    "# X값의 shape을 4차원으로 변환\n",
    "x_train = tf.reshape(x_train,[-1,28,28,1])\n",
    "x_test = tf.reshape(x_test,[-1,28,28,1])\n",
    "print(x_train.shape)  # (60000, 28, 28, 1)\n",
    "print(x_test.shape)   # (10000, 28, 28, 1)\n",
    "print(y_train.shape)  # (60000,)"
   ]
  },
  {
   "cell_type": "code",
   "execution_count": 3,
   "id": "49f6ec6e-5e70-4ad1-b968-677bd874f1d6",
   "metadata": {},
   "outputs": [
    {
     "name": "stdout",
     "output_type": "stream",
     "text": [
      "Model: \"sequential\"\n",
      "_________________________________________________________________\n",
      " Layer (type)                Output Shape              Param #   \n",
      "=================================================================\n",
      " conv2d (Conv2D)             (None, 28, 28, 32)        320       \n",
      "                                                                 \n",
      " max_pooling2d (MaxPooling2D  (None, 14, 14, 32)       0         \n",
      " )                                                               \n",
      "                                                                 \n",
      " conv2d_1 (Conv2D)           (None, 14, 14, 64)        18496     \n",
      "                                                                 \n",
      " max_pooling2d_1 (MaxPooling  (None, 7, 7, 64)         0         \n",
      " 2D)                                                             \n",
      "                                                                 \n",
      " conv2d_2 (Conv2D)           (None, 7, 7, 128)         73856     \n",
      "                                                                 \n",
      " max_pooling2d_2 (MaxPooling  (None, 4, 4, 128)        0         \n",
      " 2D)                                                             \n",
      "                                                                 \n",
      " flatten (Flatten)           (None, 2048)              0         \n",
      "                                                                 \n",
      " dense (Dense)               (None, 10)                20490     \n",
      "                                                                 \n",
      "=================================================================\n",
      "Total params: 113,162\n",
      "Trainable params: 113,162\n",
      "Non-trainable params: 0\n",
      "_________________________________________________________________\n"
     ]
    }
   ],
   "source": [
    "# MNIST 분류 CNN keras 모델 구현\n",
    "model = tf.keras.Sequential([\n",
    "    tf.keras.layers.Conv2D(filters=32,kernel_size=(3,3),padding='same',\n",
    "                           activation='relu',input_shape=(28,28,1)),\n",
    "    tf.keras.layers.MaxPool2D(pool_size=(2,2),strides=(2,2),padding='same'),\n",
    "\n",
    "    tf.keras.layers.Conv2D(filters=64,kernel_size=(3,3),padding='same',\n",
    "                           activation='relu'),\n",
    "    tf.keras.layers.MaxPool2D(pool_size=(2,2),strides=(2,2),padding='same'),\n",
    "\n",
    "    tf.keras.layers.Conv2D(filters=128,kernel_size=(3,3),padding='same',\n",
    "                           activation='relu'),\n",
    "    tf.keras.layers.MaxPool2D(pool_size=(2,2),strides=(2,2),padding='same'),\n",
    "\n",
    "    tf.keras.layers.Flatten(),  \n",
    "    tf.keras.layers.Dense(units=10,activation='softmax')\n",
    "])\n",
    "\n",
    "model.compile(optimizer=tf.keras.optimizers.Adam(learning_rate=0.01),\n",
    "              loss=\"sparse_categorical_crossentropy\",\n",
    "              metrics=['accuracy'])\n",
    "model.summary()\n",
    "\n",
    "# https://yeomko.tistory.com/40\n",
    "# Xavier Glorot Initialization : W(Weight) 값을 fan_in,fan_out를 사용하여 초기화하여 정확도 향상\n",
    "\n",
    "# loss 종류\n",
    "# mean_squared_error : 평균제곱 오차\n",
    "# binary_crossentropy : 이진분류 오차\n",
    "# categorical_crossentropy : 다중 분류 오차. one-hot encoding 클래스, [0.2, 0.3, 0.5] 와 같은 출력값과 실측값의 오차값을 계산한다.\n",
    "# sparse_categorical_crossentropy: 다중 분류 오차. 위와 동일하지만 , integer type 클래스라는 것이 다르다."
   ]
  },
  {
   "cell_type": "code",
   "execution_count": 4,
   "id": "634e759a-2b17-4fb0-80f5-ea8ff37f8cc5",
   "metadata": {},
   "outputs": [
    {
     "name": "stdout",
     "output_type": "stream",
     "text": [
      "Epoch 1/25\n",
      "1407/1407 [==============================] - 7s 4ms/step - loss: 0.9777 - accuracy: 0.7744 - val_loss: 0.5001 - val_accuracy: 0.8208\n",
      "Epoch 2/25\n",
      "1407/1407 [==============================] - 6s 4ms/step - loss: 0.4989 - accuracy: 0.8170 - val_loss: 0.5068 - val_accuracy: 0.8173\n",
      "Epoch 3/25\n",
      "1407/1407 [==============================] - 6s 4ms/step - loss: 0.4922 - accuracy: 0.8172 - val_loss: 0.4962 - val_accuracy: 0.8240\n",
      "Epoch 4/25\n",
      "1407/1407 [==============================] - 6s 4ms/step - loss: 0.4740 - accuracy: 0.8248 - val_loss: 0.5568 - val_accuracy: 0.7904\n",
      "Epoch 5/25\n",
      "1407/1407 [==============================] - 6s 4ms/step - loss: 0.4696 - accuracy: 0.8258 - val_loss: 0.4620 - val_accuracy: 0.8283\n",
      "Epoch 6/25\n",
      "1407/1407 [==============================] - 6s 4ms/step - loss: 0.4599 - accuracy: 0.8277 - val_loss: 0.4851 - val_accuracy: 0.8119\n",
      "Epoch 7/25\n",
      "1407/1407 [==============================] - 7s 5ms/step - loss: 0.4528 - accuracy: 0.8304 - val_loss: 0.5395 - val_accuracy: 0.8079\n",
      "Epoch 8/25\n",
      "1407/1407 [==============================] - 6s 4ms/step - loss: 0.4722 - accuracy: 0.8248 - val_loss: 0.4977 - val_accuracy: 0.8117\n",
      "Epoch 9/25\n",
      "1407/1407 [==============================] - 6s 4ms/step - loss: 0.4623 - accuracy: 0.8263 - val_loss: 0.4563 - val_accuracy: 0.8280\n",
      "Epoch 10/25\n",
      "1407/1407 [==============================] - 6s 4ms/step - loss: 0.4625 - accuracy: 0.8276 - val_loss: 0.4670 - val_accuracy: 0.8256\n",
      "Epoch 11/25\n",
      "1407/1407 [==============================] - 6s 4ms/step - loss: 0.4880 - accuracy: 0.8171 - val_loss: 0.4647 - val_accuracy: 0.8263\n",
      "Epoch 12/25\n",
      "1407/1407 [==============================] - 6s 4ms/step - loss: 0.4553 - accuracy: 0.8292 - val_loss: 0.4736 - val_accuracy: 0.8309\n",
      "Epoch 13/25\n",
      "1407/1407 [==============================] - 6s 4ms/step - loss: 0.4484 - accuracy: 0.8310 - val_loss: 0.5080 - val_accuracy: 0.8094\n",
      "Epoch 14/25\n",
      "1407/1407 [==============================] - 7s 5ms/step - loss: 0.4747 - accuracy: 0.8219 - val_loss: 0.4615 - val_accuracy: 0.8294\n",
      "Epoch 15/25\n",
      "1407/1407 [==============================] - 6s 4ms/step - loss: 0.4480 - accuracy: 0.8314 - val_loss: 0.4705 - val_accuracy: 0.8225\n",
      "Epoch 16/25\n",
      "1407/1407 [==============================] - 6s 5ms/step - loss: 0.4508 - accuracy: 0.8307 - val_loss: 0.4732 - val_accuracy: 0.8240\n",
      "Epoch 17/25\n",
      "1407/1407 [==============================] - 7s 5ms/step - loss: 0.4459 - accuracy: 0.8336 - val_loss: 0.4526 - val_accuracy: 0.8317\n",
      "Epoch 18/25\n",
      "1407/1407 [==============================] - 6s 5ms/step - loss: 0.4376 - accuracy: 0.8327 - val_loss: 0.4489 - val_accuracy: 0.8347\n",
      "Epoch 19/25\n",
      "1407/1407 [==============================] - 7s 5ms/step - loss: 0.4388 - accuracy: 0.8359 - val_loss: 0.4581 - val_accuracy: 0.8314\n",
      "Epoch 20/25\n",
      "1407/1407 [==============================] - 6s 4ms/step - loss: 0.4461 - accuracy: 0.8330 - val_loss: 0.4627 - val_accuracy: 0.8303\n",
      "Epoch 21/25\n",
      "1407/1407 [==============================] - 6s 5ms/step - loss: 0.4524 - accuracy: 0.8316 - val_loss: 0.4633 - val_accuracy: 0.8300\n",
      "Epoch 22/25\n",
      "1407/1407 [==============================] - 6s 5ms/step - loss: 0.4457 - accuracy: 0.8322 - val_loss: 0.4799 - val_accuracy: 0.8275\n",
      "Epoch 23/25\n",
      "1407/1407 [==============================] - 6s 4ms/step - loss: 0.4367 - accuracy: 0.8352 - val_loss: 0.4710 - val_accuracy: 0.8257\n",
      "Epoch 24/25\n",
      "1407/1407 [==============================] - 6s 4ms/step - loss: 0.4404 - accuracy: 0.8345 - val_loss: 0.4826 - val_accuracy: 0.8277\n",
      "Epoch 25/25\n",
      "1407/1407 [==============================] - 7s 5ms/step - loss: 0.4336 - accuracy: 0.8381 - val_loss: 0.4655 - val_accuracy: 0.8290\n"
     ]
    },
    {
     "data": {
      "text/plain": [
       "<keras.callbacks.History at 0x1e2bff59180>"
      ]
     },
     "execution_count": 4,
     "metadata": {},
     "output_type": "execute_result"
    }
   ],
   "source": [
    "# 학습\n",
    "model.fit(x_train,y_train,epochs=25,validation_split=0.25)\n",
    "# validation_split : 학습데이터를 학습과 평가용 데이터로 분리(75%:25%)"
   ]
  },
  {
   "cell_type": "code",
   "execution_count": 5,
   "id": "9d119e76-b07a-4133-9055-e303cea7d1ed",
   "metadata": {},
   "outputs": [],
   "source": [
    "# train  : 45000(train) + 15000(validatioN)\n",
    "# batch_size :32   \n",
    "# 1 epoch : 1407"
   ]
  },
  {
   "cell_type": "code",
   "execution_count": 6,
   "id": "073d99db-d5cb-4dbf-8b1c-0b3342bc3f58",
   "metadata": {},
   "outputs": [
    {
     "name": "stdout",
     "output_type": "stream",
     "text": [
      "313/313 [==============================] - 1s 3ms/step - loss: 0.4974 - accuracy: 0.8173\n"
     ]
    },
    {
     "data": {
      "text/plain": [
       "[0.49740859866142273, 0.817300021648407]"
      ]
     },
     "execution_count": 6,
     "metadata": {},
     "output_type": "execute_result"
    }
   ],
   "source": [
    "# 평가\n",
    "model.evaluate(x_test,y_test)"
   ]
  },
  {
   "cell_type": "code",
   "execution_count": 7,
   "id": "6d415a30-4bf8-436d-94bf-5fb9912ca467",
   "metadata": {},
   "outputs": [
    {
     "name": "stdout",
     "output_type": "stream",
     "text": [
      "1/1 [==============================] - 0s 150ms/step\n",
      "[9 2 1 1 6 1 4 6 5 7]\n",
      "[9 2 1 1 6 1 4 6 5 7]\n"
     ]
    }
   ],
   "source": [
    "# 예측\n",
    "preds = model.predict(x_test[:10])\n",
    "print(tf.argmax(preds,axis=1).numpy())\n",
    "print(y_test[:10])"
   ]
  },
  {
   "cell_type": "markdown",
   "id": "5c7ff191-2bf7-47e8-adc9-9ab2f95a90a8",
   "metadata": {},
   "source": [
    "### 모델 개선"
   ]
  },
  {
   "cell_type": "code",
   "execution_count": 8,
   "id": "4e6138df-dac2-4e6e-9e44-c0ddb6ca7532",
   "metadata": {},
   "outputs": [
    {
     "name": "stdout",
     "output_type": "stream",
     "text": [
      "Model: \"sequential_1\"\n",
      "_________________________________________________________________\n",
      " Layer (type)                Output Shape              Param #   \n",
      "=================================================================\n",
      " conv2d_3 (Conv2D)           (None, 28, 28, 32)        320       \n",
      "                                                                 \n",
      " conv2d_4 (Conv2D)           (None, 28, 28, 64)        18496     \n",
      "                                                                 \n",
      " max_pooling2d_3 (MaxPooling  (None, 14, 14, 64)       0         \n",
      " 2D)                                                             \n",
      "                                                                 \n",
      " dropout (Dropout)           (None, 14, 14, 64)        0         \n",
      "                                                                 \n",
      " conv2d_5 (Conv2D)           (None, 14, 14, 128)       73856     \n",
      "                                                                 \n",
      " conv2d_6 (Conv2D)           (None, 12, 12, 256)       295168    \n",
      "                                                                 \n",
      " max_pooling2d_4 (MaxPooling  (None, 6, 6, 256)        0         \n",
      " 2D)                                                             \n",
      "                                                                 \n",
      " dropout_1 (Dropout)         (None, 6, 6, 256)         0         \n",
      "                                                                 \n",
      " flatten_1 (Flatten)         (None, 9216)              0         \n",
      "                                                                 \n",
      " dense_1 (Dense)             (None, 512)               4719104   \n",
      "                                                                 \n",
      " dropout_2 (Dropout)         (None, 512)               0         \n",
      "                                                                 \n",
      " dense_2 (Dense)             (None, 256)               131328    \n",
      "                                                                 \n",
      " dropout_3 (Dropout)         (None, 256)               0         \n",
      "                                                                 \n",
      " dense_3 (Dense)             (None, 10)                2570      \n",
      "                                                                 \n",
      "=================================================================\n",
      "Total params: 5,240,842\n",
      "Trainable params: 5,240,842\n",
      "Non-trainable params: 0\n",
      "_________________________________________________________________\n"
     ]
    }
   ],
   "source": [
    "# VGGNet (VGG-19) 스타일의 MNIST 분류 CNN 모델 \n",
    "#--------------------------------------------\n",
    "# ( Conv2D * 2개  --> MaxPool2D ) * 2회 : 4층\n",
    "# ( Conv2D * 4개  --> MaxPool2D ) * 3회 : 12층\n",
    "# Dense * 3개                           : 3층\n",
    "#--------------------------------------------\n",
    "#                                     총 19층\n",
    "#--------------------------------------------\n",
    "# 각 네트워크마다 필터의 수를 2배로 증가 시킨다 : 32-->64-->128-->256-->512\n",
    "\n",
    "model = tf.keras.Sequential([\n",
    "    tf.keras.layers.Conv2D(filters=32,kernel_size=(3,3),padding='same',\n",
    "                           activation='relu',input_shape=(28,28,1)),\n",
    "    tf.keras.layers.Conv2D(filters=64,kernel_size=(3,3),padding='same',\n",
    "                           activation='relu'),  \n",
    "    tf.keras.layers.MaxPool2D(pool_size=(2,2)),\n",
    "    tf.keras.layers.Dropout(rate=0.5),\n",
    "    \n",
    "    tf.keras.layers.Conv2D(filters=128,kernel_size=(3,3),padding='same',\n",
    "                           activation='relu'),\n",
    "    tf.keras.layers.Conv2D(filters=256,kernel_size=(3,3),padding='valid',\n",
    "                           activation='relu'),  \n",
    "    tf.keras.layers.MaxPool2D(pool_size=(2,2)),\n",
    "    tf.keras.layers.Dropout(rate=0.5),\n",
    "\n",
    "    tf.keras.layers.Flatten(),  \n",
    "    tf.keras.layers.Dense(units=512,activation='relu'),\n",
    "    tf.keras.layers.Dropout(rate=0.5),\n",
    "    tf.keras.layers.Dense(units=256,activation='relu'),\n",
    "    tf.keras.layers.Dropout(rate=0.5),\n",
    "    tf.keras.layers.Dense(units=10,activation='softmax')\n",
    "])\n",
    "model.compile(optimizer=tf.keras.optimizers.Adam(learning_rate=0.001), \n",
    "              loss='sparse_categorical_crossentropy', \n",
    "              metrics=['accuracy'])\n",
    "\n",
    "model.summary()"
   ]
  },
  {
   "cell_type": "code",
   "execution_count": 9,
   "id": "235913b3-509d-49cd-8db1-44ab2047c207",
   "metadata": {},
   "outputs": [
    {
     "name": "stdout",
     "output_type": "stream",
     "text": [
      "Epoch 1/25\n",
      "1407/1407 [==============================] - 13s 9ms/step - loss: 0.9222 - accuracy: 0.7295 - val_loss: 0.4052 - val_accuracy: 0.8459\n",
      "Epoch 2/25\n",
      "1407/1407 [==============================] - 12s 9ms/step - loss: 0.4960 - accuracy: 0.8200 - val_loss: 0.3586 - val_accuracy: 0.8674\n",
      "Epoch 3/25\n",
      "1407/1407 [==============================] - 12s 8ms/step - loss: 0.4458 - accuracy: 0.8382 - val_loss: 0.3332 - val_accuracy: 0.8690\n",
      "Epoch 4/25\n",
      "1407/1407 [==============================] - 12s 8ms/step - loss: 0.4190 - accuracy: 0.8490 - val_loss: 0.3296 - val_accuracy: 0.8769\n",
      "Epoch 5/25\n",
      "1407/1407 [==============================] - 12s 9ms/step - loss: 0.4020 - accuracy: 0.8570 - val_loss: 0.3193 - val_accuracy: 0.8798\n",
      "Epoch 6/25\n",
      "1407/1407 [==============================] - 11s 8ms/step - loss: 0.3861 - accuracy: 0.8616 - val_loss: 0.2895 - val_accuracy: 0.8848\n",
      "Epoch 7/25\n",
      "1407/1407 [==============================] - 11s 8ms/step - loss: 0.3746 - accuracy: 0.8652 - val_loss: 0.2891 - val_accuracy: 0.8899\n",
      "Epoch 8/25\n",
      "1407/1407 [==============================] - 11s 8ms/step - loss: 0.3759 - accuracy: 0.8654 - val_loss: 0.2971 - val_accuracy: 0.8849\n",
      "Epoch 9/25\n",
      "1407/1407 [==============================] - 12s 9ms/step - loss: 0.3658 - accuracy: 0.8678 - val_loss: 0.2914 - val_accuracy: 0.8853\n",
      "Epoch 10/25\n",
      "1407/1407 [==============================] - 13s 9ms/step - loss: 0.3549 - accuracy: 0.8716 - val_loss: 0.2935 - val_accuracy: 0.8876\n",
      "Epoch 11/25\n",
      "1407/1407 [==============================] - 12s 9ms/step - loss: 0.3591 - accuracy: 0.8711 - val_loss: 0.2814 - val_accuracy: 0.8939\n",
      "Epoch 12/25\n",
      "1407/1407 [==============================] - 11s 8ms/step - loss: 0.3495 - accuracy: 0.8756 - val_loss: 0.2760 - val_accuracy: 0.8947\n",
      "Epoch 13/25\n",
      "1407/1407 [==============================] - 11s 8ms/step - loss: 0.3520 - accuracy: 0.8762 - val_loss: 0.2872 - val_accuracy: 0.8949\n",
      "Epoch 14/25\n",
      "1407/1407 [==============================] - 12s 9ms/step - loss: 0.3490 - accuracy: 0.8768 - val_loss: 0.2892 - val_accuracy: 0.8908\n",
      "Epoch 15/25\n",
      "1407/1407 [==============================] - 11s 8ms/step - loss: 0.3607 - accuracy: 0.8724 - val_loss: 0.2705 - val_accuracy: 0.8990\n",
      "Epoch 16/25\n",
      "1407/1407 [==============================] - 11s 8ms/step - loss: 0.3661 - accuracy: 0.8690 - val_loss: 0.2695 - val_accuracy: 0.9001\n",
      "Epoch 17/25\n",
      "1407/1407 [==============================] - 11s 8ms/step - loss: 0.3513 - accuracy: 0.8746 - val_loss: 0.2698 - val_accuracy: 0.9011\n",
      "Epoch 18/25\n",
      "1407/1407 [==============================] - 12s 8ms/step - loss: 0.3397 - accuracy: 0.8792 - val_loss: 0.2696 - val_accuracy: 0.8992\n",
      "Epoch 19/25\n",
      "1407/1407 [==============================] - 13s 9ms/step - loss: 0.3697 - accuracy: 0.8681 - val_loss: 0.2741 - val_accuracy: 0.8971\n",
      "Epoch 20/25\n",
      "1407/1407 [==============================] - 12s 8ms/step - loss: 0.3586 - accuracy: 0.8721 - val_loss: 0.2793 - val_accuracy: 0.8975\n",
      "Epoch 21/25\n",
      "1407/1407 [==============================] - 12s 8ms/step - loss: 0.3569 - accuracy: 0.8745 - val_loss: 0.2777 - val_accuracy: 0.8987\n",
      "Epoch 22/25\n",
      "1407/1407 [==============================] - 11s 8ms/step - loss: 0.3507 - accuracy: 0.8751 - val_loss: 0.2776 - val_accuracy: 0.8962\n",
      "Epoch 23/25\n",
      "1407/1407 [==============================] - 11s 8ms/step - loss: 0.3408 - accuracy: 0.8782 - val_loss: 0.2612 - val_accuracy: 0.9045\n",
      "Epoch 24/25\n",
      "1407/1407 [==============================] - 11s 8ms/step - loss: 0.3502 - accuracy: 0.8762 - val_loss: 0.2734 - val_accuracy: 0.8999\n",
      "Epoch 25/25\n",
      "1407/1407 [==============================] - 11s 8ms/step - loss: 0.3539 - accuracy: 0.8752 - val_loss: 0.2749 - val_accuracy: 0.8977\n"
     ]
    },
    {
     "data": {
      "text/plain": [
       "<keras.callbacks.History at 0x1e5c1448be0>"
      ]
     },
     "execution_count": 9,
     "metadata": {},
     "output_type": "execute_result"
    }
   ],
   "source": [
    "# 학습\n",
    "model.fit(x_train,y_train,epochs=25,validation_split=0.25)"
   ]
  },
  {
   "cell_type": "code",
   "execution_count": 10,
   "id": "6f02cc05-fa40-40b9-ab49-45d3443f2a09",
   "metadata": {},
   "outputs": [
    {
     "name": "stdout",
     "output_type": "stream",
     "text": [
      "313/313 [==============================] - 1s 4ms/step - loss: 0.2917 - accuracy: 0.8928\n"
     ]
    },
    {
     "data": {
      "text/plain": [
       "[0.2917282283306122, 0.892799973487854]"
      ]
     },
     "execution_count": 10,
     "metadata": {},
     "output_type": "execute_result"
    }
   ],
   "source": [
    "# 평가\n",
    "model.evaluate(x_test,y_test)"
   ]
  },
  {
   "cell_type": "code",
   "execution_count": null,
   "id": "553c2761-15a5-4453-b245-e496e1303c7e",
   "metadata": {},
   "outputs": [],
   "source": []
  }
 ],
 "metadata": {
  "kernelspec": {
   "display_name": "Python 3 (ipykernel)",
   "language": "python",
   "name": "python3"
  },
  "language_info": {
   "codemirror_mode": {
    "name": "ipython",
    "version": 3
   },
   "file_extension": ".py",
   "mimetype": "text/x-python",
   "name": "python",
   "nbconvert_exporter": "python",
   "pygments_lexer": "ipython3",
   "version": "3.10.14"
  }
 },
 "nbformat": 4,
 "nbformat_minor": 5
}
