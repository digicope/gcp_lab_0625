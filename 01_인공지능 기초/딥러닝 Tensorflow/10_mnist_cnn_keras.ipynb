{
 "cells": [
  {
   "cell_type": "code",
   "execution_count": 1,
   "id": "f556c35f-009a-477a-b495-fc2c17e0e2ef",
   "metadata": {},
   "outputs": [],
   "source": [
    "# mnist_cnn_keras\n",
    "import tensorflow as tf\n",
    "import numpy as np\n",
    "import matplotlib.pyplot as plt"
   ]
  },
  {
   "cell_type": "code",
   "execution_count": 2,
   "id": "61c9ea40-e6f8-4b71-a53e-c64d315751d9",
   "metadata": {},
   "outputs": [
    {
     "name": "stdout",
     "output_type": "stream",
     "text": [
      "(60000, 28, 28, 1)\n",
      "(10000, 28, 28, 1)\n",
      "(60000,)\n"
     ]
    }
   ],
   "source": [
    "# mnist 데이터 가져오기\n",
    "mnist = tf.keras.datasets.mnist\n",
    "(x_train,y_train),(x_test,y_test) = mnist.load_data()\n",
    "\n",
    "# X값의 타입을 float형으로 변환\n",
    "x_train = tf.cast(x_train,dtype=tf.float32)\n",
    "x_test = tf.cast(x_test,dtype=tf.float32)\n",
    "\n",
    "# X값의 shape을 4차원으로 변환\n",
    "x_train = tf.reshape(x_train,[-1,28,28,1])\n",
    "x_test = tf.reshape(x_test,[-1,28,28,1])\n",
    "print(x_train.shape)  # (60000, 28, 28, 1)\n",
    "print(x_test.shape)   # (10000, 28, 28, 1)\n",
    "print(y_train.shape)  # (60000,)"
   ]
  },
  {
   "cell_type": "code",
   "execution_count": 16,
   "id": "49f6ec6e-5e70-4ad1-b968-677bd874f1d6",
   "metadata": {},
   "outputs": [
    {
     "name": "stdout",
     "output_type": "stream",
     "text": [
      "Model: \"sequential_6\"\n",
      "_________________________________________________________________\n",
      " Layer (type)                Output Shape              Param #   \n",
      "=================================================================\n",
      " conv2d_17 (Conv2D)          (None, 28, 28, 32)        320       \n",
      "                                                                 \n",
      " max_pooling2d_15 (MaxPoolin  (None, 14, 14, 32)       0         \n",
      " g2D)                                                            \n",
      "                                                                 \n",
      " conv2d_18 (Conv2D)          (None, 14, 14, 64)        18496     \n",
      "                                                                 \n",
      " max_pooling2d_16 (MaxPoolin  (None, 7, 7, 64)         0         \n",
      " g2D)                                                            \n",
      "                                                                 \n",
      " conv2d_19 (Conv2D)          (None, 7, 7, 128)         73856     \n",
      "                                                                 \n",
      " max_pooling2d_17 (MaxPoolin  (None, 4, 4, 128)        0         \n",
      " g2D)                                                            \n",
      "                                                                 \n",
      " flatten_4 (Flatten)         (None, 2048)              0         \n",
      "                                                                 \n",
      " dense_1 (Dense)             (None, 10)                20490     \n",
      "                                                                 \n",
      "=================================================================\n",
      "Total params: 113,162\n",
      "Trainable params: 113,162\n",
      "Non-trainable params: 0\n",
      "_________________________________________________________________\n"
     ]
    }
   ],
   "source": [
    "# MNIST 분류 CNN keras 모델 구현\n",
    "model = tf.keras.Sequential([\n",
    "    tf.keras.layers.Conv2D(filters=32,kernel_size=(3,3),padding='same',\n",
    "                           activation='relu',input_shape=(28,28,1)),\n",
    "    tf.keras.layers.MaxPool2D(pool_size=(2,2),strides=(2,2),padding='same'),\n",
    "\n",
    "    tf.keras.layers.Conv2D(filters=64,kernel_size=(3,3),padding='same',\n",
    "                           activation='relu'),\n",
    "    tf.keras.layers.MaxPool2D(pool_size=(2,2),strides=(2,2),padding='same'),\n",
    "\n",
    "    tf.keras.layers.Conv2D(filters=128,kernel_size=(3,3),padding='same',\n",
    "                           activation='relu'),\n",
    "    tf.keras.layers.MaxPool2D(pool_size=(2,2),strides=(2,2),padding='same'),\n",
    "\n",
    "    tf.keras.layers.Flatten(),  \n",
    "    tf.keras.layers.Dense(units=10,activation='softmax')\n",
    "])\n",
    "\n",
    "model.compile(optimizer=tf.keras.optimizers.Adam(learning_rate=0.01),\n",
    "              loss=\"sparse_categorical_crossentropy\",\n",
    "              metrics=['accuracy'])\n",
    "model.summary()\n",
    "\n",
    "# https://yeomko.tistory.com/40\n",
    "# Xavier Glorot Initialization : W(Weight) 값을 fan_in,fan_out를 사용하여 초기화하여 정확도 향상\n",
    "\n",
    "# loss 종류\n",
    "# mean_squared_error : 평균제곱 오차\n",
    "# binary_crossentropy : 이진분류 오차\n",
    "# categorical_crossentropy : 다중 분류 오차. one-hot encoding 클래스, [0.2, 0.3, 0.5] 와 같은 출력값과 실측값의 오차값을 계산한다.\n",
    "# sparse_categorical_crossentropy: 다중 분류 오차. 위와 동일하지만 , integer type 클래스라는 것이 다르다."
   ]
  },
  {
   "cell_type": "code",
   "execution_count": 17,
   "id": "634e759a-2b17-4fb0-80f5-ea8ff37f8cc5",
   "metadata": {},
   "outputs": [
    {
     "name": "stdout",
     "output_type": "stream",
     "text": [
      "Epoch 1/25\n",
      "1407/1407 [==============================] - 17s 4ms/step - loss: 0.6692 - accuracy: 0.8622 - val_loss: 0.2659 - val_accuracy: 0.9187\n",
      "Epoch 2/25\n",
      "1407/1407 [==============================] - 4s 3ms/step - loss: 0.3009 - accuracy: 0.9077 - val_loss: 0.2773 - val_accuracy: 0.9150\n",
      "Epoch 3/25\n",
      "1407/1407 [==============================] - 3s 2ms/step - loss: 0.2924 - accuracy: 0.9099 - val_loss: 0.2307 - val_accuracy: 0.9281\n",
      "Epoch 4/25\n",
      "1407/1407 [==============================] - 3s 2ms/step - loss: 0.2792 - accuracy: 0.9132 - val_loss: 0.2525 - val_accuracy: 0.9233\n",
      "Epoch 5/25\n",
      "1407/1407 [==============================] - 3s 2ms/step - loss: 0.2498 - accuracy: 0.9221 - val_loss: 0.3854 - val_accuracy: 0.8739\n",
      "Epoch 6/25\n",
      "1407/1407 [==============================] - 4s 3ms/step - loss: 0.2481 - accuracy: 0.9230 - val_loss: 0.2029 - val_accuracy: 0.9371\n",
      "Epoch 7/25\n",
      "1407/1407 [==============================] - 3s 2ms/step - loss: 0.2462 - accuracy: 0.9235 - val_loss: 0.2179 - val_accuracy: 0.9305\n",
      "Epoch 8/25\n",
      "1407/1407 [==============================] - 3s 2ms/step - loss: 0.2291 - accuracy: 0.9292 - val_loss: 0.2408 - val_accuracy: 0.9329\n",
      "Epoch 9/25\n",
      "1407/1407 [==============================] - 3s 2ms/step - loss: 0.2328 - accuracy: 0.9275 - val_loss: 0.2025 - val_accuracy: 0.9376\n",
      "Epoch 10/25\n",
      "1407/1407 [==============================] - 3s 2ms/step - loss: 0.2425 - accuracy: 0.9248 - val_loss: 0.2136 - val_accuracy: 0.9322\n",
      "Epoch 11/25\n",
      "1407/1407 [==============================] - 3s 2ms/step - loss: 0.2522 - accuracy: 0.9205 - val_loss: 0.2772 - val_accuracy: 0.9144\n",
      "Epoch 12/25\n",
      "1407/1407 [==============================] - 3s 2ms/step - loss: 0.2548 - accuracy: 0.9224 - val_loss: 0.2352 - val_accuracy: 0.9319\n",
      "Epoch 13/25\n",
      "1407/1407 [==============================] - 3s 2ms/step - loss: 0.2260 - accuracy: 0.9301 - val_loss: 0.2305 - val_accuracy: 0.9288\n",
      "Epoch 14/25\n",
      "1407/1407 [==============================] - 3s 2ms/step - loss: 0.2613 - accuracy: 0.9183 - val_loss: 0.2289 - val_accuracy: 0.9293\n",
      "Epoch 15/25\n",
      "1407/1407 [==============================] - 3s 2ms/step - loss: 0.2542 - accuracy: 0.9221 - val_loss: 0.2260 - val_accuracy: 0.9330\n",
      "Epoch 16/25\n",
      "1407/1407 [==============================] - 3s 2ms/step - loss: 0.2249 - accuracy: 0.9295 - val_loss: 0.1922 - val_accuracy: 0.9405\n",
      "Epoch 17/25\n",
      "1407/1407 [==============================] - 3s 2ms/step - loss: 0.2779 - accuracy: 0.9108 - val_loss: 0.2276 - val_accuracy: 0.9279\n",
      "Epoch 18/25\n",
      "1407/1407 [==============================] - 3s 2ms/step - loss: 0.2828 - accuracy: 0.9138 - val_loss: 0.5277 - val_accuracy: 0.8461\n",
      "Epoch 19/25\n",
      "1407/1407 [==============================] - 3s 2ms/step - loss: 0.2998 - accuracy: 0.9032 - val_loss: 0.2169 - val_accuracy: 0.9335\n",
      "Epoch 20/25\n",
      "1407/1407 [==============================] - 4s 3ms/step - loss: 0.2677 - accuracy: 0.9159 - val_loss: 0.4245 - val_accuracy: 0.8724\n",
      "Epoch 21/25\n",
      "1407/1407 [==============================] - 3s 2ms/step - loss: 0.2994 - accuracy: 0.9062 - val_loss: 0.2668 - val_accuracy: 0.9191\n",
      "Epoch 22/25\n",
      "1407/1407 [==============================] - 3s 2ms/step - loss: 0.2586 - accuracy: 0.9175 - val_loss: 0.2596 - val_accuracy: 0.9165\n",
      "Epoch 23/25\n",
      "1407/1407 [==============================] - 3s 2ms/step - loss: 0.2372 - accuracy: 0.9249 - val_loss: 0.2667 - val_accuracy: 0.9193\n",
      "Epoch 24/25\n",
      "1407/1407 [==============================] - 3s 2ms/step - loss: 0.2686 - accuracy: 0.9153 - val_loss: 0.2308 - val_accuracy: 0.9263\n",
      "Epoch 25/25\n",
      "1407/1407 [==============================] - 3s 2ms/step - loss: 0.2334 - accuracy: 0.9263 - val_loss: 0.2757 - val_accuracy: 0.9203\n"
     ]
    },
    {
     "data": {
      "text/plain": [
       "<keras.callbacks.History at 0x1f74cb9fd90>"
      ]
     },
     "execution_count": 17,
     "metadata": {},
     "output_type": "execute_result"
    }
   ],
   "source": [
    "# 학습\n",
    "model.fit(x_train,y_train,epochs=25,validation_split=0.25)\n",
    "# validation_split : 학습데이터를 학습과 평가용 데이터로 분리(75%:25%)"
   ]
  },
  {
   "cell_type": "code",
   "execution_count": 22,
   "id": "9d119e76-b07a-4133-9055-e303cea7d1ed",
   "metadata": {},
   "outputs": [],
   "source": [
    "# train  : 45000(train) + 15000(validatioN)\n",
    "# batch_size :32   \n",
    "# 1 epoch : 1407"
   ]
  },
  {
   "cell_type": "code",
   "execution_count": 23,
   "id": "073d99db-d5cb-4dbf-8b1c-0b3342bc3f58",
   "metadata": {},
   "outputs": [
    {
     "name": "stdout",
     "output_type": "stream",
     "text": [
      "313/313 [==============================] - 1s 2ms/step - loss: 0.2652 - accuracy: 0.9236\n"
     ]
    },
    {
     "data": {
      "text/plain": [
       "[0.26524117588996887, 0.9236000180244446]"
      ]
     },
     "execution_count": 23,
     "metadata": {},
     "output_type": "execute_result"
    }
   ],
   "source": [
    "# 평가\n",
    "model.evaluate(x_test,y_test)"
   ]
  },
  {
   "cell_type": "code",
   "execution_count": 30,
   "id": "6d415a30-4bf8-436d-94bf-5fb9912ca467",
   "metadata": {},
   "outputs": [
    {
     "name": "stdout",
     "output_type": "stream",
     "text": [
      "1/1 [==============================] - 0s 16ms/step\n",
      "[7 2 1 0 4 1 4 9 5 9]\n",
      "[7 2 1 0 4 1 4 9 5 9]\n"
     ]
    }
   ],
   "source": [
    "# 예측\n",
    "preds = model.predict(x_test[:10])\n",
    "print(tf.argmax(preds,axis=1).numpy())\n",
    "print(y_test[:10])"
   ]
  },
  {
   "cell_type": "code",
   "execution_count": null,
   "id": "89a58cfe-4060-4698-b966-b52fe069470c",
   "metadata": {},
   "outputs": [],
   "source": []
  }
 ],
 "metadata": {
  "kernelspec": {
   "display_name": "Python 3 (ipykernel)",
   "language": "python",
   "name": "python3"
  },
  "language_info": {
   "codemirror_mode": {
    "name": "ipython",
    "version": 3
   },
   "file_extension": ".py",
   "mimetype": "text/x-python",
   "name": "python",
   "nbconvert_exporter": "python",
   "pygments_lexer": "ipython3",
   "version": "3.10.14"
  }
 },
 "nbformat": 4,
 "nbformat_minor": 5
}
