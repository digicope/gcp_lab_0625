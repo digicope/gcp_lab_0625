{
 "cells": [
  {
   "cell_type": "code",
   "execution_count": 1,
   "metadata": {
    "colab": {
     "base_uri": "https://localhost:8080/",
     "height": 35
    },
    "colab_type": "code",
    "executionInfo": {
     "elapsed": 2200,
     "status": "ok",
     "timestamp": 1597323652067,
     "user": {
      "displayName": "고병화",
      "photoUrl": "https://lh3.googleusercontent.com/a-/AOh14GgLZcAZyPt33HiIqtXjHiL8D4PIcVPdfLgODP1QBA=s64",
      "userId": "12645007744594631320"
     },
     "user_tz": -540
    },
    "id": "izH5NI_N0ECe",
    "outputId": "aa672ee4-ba53-4b74-94b8-a37e401dffcc"
   },
   "outputs": [],
   "source": [
    "# Boston_Dataset_Deep_Neural_Net_과제답안\n",
    "# 3 Layer DNN(Deep Neural Net)\n",
    "\n",
    "import tensorflow as tf\n",
    "import numpy as np\n",
    "import csv\n",
    "tf.random.set_seed(5)"
   ]
  },
  {
   "cell_type": "code",
   "execution_count": 2,
   "metadata": {
    "colab": {
     "base_uri": "https://localhost:8080/",
     "height": 53
    },
    "colab_type": "code",
    "executionInfo": {
     "elapsed": 2183,
     "status": "ok",
     "timestamp": 1597323652069,
     "user": {
      "displayName": "고병화",
      "photoUrl": "https://lh3.googleusercontent.com/a-/AOh14GgLZcAZyPt33HiIqtXjHiL8D4PIcVPdfLgODP1QBA=s64",
      "userId": "12645007744594631320"
     },
     "user_tz": -540
    },
    "id": "1iH4wSSP0efE",
    "outputId": "e7ad1d13-76ad-4611-ba41-8ed0a0ab52d0"
   },
   "outputs": [
    {
     "name": "stdout",
     "output_type": "stream",
     "text": [
      "(400, 9)\n",
      "(400, 1)\n"
     ]
    }
   ],
   "source": [
    "boston_train = np.loadtxt('boston_train.csv', delimiter=',', dtype=np.float32, skiprows=1)\n",
    "boston_test = np.loadtxt('boston_test.csv', delimiter=',', dtype=np.float32, skiprows=1)\n",
    "\n",
    "x_train = boston_train[:,:-1]\n",
    "y_train = boston_train[:,[-1]]\n",
    "print(x_train.shape)   # (400,9)\n",
    "print(y_train.shape)   # (400,1)"
   ]
  },
  {
   "cell_type": "code",
   "execution_count": 3,
   "metadata": {
    "colab": {},
    "colab_type": "code",
    "executionInfo": {
     "elapsed": 3120,
     "status": "ok",
     "timestamp": 1597323653018,
     "user": {
      "displayName": "고병화",
      "photoUrl": "https://lh3.googleusercontent.com/a-/AOh14GgLZcAZyPt33HiIqtXjHiL8D4PIcVPdfLgODP1QBA=s64",
      "userId": "12645007744594631320"
     },
     "user_tz": -540
    },
    "id": "gL5J4Ina0ECm"
   },
   "outputs": [],
   "source": [
    "# Layer 1\n",
    "# (400,9) * (9,5) = (400,5)\n",
    "W1 = tf.Variable(tf.random.normal([9,5]), name='weight1')\n",
    "b1 = tf.Variable(tf.random.normal([5]), name='bias1')\n",
    "\n",
    "def layer1(X):\n",
    "    return  tf.nn.relu(tf.matmul(X,W1) + b1 )"
   ]
  },
  {
   "cell_type": "code",
   "execution_count": 4,
   "metadata": {
    "colab": {},
    "colab_type": "code",
    "executionInfo": {
     "elapsed": 3115,
     "status": "ok",
     "timestamp": 1597323653019,
     "user": {
      "displayName": "고병화",
      "photoUrl": "https://lh3.googleusercontent.com/a-/AOh14GgLZcAZyPt33HiIqtXjHiL8D4PIcVPdfLgODP1QBA=s64",
      "userId": "12645007744594631320"
     },
     "user_tz": -540
    },
    "id": "iXShdYF90ECq"
   },
   "outputs": [],
   "source": [
    "# layer 2\n",
    "# (400,5) * (5,2) = (400,2)\n",
    "W2 = tf.Variable(tf.random.normal([5,2]), name='weight2')\n",
    "b2 = tf.Variable(tf.random.normal([2]), name='bias2')\n",
    "\n",
    "def layer2(X):\n",
    "    return  tf.nn.relu(tf.matmul(layer1(X),W2) + b2 )"
   ]
  },
  {
   "cell_type": "code",
   "execution_count": 5,
   "metadata": {
    "colab": {},
    "colab_type": "code",
    "executionInfo": {
     "elapsed": 3109,
     "status": "ok",
     "timestamp": 1597323653021,
     "user": {
      "displayName": "고병화",
      "photoUrl": "https://lh3.googleusercontent.com/a-/AOh14GgLZcAZyPt33HiIqtXjHiL8D4PIcVPdfLgODP1QBA=s64",
      "userId": "12645007744594631320"
     },
     "user_tz": -540
    },
    "id": "wkmUGoCt4Mmo"
   },
   "outputs": [],
   "source": [
    "# layer 3\n",
    "# (400,2) * (2,1) = (400,1)\n",
    "W3 = tf.Variable(tf.random.normal([2,1]), name='weight3')\n",
    "b3 = tf.Variable(tf.random.normal([1]), name='bias3')"
   ]
  },
  {
   "cell_type": "code",
   "execution_count": 6,
   "metadata": {
    "colab": {},
    "colab_type": "code",
    "executionInfo": {
     "elapsed": 3103,
     "status": "ok",
     "timestamp": 1597323653022,
     "user": {
      "displayName": "고병화",
      "photoUrl": "https://lh3.googleusercontent.com/a-/AOh14GgLZcAZyPt33HiIqtXjHiL8D4PIcVPdfLgODP1QBA=s64",
      "userId": "12645007744594631320"
     },
     "user_tz": -540
    },
    "id": "K_EOOJ5B0EC0"
   },
   "outputs": [],
   "source": [
    "# hypothesis 예측 함수(방정식)  , H(x) = W * X + b\n",
    "def hypothesis(X):\n",
    "    return  tf.matmul(layer2(X),W3) + b3  "
   ]
  },
  {
   "cell_type": "code",
   "execution_count": 7,
   "metadata": {
    "colab": {},
    "colab_type": "code",
    "executionInfo": {
     "elapsed": 3096,
     "status": "ok",
     "timestamp": 1597323653023,
     "user": {
      "displayName": "고병화",
      "photoUrl": "https://lh3.googleusercontent.com/a-/AOh14GgLZcAZyPt33HiIqtXjHiL8D4PIcVPdfLgODP1QBA=s64",
      "userId": "12645007744594631320"
     },
     "user_tz": -540
    },
    "id": "bukL8DzE0EC5"
   },
   "outputs": [],
   "source": [
    "# 비용함수 : (Hx - y)^2 의 평균\n",
    "def cost_func():\n",
    "    cost = tf.reduce_mean(tf.square((hypothesis(x_train) - y_train)))\n",
    "    return cost"
   ]
  },
  {
   "cell_type": "code",
   "execution_count": 9,
   "metadata": {
    "colab": {},
    "colab_type": "code",
    "executionInfo": {
     "elapsed": 3091,
     "status": "ok",
     "timestamp": 1597323653025,
     "user": {
      "displayName": "고병화",
      "photoUrl": "https://lh3.googleusercontent.com/a-/AOh14GgLZcAZyPt33HiIqtXjHiL8D4PIcVPdfLgODP1QBA=s64",
      "userId": "12645007744594631320"
     },
     "user_tz": -540
    },
    "id": "TDe0GvXJ0EC9"
   },
   "outputs": [],
   "source": [
    "# 경사 하강법\n",
    "# learning rate (학습율) 을 0.01로 설정하여  optimizer객체를 생성\n",
    "# optimizer = tf.compat.v1.train.GradientDescentOptimizer(learning_rate=0.01)\n",
    "optimizer = tf.keras.optimizers.Adam(learning_rate=0.01)"
   ]
  },
  {
   "cell_type": "code",
   "execution_count": 10,
   "metadata": {
    "colab": {
     "base_uri": "https://localhost:8080/",
     "height": 251
    },
    "colab_type": "code",
    "executionInfo": {
     "elapsed": 34593,
     "status": "ok",
     "timestamp": 1597323684535,
     "user": {
      "displayName": "고병화",
      "photoUrl": "https://lh3.googleusercontent.com/a-/AOh14GgLZcAZyPt33HiIqtXjHiL8D4PIcVPdfLgODP1QBA=s64",
      "userId": "12645007744594631320"
     },
     "user_tz": -540
    },
    "id": "dCd9NcZU0EDB",
    "outputId": "fa0fe364-aec9-4fbc-b6bf-a8fa96728421"
   },
   "outputs": [
    {
     "name": "stdout",
     "output_type": "stream",
     "text": [
      "***** Start Learning!!\n",
      "0000 cost: [ 642.0554 ]\n",
      "1000 cost: [ 48.661392 ]\n",
      "2000 cost: [ 30.033325 ]\n",
      "3000 cost: [ 29.162199 ]\n",
      "4000 cost: [ 28.880713 ]\n",
      "5000 cost: [ 28.782488 ]\n",
      "6000 cost: [ 28.808262 ]\n",
      "7000 cost: [ 28.6591 ]\n",
      "8000 cost: [ 28.680044 ]\n",
      "9000 cost: [ 28.753757 ]\n",
      "10000 cost: [ 28.695383 ]\n",
      "***** Learning Finished!!\n"
     ]
    }
   ],
   "source": [
    "# 학습 시작\n",
    "print('***** Start Learning!!')\n",
    "for step in range(10001):\n",
    "    # cost를 minimize한다\n",
    "    optimizer.minimize(cost_func, var_list=[W1,b1,W2,b2,W3,b3])\n",
    "    \n",
    "    if step % 1000 == 0:\n",
    "        print('%04d'%step, 'cost: [', cost_func().numpy(), ']' )\n",
    "        \n",
    "print('***** Learning Finished!!')"
   ]
  },
  {
   "cell_type": "code",
   "execution_count": 11,
   "metadata": {
    "colab": {
     "base_uri": "https://localhost:8080/",
     "height": 359
    },
    "colab_type": "code",
    "executionInfo": {
     "elapsed": 34585,
     "status": "ok",
     "timestamp": 1597323684537,
     "user": {
      "displayName": "고병화",
      "photoUrl": "https://lh3.googleusercontent.com/a-/AOh14GgLZcAZyPt33HiIqtXjHiL8D4PIcVPdfLgODP1QBA=s64",
      "userId": "12645007744594631320"
     },
     "user_tz": -540
    },
    "id": "Pz0hSjCu0EDG",
    "outputId": "5f769170-352b-4fc4-92b0-dcb2b2d7a0be"
   },
   "outputs": [
    {
     "name": "stdout",
     "output_type": "stream",
     "text": [
      "Weight = [[-1.80306658e-01 -1.17767346e+00 -3.96404900e-02 -4.18742359e-01\n",
      "   1.32315230e+00]\n",
      " [-6.18548036e-01  3.99220854e-01 -8.89995322e-02  1.48333162e-02\n",
      "   7.62508035e-01]\n",
      " [ 1.26596153e+00  6.35378957e-01  1.52931213e+00 -1.28881820e-03\n",
      "   8.98704469e-01]\n",
      " [-1.25080097e+00 -1.27143407e+00  1.26074600e+00 -1.71925087e+01\n",
      "   2.61576567e-02]\n",
      " [ 2.23287448e-01  5.27852476e-01 -3.70480627e-01  8.77182961e+00\n",
      "   1.37945250e-01]\n",
      " [ 7.59692490e-01  8.27188417e-02 -1.38008511e+00 -5.35058752e-02\n",
      "   1.13838840e+00]\n",
      " [-9.13305819e-01  2.77797788e-01 -6.78932011e-01 -1.41885281e+00\n",
      "  -4.98232633e-01]\n",
      " [-9.33610678e-01 -3.82891715e-01 -4.05013636e-02 -8.80473875e-04\n",
      "  -1.41866553e+00]\n",
      " [-9.09906268e-01  7.44994819e-01 -1.11880384e-01 -9.22234595e-01\n",
      "  -1.42015254e+00]]\n",
      "Bias = [ 0.22652864  0.37954336  0.74660945 -9.627109    0.72448725]\n"
     ]
    }
   ],
   "source": [
    "# 회귀 계수 출력\n",
    "print('Weight =', W1.numpy())\n",
    "print('Bias =', b1.numpy())"
   ]
  },
  {
   "cell_type": "code",
   "execution_count": 12,
   "metadata": {
    "colab": {},
    "colab_type": "code",
    "executionInfo": {
     "elapsed": 34578,
     "status": "ok",
     "timestamp": 1597323684539,
     "user": {
      "displayName": "고병화",
      "photoUrl": "https://lh3.googleusercontent.com/a-/AOh14GgLZcAZyPt33HiIqtXjHiL8D4PIcVPdfLgODP1QBA=s64",
      "userId": "12645007744594631320"
     },
     "user_tz": -540
    },
    "id": "zV_0TdHt0EDK"
   },
   "outputs": [],
   "source": [
    "# 예측\n",
    "x_test = boston_test[:,:-1]\n",
    "y_test = boston_test[:,[-1]]\n",
    "\n",
    "preds = hypothesis(x_test).numpy()"
   ]
  },
  {
   "cell_type": "code",
   "execution_count": 13,
   "metadata": {
    "colab": {
     "base_uri": "https://localhost:8080/",
     "height": 35
    },
    "colab_type": "code",
    "executionInfo": {
     "elapsed": 34571,
     "status": "ok",
     "timestamp": 1597323684539,
     "user": {
      "displayName": "고병화",
      "photoUrl": "https://lh3.googleusercontent.com/a-/AOh14GgLZcAZyPt33HiIqtXjHiL8D4PIcVPdfLgODP1QBA=s64",
      "userId": "12645007744594631320"
     },
     "user_tz": -540
    },
    "id": "C5mWp2Ja0EDN",
    "outputId": "1537c46e-9f2f-445e-9201-2b0876166b35"
   },
   "outputs": [
    {
     "name": "stdout",
     "output_type": "stream",
     "text": [
      "RMSE: 3.6563296\n"
     ]
    }
   ],
   "source": [
    "# 정확도 측정(RMSE)\n",
    "def get_rmse(y_test,preds):\n",
    "    squared_error = 0\n",
    "    for k,_ in enumerate(y_test):\n",
    "        squared_error += (preds[k] - y_test[k])**2\n",
    "    mse = squared_error/len(y_test)    \n",
    "    rmse = np.sqrt(mse)\n",
    "    return rmse[0]  \n",
    "\n",
    "print('RMSE:', get_rmse(y_test,preds))\n",
    "# layer 1 ---->   RMSE: 4.0023303 \n",
    "# layer 3 ---->   RMSE: 3.6358266  , RMSE가 감소하여 정확도가 향상됨"
   ]
  },
  {
   "cell_type": "code",
   "execution_count": null,
   "metadata": {
    "colab": {},
    "colab_type": "code",
    "executionInfo": {
     "elapsed": 34561,
     "status": "ok",
     "timestamp": 1597323684540,
     "user": {
      "displayName": "고병화",
      "photoUrl": "https://lh3.googleusercontent.com/a-/AOh14GgLZcAZyPt33HiIqtXjHiL8D4PIcVPdfLgODP1QBA=s64",
      "userId": "12645007744594631320"
     },
     "user_tz": -540
    },
    "id": "CBxnduqG0EDR"
   },
   "outputs": [],
   "source": []
  }
 ],
 "metadata": {
  "accelerator": "GPU",
  "colab": {
   "collapsed_sections": [],
   "name": "Boston_Dataset_Deep_Neural_Net_과제답안.ipynb",
   "provenance": []
  },
  "kernelspec": {
   "display_name": "Python 3 (ipykernel)",
   "language": "python",
   "name": "python3"
  },
  "language_info": {
   "codemirror_mode": {
    "name": "ipython",
    "version": 3
   },
   "file_extension": ".py",
   "mimetype": "text/x-python",
   "name": "python",
   "nbconvert_exporter": "python",
   "pygments_lexer": "ipython3",
   "version": "3.10.14"
  }
 },
 "nbformat": 4,
 "nbformat_minor": 4
}
