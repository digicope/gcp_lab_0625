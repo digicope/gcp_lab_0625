{
 "cells": [
  {
   "cell_type": "code",
   "execution_count": 1,
   "id": "ebd059d7-eae7-405f-9332-d63d6eb8103d",
   "metadata": {},
   "outputs": [],
   "source": [
    "# sarcasm json data binary classification\n",
    "# total 26,709 headlines  "
   ]
  },
  {
   "cell_type": "code",
   "execution_count": 2,
   "id": "19ce4649-55e7-43a3-80db-06f96f96eefb",
   "metadata": {},
   "outputs": [],
   "source": [
    "import json\n",
    "import tensorflow as tf\n",
    "import urllib\n",
    "from tensorflow.keras.preprocessing.text import Tokenizer\n",
    "from tensorflow.keras.preprocessing.sequence import pad_sequences"
   ]
  },
  {
   "cell_type": "code",
   "execution_count": 3,
   "id": "9a73df1f-b039-4cbc-b6e6-59d318bf37f2",
   "metadata": {},
   "outputs": [
    {
     "data": {
      "text/plain": [
       "('sarcasm.json', <http.client.HTTPMessage at 0x29848fcfa90>)"
      ]
     },
     "execution_count": 3,
     "metadata": {},
     "output_type": "execute_result"
    }
   ],
   "source": [
    "# sarcasm.json 데이터셋 파일 다운로드 , Windows용\n",
    "url = 'https://storage.googleapis.com/download.tensorflow.org/data/sarcasm.json'\n",
    "urllib.request.urlretrieve(url, 'sarcasm.json')"
   ]
  },
  {
   "cell_type": "code",
   "execution_count": 7,
   "id": "cad9304e-bfb6-4b3b-ae2d-48f78bc866ca",
   "metadata": {},
   "outputs": [],
   "source": [
    "# 데이터 파일 불러오기\n",
    "with open('sarcasm.json','r') as f:\n",
    "    datastore = json.load(f)\n",
    "\n",
    "sentences = []\n",
    "labels = []\n",
    "\n",
    "for item in datastore:\n",
    "    sentences.append(item['headline'])\n",
    "    labels.append(item['is_sarcastic'])    "
   ]
  },
  {
   "cell_type": "code",
   "execution_count": 10,
   "id": "f301506b-cfe0-461b-8e92-de5a455dd427",
   "metadata": {},
   "outputs": [
    {
     "name": "stdout",
     "output_type": "stream",
     "text": [
      "<class 'dict'>\n",
      "(26709, 2)\n",
      "is_sarcastic\n",
      "0    14985\n",
      "1    11724\n",
      "Name: count, dtype: int64\n"
     ]
    },
    {
     "data": {
      "text/html": [
       "<div>\n",
       "<style scoped>\n",
       "    .dataframe tbody tr th:only-of-type {\n",
       "        vertical-align: middle;\n",
       "    }\n",
       "\n",
       "    .dataframe tbody tr th {\n",
       "        vertical-align: top;\n",
       "    }\n",
       "\n",
       "    .dataframe thead th {\n",
       "        text-align: right;\n",
       "    }\n",
       "</style>\n",
       "<table border=\"1\" class=\"dataframe\">\n",
       "  <thead>\n",
       "    <tr style=\"text-align: right;\">\n",
       "      <th></th>\n",
       "      <th>headline</th>\n",
       "      <th>is_sarcastic</th>\n",
       "    </tr>\n",
       "  </thead>\n",
       "  <tbody>\n",
       "    <tr>\n",
       "      <th>0</th>\n",
       "      <td>former versace store clerk sues over secret 'b...</td>\n",
       "      <td>0</td>\n",
       "    </tr>\n",
       "    <tr>\n",
       "      <th>1</th>\n",
       "      <td>the 'roseanne' revival catches up to our thorn...</td>\n",
       "      <td>0</td>\n",
       "    </tr>\n",
       "    <tr>\n",
       "      <th>2</th>\n",
       "      <td>mom starting to fear son's web series closest ...</td>\n",
       "      <td>1</td>\n",
       "    </tr>\n",
       "    <tr>\n",
       "      <th>3</th>\n",
       "      <td>boehner just wants wife to listen, not come up...</td>\n",
       "      <td>1</td>\n",
       "    </tr>\n",
       "    <tr>\n",
       "      <th>4</th>\n",
       "      <td>j.k. rowling wishes snape happy birthday in th...</td>\n",
       "      <td>0</td>\n",
       "    </tr>\n",
       "    <tr>\n",
       "      <th>5</th>\n",
       "      <td>advancing the world's women</td>\n",
       "      <td>0</td>\n",
       "    </tr>\n",
       "    <tr>\n",
       "      <th>6</th>\n",
       "      <td>the fascinating case for eating lab-grown meat</td>\n",
       "      <td>0</td>\n",
       "    </tr>\n",
       "    <tr>\n",
       "      <th>7</th>\n",
       "      <td>this ceo will send your kids to school, if you...</td>\n",
       "      <td>0</td>\n",
       "    </tr>\n",
       "    <tr>\n",
       "      <th>8</th>\n",
       "      <td>top snake handler leaves sinking huckabee camp...</td>\n",
       "      <td>1</td>\n",
       "    </tr>\n",
       "    <tr>\n",
       "      <th>9</th>\n",
       "      <td>friday's morning email: inside trump's presser...</td>\n",
       "      <td>0</td>\n",
       "    </tr>\n",
       "  </tbody>\n",
       "</table>\n",
       "</div>"
      ],
      "text/plain": [
       "                                            headline  is_sarcastic\n",
       "0  former versace store clerk sues over secret 'b...             0\n",
       "1  the 'roseanne' revival catches up to our thorn...             0\n",
       "2  mom starting to fear son's web series closest ...             1\n",
       "3  boehner just wants wife to listen, not come up...             1\n",
       "4  j.k. rowling wishes snape happy birthday in th...             0\n",
       "5                        advancing the world's women             0\n",
       "6     the fascinating case for eating lab-grown meat             0\n",
       "7  this ceo will send your kids to school, if you...             0\n",
       "8  top snake handler leaves sinking huckabee camp...             1\n",
       "9  friday's morning email: inside trump's presser...             0"
      ]
     },
     "execution_count": 10,
     "metadata": {},
     "output_type": "execute_result"
    }
   ],
   "source": [
    "# 데이터 프레임으로 보기\n",
    "import pandas as pd\n",
    "df = pd.DataFrame(datastore)\n",
    "df = df.iloc[:,1:]\n",
    "\n",
    "print(type(datastore[0]))  # <class 'dict'>\n",
    "print(df.shape)            # (26709, 2)\n",
    "print(df['is_sarcastic'].value_counts())   # 0    14985 : not sarcastic \n",
    "                                           # 1    11724 : sarcastic\n",
    "df.head(10)"
   ]
  },
  {
   "cell_type": "markdown",
   "id": "0b95a8b9-8fc2-4e23-9090-4ed81e3bd3c5",
   "metadata": {},
   "source": [
    "### 텍스트 전처리: Tokenizer"
   ]
  },
  {
   "cell_type": "code",
   "execution_count": 11,
   "id": "27b9f647-7f32-450d-9bea-026f068a9191",
   "metadata": {},
   "outputs": [],
   "source": [
    "# 전처리를 위한 변수 설정\n",
    "vocab_size = 10000    # 토큰화에 사용될 최대 어휘수\n",
    "embedding_dim = 16    # Embedding 계층의 output size \n",
    "max_length = 100      # 한 문장의 길이, 데이터 셋의 길이, maxlen\n",
    "trunc_type = 'post'   # maxlen보다 클때 잘라낼 유형, 'post' : 뒤쪽\n",
    "padding_type = 'post' # maxlen보다 작을때 0을 추가할 유형, 'post' : 뒤쪽\n",
    "oov_tok = \"<OOV>\"     # Out-Of-Vocabulary(단어 집합에 없는 단어)\n",
    "training_size = 20000 # 학습 데이터의 갯수"
   ]
  },
  {
   "cell_type": "code",
   "execution_count": 33,
   "id": "e3d65565-eb2f-4dcd-a462-b890d38d9c0f",
   "metadata": {},
   "outputs": [],
   "source": [
    "# train(20000)/test(6709) data split \n",
    "training_sentences = sentences[:training_size]\n",
    "training_labels = labels[:training_size]\n",
    "\n",
    "testing_sentences = sentences[training_size:]\n",
    "testing_labels = labels[training_size:]"
   ]
  },
  {
   "cell_type": "code",
   "execution_count": 35,
   "id": "f88acf2b-161a-4b14-ba64-fae8b3f59005",
   "metadata": {},
   "outputs": [
    {
     "name": "stdout",
     "output_type": "stream",
     "text": [
      "(20000, 100)\n",
      "(6709, 100)\n"
     ]
    }
   ],
   "source": [
    "# 토큰나이저를 시행하여 단어를 숫자값, 인덱스로 변환하여 저장\n",
    "\n",
    "# 가장 빈도가 높은 10000개의 단어들만 사용하여 토큰화\n",
    "tokenizer = Tokenizer(num_words=vocab_size,oov_token=oov_tok)\n",
    "\n",
    "# 단어 인덱스를 구축 \n",
    "tokenizer.fit_on_texts(training_sentences)\n",
    "\n",
    "word_index = tokenizer.word_index\n",
    "# print(word_index)\n",
    "\n",
    "# 문자열을 정수 인덱스의 리스트로 변환 : 정수 인코딩\n",
    "training_sequences = tokenizer.texts_to_sequences(training_sentences) # type은 list\n",
    "# print(training_sequences[0])\n",
    "\n",
    "# 패딩, 벡터 표현을 얻음 : 신경망에 입력할 X값\n",
    "training_padded = pad_sequences(training_sequences,maxlen=max_length,\n",
    "                                padding=padding_type,truncating=trunc_type)\n",
    "\n",
    "# print(training_padded[0])\n",
    "\n",
    "# test 데이터 : 정수 인덱스의 리스트로 변환\n",
    "testing_sequences = tokenizer.texts_to_sequences(testing_sentences)\n",
    "\n",
    "# test 데이터 : 벡터 표현을 얻음 \n",
    "testing_padded = pad_sequences(testing_sequences,maxlen=max_length,\n",
    "                                padding=padding_type,truncating=trunc_type)\n",
    "\n",
    "print(training_padded.shape)  # (20000, 100)\n",
    "print(testing_padded.shape)   # (6709, 100)"
   ]
  },
  {
   "cell_type": "code",
   "execution_count": 38,
   "id": "71efa61f-feb1-4107-99f2-67ab1f20b184",
   "metadata": {},
   "outputs": [],
   "source": [
    "# list를 array로 변환\n",
    "import numpy as np\n",
    "training_labels = np.array(training_labels)  # (20000,)\n",
    "testing_labels = np.array(testing_labels)    # (6709,)"
   ]
  },
  {
   "cell_type": "markdown",
   "id": "6801a687-f880-4081-b7cc-89f1109a1a84",
   "metadata": {},
   "source": [
    "### 학습모델"
   ]
  },
  {
   "cell_type": "code",
   "execution_count": 45,
   "id": "1c276b4d-9218-46ab-8398-3aaaa33377d8",
   "metadata": {},
   "outputs": [
    {
     "name": "stdout",
     "output_type": "stream",
     "text": [
      "Model: \"sequential_3\"\n",
      "_________________________________________________________________\n",
      " Layer (type)                Output Shape              Param #   \n",
      "=================================================================\n",
      " embedding_3 (Embedding)     (None, 100, 16)           160000    \n",
      "                                                                 \n",
      " global_average_pooling1d_2   (None, 16)               0         \n",
      " (GlobalAveragePooling1D)                                        \n",
      "                                                                 \n",
      " dense_2 (Dense)             (None, 24)                408       \n",
      "                                                                 \n",
      " dense_3 (Dense)             (None, 1)                 25        \n",
      "                                                                 \n",
      "=================================================================\n",
      "Total params: 160,433\n",
      "Trainable params: 160,433\n",
      "Non-trainable params: 0\n",
      "_________________________________________________________________\n"
     ]
    }
   ],
   "source": [
    "model = tf.keras.Sequential([\n",
    "    tf.keras.layers.Embedding(vocab_size,embedding_dim,input_length=max_length),\n",
    "    tf.keras.layers.GlobalAveragePooling1D(), # feature를 1 차원 벡터로 변환\n",
    "    tf.keras.layers.Dense(24,activation='relu'),\n",
    "    tf.keras.layers.Dense(1,activation='sigmoid')                      \n",
    "])\n",
    "\n",
    "model.compile(optimizer='adam',\n",
    "              loss='binary_crossentropy',\n",
    "              metrics=['accuracy'])\n",
    "model.summary()"
   ]
  },
  {
   "cell_type": "code",
   "execution_count": 46,
   "id": "153ddc03-19ec-4bc9-9aa4-0cc5423bb523",
   "metadata": {},
   "outputs": [
    {
     "name": "stdout",
     "output_type": "stream",
     "text": [
      "Epoch 1/30\n",
      "625/625 [==============================] - 5s 4ms/step - loss: 0.6760 - accuracy: 0.5586 - val_loss: 0.6400 - val_accuracy: 0.5633\n",
      "Epoch 2/30\n",
      "625/625 [==============================] - 2s 4ms/step - loss: 0.5389 - accuracy: 0.7364 - val_loss: 0.4869 - val_accuracy: 0.7646\n",
      "Epoch 3/30\n",
      "625/625 [==============================] - 2s 4ms/step - loss: 0.4069 - accuracy: 0.8670 - val_loss: 0.4187 - val_accuracy: 0.8280\n",
      "Epoch 4/30\n",
      "625/625 [==============================] - 2s 3ms/step - loss: 0.3334 - accuracy: 0.8917 - val_loss: 0.3850 - val_accuracy: 0.8463\n",
      "Epoch 5/30\n",
      "625/625 [==============================] - 2s 3ms/step - loss: 0.2796 - accuracy: 0.9108 - val_loss: 0.3686 - val_accuracy: 0.8515\n",
      "Epoch 6/30\n",
      "625/625 [==============================] - 2s 4ms/step - loss: 0.2419 - accuracy: 0.9219 - val_loss: 0.3627 - val_accuracy: 0.8524\n",
      "Epoch 7/30\n",
      "625/625 [==============================] - 2s 3ms/step - loss: 0.2113 - accuracy: 0.9327 - val_loss: 0.3867 - val_accuracy: 0.8420\n",
      "Epoch 8/30\n",
      "625/625 [==============================] - 2s 4ms/step - loss: 0.1862 - accuracy: 0.9412 - val_loss: 0.3837 - val_accuracy: 0.8465\n",
      "Epoch 9/30\n",
      "625/625 [==============================] - 2s 4ms/step - loss: 0.1679 - accuracy: 0.9454 - val_loss: 0.3915 - val_accuracy: 0.8512\n",
      "Epoch 10/30\n",
      "625/625 [==============================] - 2s 4ms/step - loss: 0.1515 - accuracy: 0.9519 - val_loss: 0.4026 - val_accuracy: 0.8480\n",
      "Epoch 11/30\n",
      "625/625 [==============================] - 2s 3ms/step - loss: 0.1363 - accuracy: 0.9589 - val_loss: 0.4424 - val_accuracy: 0.8419\n",
      "Epoch 12/30\n",
      "625/625 [==============================] - 2s 4ms/step - loss: 0.1250 - accuracy: 0.9621 - val_loss: 0.4517 - val_accuracy: 0.8422\n",
      "Epoch 13/30\n",
      "625/625 [==============================] - 2s 4ms/step - loss: 0.1159 - accuracy: 0.9656 - val_loss: 0.5109 - val_accuracy: 0.8338\n",
      "Epoch 14/30\n",
      "625/625 [==============================] - 2s 4ms/step - loss: 0.1070 - accuracy: 0.9680 - val_loss: 0.5370 - val_accuracy: 0.8332\n",
      "Epoch 15/30\n",
      "625/625 [==============================] - 2s 3ms/step - loss: 0.0997 - accuracy: 0.9709 - val_loss: 0.5555 - val_accuracy: 0.8325\n",
      "Epoch 16/30\n",
      "625/625 [==============================] - 2s 4ms/step - loss: 0.0906 - accuracy: 0.9754 - val_loss: 0.5518 - val_accuracy: 0.8363\n",
      "Epoch 17/30\n",
      "625/625 [==============================] - 2s 4ms/step - loss: 0.0854 - accuracy: 0.9760 - val_loss: 0.5598 - val_accuracy: 0.8179\n",
      "Epoch 18/30\n",
      "625/625 [==============================] - 2s 4ms/step - loss: 0.0803 - accuracy: 0.9782 - val_loss: 0.6074 - val_accuracy: 0.8331\n",
      "Epoch 19/30\n",
      "625/625 [==============================] - 2s 4ms/step - loss: 0.0748 - accuracy: 0.9806 - val_loss: 0.7662 - val_accuracy: 0.8231\n",
      "Epoch 20/30\n",
      "625/625 [==============================] - 3s 4ms/step - loss: 0.0713 - accuracy: 0.9810 - val_loss: 0.7316 - val_accuracy: 0.8284\n",
      "Epoch 21/30\n",
      "625/625 [==============================] - 2s 4ms/step - loss: 0.0668 - accuracy: 0.9831 - val_loss: 0.7317 - val_accuracy: 0.8302\n",
      "Epoch 22/30\n",
      "625/625 [==============================] - 2s 4ms/step - loss: 0.0630 - accuracy: 0.9844 - val_loss: 0.8104 - val_accuracy: 0.8246\n",
      "Epoch 23/30\n",
      "625/625 [==============================] - 2s 4ms/step - loss: 0.0591 - accuracy: 0.9857 - val_loss: 0.8280 - val_accuracy: 0.8247\n",
      "Epoch 24/30\n",
      "625/625 [==============================] - 2s 4ms/step - loss: 0.0560 - accuracy: 0.9865 - val_loss: 0.8285 - val_accuracy: 0.8243\n",
      "Epoch 25/30\n",
      "625/625 [==============================] - 2s 4ms/step - loss: 0.0522 - accuracy: 0.9879 - val_loss: 0.8034 - val_accuracy: 0.8223\n",
      "Epoch 26/30\n",
      "625/625 [==============================] - 2s 4ms/step - loss: 0.0515 - accuracy: 0.9879 - val_loss: 0.9883 - val_accuracy: 0.8205\n",
      "Epoch 27/30\n",
      "625/625 [==============================] - 2s 4ms/step - loss: 0.0496 - accuracy: 0.9883 - val_loss: 1.0415 - val_accuracy: 0.8183\n",
      "Epoch 28/30\n",
      "625/625 [==============================] - 3s 4ms/step - loss: 0.0464 - accuracy: 0.9896 - val_loss: 0.9584 - val_accuracy: 0.8216\n",
      "Epoch 29/30\n",
      "625/625 [==============================] - 2s 4ms/step - loss: 0.0443 - accuracy: 0.9904 - val_loss: 0.9480 - val_accuracy: 0.8199\n",
      "Epoch 30/30\n",
      "625/625 [==============================] - 2s 4ms/step - loss: 0.0429 - accuracy: 0.9910 - val_loss: 0.9637 - val_accuracy: 0.8192\n"
     ]
    }
   ],
   "source": [
    "# 학습\n",
    "history = model.fit(training_padded,training_labels,epochs=30,\n",
    "                    validation_data=(testing_padded,testing_labels))"
   ]
  },
  {
   "cell_type": "code",
   "execution_count": 47,
   "id": "ef913609-b39b-45cc-b309-9d4245fc30e1",
   "metadata": {},
   "outputs": [
    {
     "data": {
      "image/png": "[encoded data removed]",
      "text/plain": [
       "<Figure size 640x480 with 1 Axes>"
      ]
     },
     "metadata": {},
     "output_type": "display_data"
    },
    {
     "data": {
      "image/png": "[encoded data removed]",
      "text/plain": [
       "<Figure size 640x480 with 1 Axes>"
      ]
     },
     "metadata": {},
     "output_type": "display_data"
    }
   ],
   "source": [
    "# 시각화\n",
    "import matplotlib.pyplot as plt\n",
    "\n",
    "def plot_graphs(history, string):\n",
    "    plt.plot(history.history[string])\n",
    "    plt.plot(history.history['val_'+string])\n",
    "    plt.xlabel(\"Epochs\")\n",
    "    plt.ylabel(string)\n",
    "    plt.legend([string, 'val_'+string])\n",
    "    plt.show()\n",
    "\n",
    "plot_graphs(history, \"accuracy\")\n",
    "plot_graphs(history, \"loss\")"
   ]
  },
  {
   "cell_type": "markdown",
   "id": "c04a8c4b-1453-459d-9803-ee14c402dcf6",
   "metadata": {},
   "source": [
    "### 모델 개선"
   ]
  },
  {
   "cell_type": "code",
   "execution_count": 51,
   "id": "d6ee0089-3d2c-41cc-abe4-5bd4fbded83c",
   "metadata": {},
   "outputs": [
    {
     "name": "stdout",
     "output_type": "stream",
     "text": [
      "Model: \"sequential_7\"\n",
      "_________________________________________________________________\n",
      " Layer (type)                Output Shape              Param #   \n",
      "=================================================================\n",
      " embedding_7 (Embedding)     (None, 100, 16)           160000    \n",
      "                                                                 \n",
      " dropout (Dropout)           (None, 100, 16)           0         \n",
      "                                                                 \n",
      " bidirectional_2 (Bidirectio  (None, 100, 128)         41472     \n",
      " nal)                                                            \n",
      "                                                                 \n",
      " dropout_1 (Dropout)         (None, 100, 128)          0         \n",
      "                                                                 \n",
      " bidirectional_3 (Bidirectio  (None, 64)               41216     \n",
      " nal)                                                            \n",
      "                                                                 \n",
      " dropout_2 (Dropout)         (None, 64)                0         \n",
      "                                                                 \n",
      " dense_8 (Dense)             (None, 64)                4160      \n",
      "                                                                 \n",
      " dense_9 (Dense)             (None, 1)                 65        \n",
      "                                                                 \n",
      "=================================================================\n",
      "Total params: 246,913\n",
      "Trainable params: 246,913\n",
      "Non-trainable params: 0\n",
      "_________________________________________________________________\n"
     ]
    }
   ],
   "source": [
    "# LSTM사용\n",
    "model = tf.keras.Sequential([\n",
    "    tf.keras.layers.Embedding(vocab_size,embedding_dim,input_length=max_length),\n",
    "    tf.keras.layers.Dropout(0.2),\n",
    "    tf.keras.layers.Bidirectional(tf.keras.layers.LSTM(64,return_sequences=True)),\n",
    "    tf.keras.layers.Dropout(0.2),\n",
    "    tf.keras.layers.Bidirectional(tf.keras.layers.LSTM(32)),\n",
    "    tf.keras.layers.Dropout(0.2),\n",
    "    tf.keras.layers.Dense(64,activation='relu'),\n",
    "    tf.keras.layers.Dense(1,activation='sigmoid')    \n",
    "])\n",
    "\n",
    "model.compile(optimizer='adam',\n",
    "              loss='binary_crossentropy',\n",
    "              metrics=['accuracy'])\n",
    "\n",
    "model.summary()"
   ]
  },
  {
   "cell_type": "code",
   "execution_count": 52,
   "id": "4a4b42fd-224e-4e65-a289-6651423dbb43",
   "metadata": {},
   "outputs": [
    {
     "name": "stdout",
     "output_type": "stream",
     "text": [
      "Epoch 1/30\n",
      "625/625 [==============================] - 33s 41ms/step - loss: 0.4265 - accuracy: 0.7907 - val_loss: 0.3458 - val_accuracy: 0.8441\n",
      "Epoch 2/30\n",
      "625/625 [==============================] - 24s 39ms/step - loss: 0.2412 - accuracy: 0.8998 - val_loss: 0.3355 - val_accuracy: 0.8560\n",
      "Epoch 3/30\n",
      "625/625 [==============================] - 24s 39ms/step - loss: 0.1714 - accuracy: 0.9317 - val_loss: 0.3814 - val_accuracy: 0.8527\n",
      "Epoch 4/30\n",
      "625/625 [==============================] - 25s 40ms/step - loss: 0.1261 - accuracy: 0.9526 - val_loss: 0.4241 - val_accuracy: 0.8492\n",
      "Epoch 5/30\n",
      "625/625 [==============================] - 25s 40ms/step - loss: 0.0933 - accuracy: 0.9659 - val_loss: 0.5080 - val_accuracy: 0.8469\n",
      "Epoch 6/30\n",
      "625/625 [==============================] - 29s 47ms/step - loss: 0.0727 - accuracy: 0.9742 - val_loss: 0.6061 - val_accuracy: 0.8423\n",
      "Epoch 7/30\n",
      "625/625 [==============================] - 27s 43ms/step - loss: 0.0592 - accuracy: 0.9789 - val_loss: 0.6289 - val_accuracy: 0.8426\n",
      "Epoch 8/30\n",
      "625/625 [==============================] - 24s 39ms/step - loss: 0.0504 - accuracy: 0.9822 - val_loss: 0.6569 - val_accuracy: 0.8445\n",
      "Epoch 9/30\n",
      "625/625 [==============================] - 24s 38ms/step - loss: 0.0410 - accuracy: 0.9851 - val_loss: 0.7665 - val_accuracy: 0.8350\n",
      "Epoch 10/30\n",
      "625/625 [==============================] - 25s 39ms/step - loss: 0.0351 - accuracy: 0.9872 - val_loss: 0.7243 - val_accuracy: 0.8334\n",
      "Epoch 11/30\n",
      "625/625 [==============================] - 24s 39ms/step - loss: 0.0320 - accuracy: 0.9888 - val_loss: 0.7433 - val_accuracy: 0.8353\n",
      "Epoch 12/30\n",
      "625/625 [==============================] - 24s 38ms/step - loss: 0.0283 - accuracy: 0.9901 - val_loss: 0.8079 - val_accuracy: 0.8331\n",
      "Epoch 13/30\n",
      "625/625 [==============================] - 25s 39ms/step - loss: 0.0260 - accuracy: 0.9921 - val_loss: 0.9828 - val_accuracy: 0.8383\n",
      "Epoch 14/30\n",
      "625/625 [==============================] - 24s 39ms/step - loss: 0.0202 - accuracy: 0.9930 - val_loss: 0.9201 - val_accuracy: 0.8338\n",
      "Epoch 15/30\n",
      "625/625 [==============================] - 24s 38ms/step - loss: 0.0176 - accuracy: 0.9935 - val_loss: 0.9571 - val_accuracy: 0.8331\n",
      "Epoch 16/30\n",
      "625/625 [==============================] - 25s 40ms/step - loss: 0.0156 - accuracy: 0.9949 - val_loss: 1.0337 - val_accuracy: 0.8346\n",
      "Epoch 17/30\n",
      "625/625 [==============================] - 25s 40ms/step - loss: 0.0201 - accuracy: 0.9931 - val_loss: 0.8429 - val_accuracy: 0.8359\n",
      "Epoch 18/30\n",
      "625/625 [==============================] - 25s 41ms/step - loss: 0.0144 - accuracy: 0.9949 - val_loss: 0.9614 - val_accuracy: 0.8369\n",
      "Epoch 19/30\n",
      "625/625 [==============================] - 27s 43ms/step - loss: 0.0150 - accuracy: 0.9943 - val_loss: 0.9741 - val_accuracy: 0.8356\n",
      "Epoch 20/30\n",
      "625/625 [==============================] - 25s 40ms/step - loss: 0.0121 - accuracy: 0.9956 - val_loss: 1.1646 - val_accuracy: 0.8363\n",
      "Epoch 21/30\n",
      "625/625 [==============================] - 26s 42ms/step - loss: 0.0135 - accuracy: 0.9955 - val_loss: 1.0282 - val_accuracy: 0.8337\n",
      "Epoch 22/30\n",
      "625/625 [==============================] - 25s 41ms/step - loss: 0.0112 - accuracy: 0.9959 - val_loss: 1.1247 - val_accuracy: 0.8344\n",
      "Epoch 23/30\n",
      "625/625 [==============================] - 25s 40ms/step - loss: 0.0108 - accuracy: 0.9961 - val_loss: 1.0379 - val_accuracy: 0.8343\n",
      "Epoch 24/30\n",
      "625/625 [==============================] - 25s 40ms/step - loss: 0.0109 - accuracy: 0.9962 - val_loss: 1.2152 - val_accuracy: 0.8281\n",
      "Epoch 25/30\n",
      "625/625 [==============================] - 25s 40ms/step - loss: 0.0089 - accuracy: 0.9967 - val_loss: 1.1726 - val_accuracy: 0.8313\n",
      "Epoch 26/30\n",
      "625/625 [==============================] - 26s 41ms/step - loss: 0.0086 - accuracy: 0.9967 - val_loss: 1.1238 - val_accuracy: 0.8331\n",
      "Epoch 27/30\n",
      "625/625 [==============================] - 25s 40ms/step - loss: 0.0070 - accuracy: 0.9972 - val_loss: 1.3227 - val_accuracy: 0.8307\n",
      "Epoch 28/30\n",
      "625/625 [==============================] - 26s 42ms/step - loss: 0.0078 - accuracy: 0.9970 - val_loss: 1.2937 - val_accuracy: 0.8305\n",
      "Epoch 29/30\n",
      "625/625 [==============================] - 27s 43ms/step - loss: 0.0082 - accuracy: 0.9970 - val_loss: 1.3177 - val_accuracy: 0.8304\n",
      "Epoch 30/30\n",
      "625/625 [==============================] - 26s 42ms/step - loss: 0.0079 - accuracy: 0.9972 - val_loss: 1.2861 - val_accuracy: 0.8340\n"
     ]
    }
   ],
   "source": [
    "# 학습 :  GPU , 약 12분 소요\n",
    "history = model.fit(training_padded,training_labels,epochs=30,\n",
    "                    validation_data=(testing_padded,testing_labels))"
   ]
  },
  {
   "cell_type": "code",
   "execution_count": 54,
   "id": "6fdcefc7-de03-455c-9dbf-8c53f153a8b6",
   "metadata": {},
   "outputs": [],
   "source": [
    "# 성능 약간 개선됨"
   ]
  },
  {
   "cell_type": "code",
   "execution_count": 53,
   "id": "942d8cfd-32d0-4901-b039-a6590ea085d8",
   "metadata": {},
   "outputs": [
    {
     "name": "stdout",
     "output_type": "stream",
     "text": [
      "mom starting to fear son's web series closest thing she will have to grandchild ? ? ? ? ? ? ? ? ? ? ? ? ? ? ? ? ? ? ? ? ? ? ? ? ? ? ? ? ? ? ? ? ? ? ? ? ? ? ? ? ? ? ? ? ? ? ? ? ? ? ? ? ? ? ? ? ? ? ? ? ? ? ? ? ? ? ? ? ? ? ? ? ? ? ? ? ? ? ? ? ? ? ? ? ? ?\n",
      "mom starting to fear son's web series closest thing she will have to grandchild\n",
      "1\n"
     ]
    }
   ],
   "source": [
    "reverse_word_index = dict([(value, key) for (key, value) in word_index.items()])\n",
    "\n",
    "def decode_sentence(text):\n",
    "    return ' '.join([reverse_word_index.get(i, '?') for i in text])\n",
    "\n",
    "print(decode_sentence(training_padded[2]))\n",
    "print(training_sentences[2])\n",
    "print(labels[2])"
   ]
  },
  {
   "cell_type": "code",
   "execution_count": null,
   "id": "37740883-786f-450a-8612-b5f610e04143",
   "metadata": {},
   "outputs": [],
   "source": [
    "e = model.layers[0]\n",
    "weights = e.get_weights()[0]\n",
    "print(weights.shape) # shape: (vocab_size, embedding_dim)"
   ]
  },
  {
   "cell_type": "code",
   "execution_count": 60,
   "id": "0fa33aa1-133f-43c3-b5d5-7899b087489a",
   "metadata": {},
   "outputs": [
    {
     "name": "stdout",
     "output_type": "stream",
     "text": [
      "1/1 [==============================] - 0s 32ms/step\n",
      "[[1.0239962e-03]\n",
      " [2.3583454e-05]]\n",
      "[[0.]\n",
      " [0.]]\n"
     ]
    }
   ],
   "source": [
    "# 예측\n",
    "sentence = [\"granny starting to fear spiders in the garden might be real\",\n",
    "            \"game of thrones season finale showing this sunday night\"]\n",
    "sequences = tokenizer.texts_to_sequences(sentence)\n",
    "padded = pad_sequences(sequences,maxlen=max_length,padding=padding_type,\n",
    "                       truncating=trunc_type)\n",
    "padded.shape  # (2,100)\n",
    "preds = model.predict(padded)\n",
    "print(preds)\n",
    "print(np.round(preds))"
   ]
  },
  {
   "cell_type": "code",
   "execution_count": 63,
   "id": "ea3d0302-65a1-44f6-919c-da9c97e903f6",
   "metadata": {},
   "outputs": [
    {
     "name": "stdout",
     "output_type": "stream",
     "text": [
      "(2, 100)\n",
      "1/1 [==============================] - 0s 31ms/step\n",
      "[[1.       ]\n",
      " [0.9999981]]\n",
      "[[1.]\n",
      " [1.]]\n"
     ]
    }
   ],
   "source": [
    "# 예측\n",
    "sentence = [\"Head of Canada's spy agency announces he's stepping down from the job\",\n",
    "            \"Old Video of Joe Biden Talking About Resignation Falsely Shared as Recent\"]\n",
    "           \n",
    "sequences = tokenizer.texts_to_sequences(sentence)\n",
    "padded = pad_sequences(sequences,maxlen=max_length,padding=padding_type,\n",
    "                       truncating=trunc_type)\n",
    "print(padded.shape)  # (2,100)\n",
    "preds = model.predict(padded)\n",
    "print(preds)\n",
    "print(np.round(preds))"
   ]
  },
  {
   "cell_type": "markdown",
   "id": "c1cce491-594d-48e2-a06b-fe07827f820a",
   "metadata": {},
   "source": [
    "### Keras Tokenizer 설명"
   ]
  },
  {
   "cell_type": "code",
   "execution_count": 64,
   "id": "44f048cb-01c5-4c1d-8f99-a9b437cdb771",
   "metadata": {},
   "outputs": [
    {
     "name": "stdout",
     "output_type": "stream",
     "text": [
      "\n",
      "Word Index =  {'<OOV>': 1, 'my': 2, 'love': 3, 'dog': 4, 'i': 5, 'you': 6, 'cat': 7, 'do': 8, 'think': 9, 'is': 10, 'amazing': 11}\n",
      "\n",
      "Sequences =  [[5, 3, 2, 4], [5, 3, 2, 7], [6, 3, 2, 4], [8, 6, 9, 2, 4, 10, 11]]\n",
      "\n",
      "Padded Sequences:\n",
      "[[ 0  5  3  2  4]\n",
      " [ 0  5  3  2  7]\n",
      " [ 0  6  3  2  4]\n",
      " [ 9  2  4 10 11]]\n",
      "\n",
      "Test Sequence =  [[5, 1, 3, 2, 4], [2, 4, 1, 2, 1]]\n",
      "\n",
      "Padded Test Sequence: \n",
      "[[0 0 0 0 0 5 1 3 2 4]\n",
      " [0 0 0 0 0 2 4 1 2 1]]\n"
     ]
    }
   ],
   "source": [
    "import tensorflow as tf\n",
    "from tensorflow import keras\n",
    "\n",
    "from tensorflow.keras.preprocessing.text import Tokenizer\n",
    "from tensorflow.keras.preprocessing.sequence import pad_sequences\n",
    "\n",
    "sentences = [\n",
    "    'I love my dog',\n",
    "    'I love my cat',\n",
    "    'You love my dog!',\n",
    "    'Do you think my dog is amazing?'\n",
    "]\n",
    "\n",
    "tokenizer = Tokenizer(num_words = 100, oov_token=\"<OOV>\")\n",
    "tokenizer.fit_on_texts(sentences)\n",
    "word_index = tokenizer.word_index\n",
    "\n",
    "sequences = tokenizer.texts_to_sequences(sentences)\n",
    "\n",
    "padded = pad_sequences(sequences, maxlen=5)\n",
    "print(\"\\nWord Index = \" , word_index)\n",
    "print(\"\\nSequences = \" , sequences)\n",
    "print(\"\\nPadded Sequences:\")\n",
    "print(padded)\n",
    "\n",
    "\n",
    "# Try with words that the tokenizer wasn't fit to\n",
    "test_data = [\n",
    "    'i really love my dog',\n",
    "    'my dog loves my manatee'\n",
    "]\n",
    "\n",
    "test_seq = tokenizer.texts_to_sequences(test_data)\n",
    "print(\"\\nTest Sequence = \", test_seq)\n",
    "\n",
    "padded = pad_sequences(test_seq, maxlen=10)\n",
    "print(\"\\nPadded Test Sequence: \")\n",
    "print(padded)"
   ]
  },
  {
   "cell_type": "code",
   "execution_count": null,
   "id": "76989594-b0cf-47bd-af8c-e02215b6af50",
   "metadata": {},
   "outputs": [],
   "source": []
  }
 ],
 "metadata": {
  "kernelspec": {
   "display_name": "Python 3 (ipykernel)",
   "language": "python",
   "name": "python3"
  },
  "language_info": {
   "codemirror_mode": {
    "name": "ipython",
    "version": 3
   },
   "file_extension": ".py",
   "mimetype": "text/x-python",
   "name": "python",
   "nbconvert_exporter": "python",
   "pygments_lexer": "ipython3",
   "version": "3.10.14"
  }
 },
 "nbformat": 4,
 "nbformat_minor": 5
}
