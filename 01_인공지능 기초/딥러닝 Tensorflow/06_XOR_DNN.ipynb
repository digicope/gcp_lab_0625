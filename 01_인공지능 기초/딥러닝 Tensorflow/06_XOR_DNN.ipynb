{
 "cells": [
  {
   "cell_type": "code",
   "execution_count": 1,
   "id": "c5f00041-2e72-406c-85d7-2ea91c4849c5",
   "metadata": {},
   "outputs": [],
   "source": [
    "# xor_dnn\n",
    "# 2진 분류 : Logistic Regression\n",
    "# 활성화 함수 : sigmoid 함수 사용\n",
    "# two Layers of Neural Network"
   ]
  },
  {
   "cell_type": "code",
   "execution_count": 2,
   "id": "0ebb135d-b1b3-4b1c-88e7-373c0a7a2dc7",
   "metadata": {},
   "outputs": [],
   "source": [
    "import tensorflow as tf\n",
    "import numpy as np\n",
    "tf.random.set_seed(5)"
   ]
  },
  {
   "cell_type": "code",
   "execution_count": 3,
   "id": "4fdf5e0f-6d5a-48cc-84dd-13c7d26c5d34",
   "metadata": {},
   "outputs": [],
   "source": [
    "# train data set \n",
    "x_data = [[0,0],\n",
    "          [0,1],\n",
    "          [1,0],\n",
    "          [1,1]]\n",
    "\n",
    "y_data = [[0],\n",
    "          [1],\n",
    "          [1],\n",
    "          [0]]\n",
    "\n",
    "x_train = np.array(x_data,dtype=np.float32)\n",
    "y_train = np.array(y_data,dtype=np.float32)"
   ]
  },
  {
   "cell_type": "code",
   "execution_count": 4,
   "id": "5f5d45a5-c1d7-4567-b67e-3ba27f05c349",
   "metadata": {},
   "outputs": [],
   "source": [
    "# Layer 1 : 은닉층(Hidden Layer)\n",
    "# (4, 2) * (2,2) = (4, 2)\n",
    "W1 = tf.Variable(tf.random.normal([2,2]),name='weight1')\n",
    "b1 = tf.Variable(tf.random.normal([2]),name='bias1')\n",
    "\n",
    "def layer1(X):\n",
    "    return tf.sigmoid(tf.matmul(X,W1) + b1)"
   ]
  },
  {
   "cell_type": "code",
   "execution_count": 5,
   "id": "abb404bb-e9e7-44dc-bafc-1e15e2326109",
   "metadata": {},
   "outputs": [],
   "source": [
    "# Layer 2 : 은닉층(Hidden Layer)\n",
    "# (4, 2) * (2,2) = (4, 2)\n",
    "W2 = tf.Variable(tf.random.normal([2,2]),name='weight2')\n",
    "b2 = tf.Variable(tf.random.normal([2]),name='bias2')\n",
    "\n",
    "def layer2(X):\n",
    "    return tf.sigmoid(tf.matmul(layer1(X),W2) + b2)"
   ]
  },
  {
   "cell_type": "code",
   "execution_count": 6,
   "id": "67947bd0-4095-43e8-afe3-5a026967ef77",
   "metadata": {},
   "outputs": [],
   "source": [
    "# Layer 3 : 출력층(Output Layer)\n",
    "# (4, 2) * (2,1) = (4, 1)\n",
    "W3 = tf.Variable(tf.random.normal([2,1]),name='weight3')\n",
    "b3 = tf.Variable(tf.random.normal([1]),name='bias3')"
   ]
  },
  {
   "cell_type": "code",
   "execution_count": 7,
   "id": "0e40e763-acdc-4efc-a050-fccf291f4cff",
   "metadata": {},
   "outputs": [],
   "source": [
    "# 예측 함수(hypothesis) : H(X) = sigmoid(W*X + b)\n",
    "def hypothesis(X):\n",
    "    return tf.sigmoid(tf.matmul(layer2(X),W3) + b3)  # 0과 1사이의 값이 출력"
   ]
  },
  {
   "cell_type": "code",
   "execution_count": 8,
   "id": "3ce9c0e5-29cb-4e91-9e8e-df9ea1089e93",
   "metadata": {},
   "outputs": [],
   "source": [
    "# 비용 함수 : logloss , 2진 분류 모델\n",
    "def cost_func():\n",
    "    cost = -tf.reduce_mean(y_train*tf.math.log(hypothesis(x_train)) +\n",
    "                         (1-y_train)*tf.math.log(1-hypothesis(x_train)))\n",
    "    return cost"
   ]
  },
  {
   "cell_type": "code",
   "execution_count": 9,
   "id": "a86117d1-ee9f-418f-a387-9628c34239f3",
   "metadata": {},
   "outputs": [],
   "source": [
    "# 경사 하강법\n",
    "# learning_rate(학습율)을 0.01 로 설정하여 optimizer객체를 생성\n",
    "optimizer = tf.keras.optimizers.Adam(learning_rate=0.01)"
   ]
  },
  {
   "cell_type": "code",
   "execution_count": 10,
   "id": "f5731d95-3fb5-4195-9d7b-8a0994d42738",
   "metadata": {},
   "outputs": [
    {
     "name": "stdout",
     "output_type": "stream",
     "text": [
      "***** Start Learning!!\n",
      "0000 cost:[ 0.7832414 ]  W1: [[-0.19030435 -0.9602849 ]\n",
      " [-0.04963781 -0.75253904]]  b1: [0.21652941 0.8006557 ]\n",
      "1000 cost:[ 0.0067457184 ]  W1: [[ 3.772725  -5.584237 ]\n",
      " [ 3.7625606 -5.4694147]]  b1: [-5.6239076  1.9447918]\n",
      "2000 cost:[ 0.00167249 ]  W1: [[ 4.1505756 -5.9059596]\n",
      " [ 4.141052  -5.791048 ]]  b1: [-6.217392   2.1602595]\n",
      "3000 cost:[ 0.00071030983 ]  W1: [[ 4.3481817 -6.078011 ]\n",
      " [ 4.339233  -5.9630933]]  b1: [-6.5250697  2.269216 ]\n",
      "4000 cost:[ 0.000359988 ]  W1: [[ 4.4897246 -6.202732 ]\n",
      " [ 4.481229  -6.08781  ]]  b1: [-6.744543   2.3459172]\n",
      "5000 cost:[ 0.0001976985 ]  W1: [[ 4.6045327 -6.3047004]\n",
      " [ 4.5964885 -6.1897774]]  b1: [-6.9219728  2.407355 ]\n",
      "***** Learning Finished!!\n"
     ]
    }
   ],
   "source": [
    "# 학습 시작\n",
    "print('***** Start Learning!!')\n",
    "for step in range(5001):\n",
    "    optimizer.minimize(cost_func,var_list=[W1,b1,W2,b2,W3,b3])\n",
    "    if step % 1000 == 0:\n",
    "        print('%04d'%step,'cost:[',cost_func().numpy(),']',\n",
    "             ' W1:',W1.numpy(),' b1:',b1.numpy())  \n",
    "        \n",
    "print('***** Learning Finished!!')  "
   ]
  },
  {
   "cell_type": "code",
   "execution_count": 13,
   "id": "b0188ed7-b30a-4c68-8dad-38bca46b14a1",
   "metadata": {},
   "outputs": [
    {
     "name": "stdout",
     "output_type": "stream",
     "text": [
      "Weight1: [[ 4.6045327 -6.3047004]\n",
      " [ 4.5964885 -6.1897774]]\n",
      "Bias1: [-6.9219728  2.407355 ]\n"
     ]
    }
   ],
   "source": [
    "# 회귀 계수, weight과 bias 출력\n",
    "print('Weight1:',W1.numpy())\n",
    "print('Bias1:',b1.numpy())"
   ]
  },
  {
   "cell_type": "code",
   "execution_count": 14,
   "id": "fc2f33d3-9832-439e-b743-4dcb7e5bc2a4",
   "metadata": {},
   "outputs": [
    {
     "name": "stdout",
     "output_type": "stream",
     "text": [
      "Accuracy: 1.0\n",
      "tf.Tensor(\n",
      "[[0.]\n",
      " [1.]\n",
      " [1.]\n",
      " [0.]], shape=(4, 1), dtype=float32)\n"
     ]
    }
   ],
   "source": [
    "# 정확도 측정 : accuracy computation\n",
    "def predict(X):\n",
    "    return tf.cast(hypothesis(X) > 0.5,dtype=tf.float32)\n",
    "\n",
    "preds = predict(x_train)\n",
    "accuracy = tf.reduce_mean(tf.cast(tf.equal(preds,y_train),dtype=tf.float32))\n",
    "\n",
    "print('Accuracy:',accuracy.numpy())\n",
    "print(preds)"
   ]
  },
  {
   "cell_type": "code",
   "execution_count": null,
   "id": "bc9a90b3-e888-4d62-b250-2a9ba57cb8e1",
   "metadata": {},
   "outputs": [],
   "source": []
  },
  {
   "cell_type": "code",
   "execution_count": null,
   "id": "2f772c1d-6607-4084-850b-d058dd9bbdeb",
   "metadata": {},
   "outputs": [],
   "source": []
  }
 ],
 "metadata": {
  "kernelspec": {
   "display_name": "Python 3 (ipykernel)",
   "language": "python",
   "name": "python3"
  },
  "language_info": {
   "codemirror_mode": {
    "name": "ipython",
    "version": 3
   },
   "file_extension": ".py",
   "mimetype": "text/x-python",
   "name": "python",
   "nbconvert_exporter": "python",
   "pygments_lexer": "ipython3",
   "version": "3.10.14"
  }
 },
 "nbformat": 4,
 "nbformat_minor": 5
}
