{
 "cells": [
  {
   "cell_type": "code",
   "execution_count": 2,
   "id": "424bf7aa-bb00-414b-8dee-a74f36943801",
   "metadata": {},
   "outputs": [],
   "source": [
    "# mnist_cnn_deep\n",
    "# MNIST and Convolutional Neural Network\n",
    "# L1,L2 : conv2d + relu + max_pool \n",
    "# L3 : FC(Fully Connected Layer)\n",
    "\n",
    "import tensorflow as tf\n",
    "import numpy as np\n",
    "import matplotlib.pyplot as plt\n",
    "tf.random.set_seed(5)"
   ]
  },
  {
   "cell_type": "code",
   "execution_count": 5,
   "id": "5a17a0ba-fd84-4360-959e-20e48c9b069f",
   "metadata": {},
   "outputs": [
    {
     "name": "stdout",
     "output_type": "stream",
     "text": [
      "(60000, 28, 28)\n",
      "(60000,)\n",
      "(10000, 28, 28)\n",
      "(10000,)\n"
     ]
    }
   ],
   "source": [
    "# mnist 데이터 가져오기\n",
    "mnist = tf.keras.datasets.mnist\n",
    "(x_train,y_train),(x_test,y_test) = mnist.load_data()\n",
    "print(x_train.shape)\n",
    "print(y_train.shape)\n",
    "print(x_test.shape)\n",
    "print(y_test.shape)"
   ]
  },
  {
   "cell_type": "code",
   "execution_count": 6,
   "id": "934501aa-4755-42b2-8aec-f7c572988773",
   "metadata": {},
   "outputs": [
    {
     "data": {
      "text/plain": [
       "TensorShape([60000, 10])"
      ]
     },
     "execution_count": 6,
     "metadata": {},
     "output_type": "execute_result"
    }
   ],
   "source": [
    "# one-hot 인코딩\n",
    "nb_classes = 10   # 분류 class의 갯수(0~9)\n",
    "\n",
    "Y_one_hot = tf.one_hot(y_train,nb_classes) # (60000,)\n",
    "Y_one_hot.shape                            # (60000,10)  # 2차원"
   ]
  },
  {
   "cell_type": "code",
   "execution_count": 10,
   "id": "21533303-be38-4f15-b591-7b65bfcb5614",
   "metadata": {},
   "outputs": [],
   "source": [
    "# X값의 타입을 float형으로 변환\n",
    "x_train = tf.cast(x_train,dtype=tf.float32)\n",
    "x_test = tf.cast(x_test,dtype=tf.float32)"
   ]
  },
  {
   "cell_type": "code",
   "execution_count": 14,
   "id": "67465399-9a39-4ec6-b18c-c5b91eed0827",
   "metadata": {},
   "outputs": [
    {
     "name": "stdout",
     "output_type": "stream",
     "text": [
      "(60000, 28, 28, 1)\n"
     ]
    }
   ],
   "source": [
    "# X값의 shape을 4차원으로 변환\n",
    "X_img = tf.reshape(x_train,[-1,28,28,1])\n",
    "print(X_img.shape)  # (60000, 28, 28, 1)"
   ]
  },
  {
   "cell_type": "code",
   "execution_count": 15,
   "id": "86949fd7-bd73-4496-900f-42e37c12cce8",
   "metadata": {},
   "outputs": [],
   "source": [
    "# Layer 1 : conv2d - relu - max_pool\n",
    "# (?, 28, 28, 1) --> (?, 14, 14, 32)\n",
    "\n",
    "# <1> conv2d\n",
    "# L1 input image shape : (?, 28, 28, 1)\n",
    "# filter : (3,3,1,32), 필터 32개\n",
    "# strides : (1,1,1,1), padding='SAME'\n",
    "# 출력 이미지 : (28+2 - 3)/1 + 1 = 28\n",
    "# (?, 28, 28, 1) --> (?, 28, 28, 32)\n",
    "W1 = tf.Variable(tf.random.normal([3,3,1,32]),name='weight1')\n",
    "\n",
    "def L1_conv2d(X):\n",
    "    return tf.nn.conv2d(X,W1,strides=[1,1,1,1],padding='SAME')\n",
    "\n",
    "# <2> relu\n",
    "def L1_relu(X):\n",
    "    return tf.nn.relu(L1_conv2d(X))   # shape 변화가 없다\n",
    "    \n",
    "# <3> max_pool\n",
    "# input image : (?, 28, 28, 32)\n",
    "# ksize : (1,2,2,1), strides : (1,2,2,1), padding='SAME'\n",
    "# 출력 이미지 : (28+1 - 2)/2 + 1 = 14\n",
    "#  (?, 28, 28, 32) -->  (?, 14, 14, 32)\n",
    "def L1_MaxPool(X):\n",
    "    return tf.nn.max_pool(L1_relu(X),ksize=[1,2,2,1],strides=[1,2,2,1],padding='SAME')   "
   ]
  },
  {
   "cell_type": "code",
   "execution_count": 16,
   "id": "47785655-1682-44a9-8120-c85d5f9d94c9",
   "metadata": {},
   "outputs": [],
   "source": [
    "# Layer 2 : conv2d - relu - max_pool - flatten\n",
    "# (?, 14, 14, 32) --> (?,7*7*64)\n",
    "\n",
    "# <1> conv2d\n",
    "# L2 input image shape : (?, 14, 14, 32)\n",
    "# filter : (3,3,32,64), 필터 64개\n",
    "# strides : (1,1,1,1), padding='SAME'\n",
    "# 출력 이미지 : (14+2 - 3)/1 + 1 = 14\n",
    "# (?, 14, 14, 32) --> (?, 14,14,64)\n",
    "W2 = tf.Variable(tf.random.normal([3,3,32,64]),name='weight2')\n",
    "\n",
    "def L2_conv2d(X):\n",
    "    return tf.nn.conv2d(L1_MaxPool(X),W2,strides=[1,1,1,1],padding='SAME')\n",
    "\n",
    "# <2> relu\n",
    "def L2_relu(X):\n",
    "    return tf.nn.relu(L2_conv2d(X))   # shape 변화가 없다\n",
    "    \n",
    "# <3> max_pool\n",
    "# input image : (?, 14, 14, 64)\n",
    "# ksize : (1,2,2,1), strides : (1,2,2,1), padding='SAME'\n",
    "# 출력 이미지 : (14+1 - 2)/2 + 1 = 7\n",
    "#  (?, 14, 14, 64) -->  (?, 7, 7, 64)\n",
    "def L2_MaxPool(X):\n",
    "    return tf.nn.max_pool(L2_relu(X),ksize=[1,2,2,1],strides=[1,2,2,1],padding='SAME')   \n",
    "\n",
    "# <4> flatten layer : 다차원 배열을 2차원으로 변환하여 FC layer에 전달한다\n",
    "def L2_flat(X):\n",
    "    return tf.reshape(L2_MaxPool(X),[-1,7*7*64])"
   ]
  },
  {
   "cell_type": "code",
   "execution_count": 19,
   "id": "a7b64470-220a-4c53-b8d5-d8a93ce94382",
   "metadata": {},
   "outputs": [],
   "source": [
    "# Layer 3 : FC(Fully Connected Layer)\n",
    "# (?,7*7*64) * (7*7*64,10) = (?,10)\n",
    "nb_classes = 10\n",
    "W3 = tf.Variable(tf.random.normal([7*7*64,nb_classes]),name='weight3')\n",
    "b = tf.Variable(tf.random.normal([nb_classes]),name='bias')"
   ]
  },
  {
   "cell_type": "code",
   "execution_count": 25,
   "id": "5cf733e9-36e2-417b-8b2a-5d20df094ab7",
   "metadata": {},
   "outputs": [],
   "source": [
    "# 예측 함수(hypothesis) : H(X) = softmax(W*X + b)\n",
    "def logits(X):\n",
    "    return tf.matmul(L2_flat(X),W3) + b\n",
    "    \n",
    "def hypothesis(X):\n",
    "    return tf.nn.softmax(logits(X)) "
   ]
  },
  {
   "cell_type": "code",
   "execution_count": 26,
   "id": "8101f448-488c-436b-be3a-bd33be6fb026",
   "metadata": {},
   "outputs": [
    {
     "name": "stdout",
     "output_type": "stream",
     "text": [
      "***** Start Learning!!\n",
      "Epoch: 0001 cost: 16355.282608643\n",
      "Epoch: 0002 cost: 2609.183621216\n",
      "Epoch: 0003 cost: 1491.618912964\n",
      "Epoch: 0004 cost: 1010.406080017\n",
      "Epoch: 0005 cost: 746.603260498\n",
      "Epoch: 0006 cost: 578.084247437\n",
      "Epoch: 0007 cost: 461.422939987\n",
      "Epoch: 0008 cost: 380.471967506\n",
      "Epoch: 0009 cost: 314.664299278\n",
      "Epoch: 0010 cost: 250.194975109\n",
      "Epoch: 0011 cost: 218.433690877\n",
      "Epoch: 0012 cost: 185.953843791\n",
      "Epoch: 0013 cost: 151.485760291\n",
      "Epoch: 0014 cost: 117.389775324\n",
      "Epoch: 0015 cost: 91.570824352\n",
      "Epoch: 0016 cost: 80.601320620\n",
      "Epoch: 0017 cost: 75.657782331\n",
      "Epoch: 0018 cost: 61.254053323\n",
      "Epoch: 0019 cost: 54.600720775\n",
      "Epoch: 0020 cost: 41.401496574\n",
      "Epoch: 0021 cost: 34.078469357\n",
      "Epoch: 0022 cost: 33.706792219\n",
      "Epoch: 0023 cost: 25.515344235\n",
      "Epoch: 0024 cost: 20.521668524\n",
      "Epoch: 0025 cost: 15.618738675\n",
      "Epoch: 0026 cost: 13.368492852\n",
      "Epoch: 0027 cost: 14.698587133\n",
      "Epoch: 0028 cost: 10.260218434\n",
      "Epoch: 0029 cost: 9.735576218\n",
      "Epoch: 0030 cost: 8.304192536\n",
      "Epoch: 0031 cost: 7.701391819\n",
      "Epoch: 0032 cost: 6.372808264\n",
      "Epoch: 0033 cost: 12.989587791\n",
      "Epoch: 0034 cost: 7.791464282\n",
      "Epoch: 0035 cost: 7.543110701\n",
      "Epoch: 0036 cost: 4.915346413\n",
      "Epoch: 0037 cost: 7.468726441\n",
      "Epoch: 0038 cost: 7.886072168\n",
      "Epoch: 0039 cost: 11.457478452\n",
      "Epoch: 0040 cost: 8.774860828\n",
      "Epoch: 0041 cost: 5.529197673\n",
      "Epoch: 0042 cost: 6.417031047\n",
      "Epoch: 0043 cost: 4.321095589\n",
      "Epoch: 0044 cost: 3.863020452\n",
      "Epoch: 0045 cost: 4.572097054\n",
      "Epoch: 0046 cost: 4.670016775\n",
      "Epoch: 0047 cost: 3.648105265\n",
      "Epoch: 0048 cost: 9.839990916\n",
      "Epoch: 0049 cost: 5.801264014\n",
      "Epoch: 0050 cost: 5.501498866\n",
      "***** Learning Finished!!\n"
     ]
    }
   ],
   "source": [
    "# batch 사이즈로 나누어 학습, 효율적 이며 학습 시간 단축\n",
    "training_epoch = 50\n",
    "batch_size = 600\n",
    "\n",
    "# 경사 하강법\n",
    "# learning_rate(학습율)을 0.01 로 설정하여 optimizer객체를 생성\n",
    "optimizer = tf.keras.optimizers.Adam(learning_rate=0.01)\n",
    "\n",
    "# 학습 시작\n",
    "print('***** Start Learning!!')\n",
    "for epoch in range(training_epoch):  # 50회\n",
    "    \n",
    "    avg_cost = 0\n",
    "    \n",
    "    # 100 = 60000/600\n",
    "    total_batch = int(x_train.shape[0]/batch_size)\n",
    "    for k in range(total_batch):  # 100회\n",
    "        batch_xs = x_train[k*batch_size : k*batch_size + batch_size] # 600개의 X데이터\n",
    "        batch_ys = Y_one_hot[k*batch_size : k*batch_size + batch_size] # 600개의 Y데이터\n",
    "               \n",
    "        # X값의 shape을 4차원으로 변환\n",
    "        X_img = tf.reshape(batch_xs,[-1,28,28,1])\n",
    "\n",
    "        # 비용함수 구현 방법  : tf.nn.softmax_cross_entropy_with_logits() 함수 사용\n",
    "        def cost_func_batch():\n",
    "            cost_i = tf.nn.softmax_cross_entropy_with_logits(logits = logits(X_img),\n",
    "                                                             labels = batch_ys)\n",
    "            cost = tf.reduce_mean(cost_i)\n",
    "            return cost   \n",
    "            \n",
    "        optimizer.minimize(cost_func_batch,var_list=[W1,W2,W3,b])\n",
    "        avg_cost += cost_func_batch().numpy()/total_batch\n",
    "        \n",
    "    print('Epoch:','%04d'%(epoch + 1),'cost:','{:.9f}'.format(avg_cost))    \n",
    "\n",
    "print('***** Learning Finished!!')    "
   ]
  },
  {
   "cell_type": "code",
   "execution_count": 27,
   "id": "16fcc50a-9d31-4c88-ab5a-90377e4657c8",
   "metadata": {},
   "outputs": [
    {
     "name": "stdout",
     "output_type": "stream",
     "text": [
      "Accuracy: 0.9803\n",
      "***** Predict\n",
      "[7 2 1 ... 4 5 6] [7 2 1 ... 4 5 6]\n"
     ]
    }
   ],
   "source": [
    "# 정확도 측정 : accuracy computation\n",
    "\n",
    "# y_test 값의 one-hot 인코딩\n",
    "Y_one_hot = tf.one_hot(y_test,nb_classes)    # (10000,10)\n",
    "# print(Y_one_hot.shape)                       # (10000,10)  , (2차원)\n",
    "\n",
    "# tf.argmax() : 값이 가장 큰 요소의 인덱스 값을 반환\n",
    "def predict(X):\n",
    "    return tf.argmax(hypothesis(X),axis=1)\n",
    "\n",
    "# X값의 shape을 4차원으로 변환\n",
    "X_img = tf.reshape(x_test,[-1,28,28,1])\n",
    "        \n",
    "correct_predict = tf.equal(predict(X_img),tf.argmax(Y_one_hot,1))\n",
    "accuracy = tf.reduce_mean(tf.cast(correct_predict, dtype = tf.float32))\n",
    "print(\"Accuracy:\",accuracy.numpy()) # Accuracy: 0.9534\n",
    "\n",
    "#예측\n",
    "print('***** Predict')\n",
    "pred = predict(X_img).numpy()\n",
    "print(pred,y_test)"
   ]
  },
  {
   "cell_type": "code",
   "execution_count": null,
   "id": "77ce2991-6321-401d-8738-0a82d0e2a98b",
   "metadata": {},
   "outputs": [],
   "source": []
  }
 ],
 "metadata": {
  "kernelspec": {
   "display_name": "Python 3 (ipykernel)",
   "language": "python",
   "name": "python3"
  },
  "language_info": {
   "codemirror_mode": {
    "name": "ipython",
    "version": 3
   },
   "file_extension": ".py",
   "mimetype": "text/x-python",
   "name": "python",
   "nbconvert_exporter": "python",
   "pygments_lexer": "ipython3",
   "version": "3.10.14"
  }
 },
 "nbformat": 4,
 "nbformat_minor": 5
}
