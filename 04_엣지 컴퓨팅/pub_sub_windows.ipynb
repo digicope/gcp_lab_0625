{
 "cells": [
  {
   "cell_type": "markdown",
   "id": "d33fa618-0a0e-4ead-897c-6b9346b114a7",
   "metadata": {},
   "source": [
    "### pub_sub_windows"
   ]
  },
  {
   "cell_type": "code",
   "execution_count": null,
   "id": "083bad6d-975e-4da8-b33d-6185db372102",
   "metadata": {},
   "outputs": [],
   "source": [
    "# paho-mqtt 설치\n",
    "# ! pip install paho-mqtt\n",
    "# ! python.exe -m pip install --upgrade pip   [불필요]"
   ]
  },
  {
   "cell_type": "code",
   "execution_count": null,
   "id": "ffc6a1e0-9582-4fd5-a459-b8ad8b07aa9c",
   "metadata": {},
   "outputs": [],
   "source": []
  },
  {
   "cell_type": "markdown",
   "id": "15f0881a-f383-4534-9bbc-66fc110bd7dc",
   "metadata": {},
   "source": [
    "### publish"
   ]
  },
  {
   "cell_type": "code",
   "execution_count": null,
   "id": "c9be7b40-dc2d-4507-b2be-072a209e45ff",
   "metadata": {},
   "outputs": [],
   "source": [
    "import paho.mqtt.client as mqtt\n",
    "\n",
    "mqttc = mqtt.Client()      # MQTT Client \n",
    "mqttc.connect(\"test.mosquitto.org\", 1883)    # MQTT \n",
    "#mqttc.connect(\"localhost\", 1883)    # iCORE-SDP Broker \n",
    "mqttc.publish(\"hello/world\", \"I am Windows PC(XXX)!! Hello World!\")  # 'hello/world'  \"Hello World!\"\n",
    "mqttc.loop(2)  "
   ]
  },
  {
   "cell_type": "markdown",
   "id": "0aa312ad-8a6b-4c5b-bc98-c0d5af0e5e3c",
   "metadata": {},
   "source": [
    "### subscribe"
   ]
  },
  {
   "cell_type": "code",
   "execution_count": null,
   "id": "86dab0a3-f68b-4f1a-92c3-ce02d37310de",
   "metadata": {},
   "outputs": [],
   "source": [
    "def on_connect(client, userdata, flags,rc):\n",
    "  print (\"Connected with result code \" + str(rc))\n",
    "  client.subscribe(\"hello/world\")\n",
    "\n",
    "def on_message(client, userdata, msg):\n",
    "  print (\"Topic: \", msg.topic + '\\nMessage: ' + str(msg.payload))\n",
    "  # print (\"Topic: \", msg.topic + '\\nMessage: ' + str(msg.payload.decode('euc-kr'))) # 완성형 (windows_\n",
    "  # print (\"Topic: \", msg.topic + '\\nMessage: ' + str(msg.payload.decode('utf-8')))  # 조합형 (linux,mac)\n",
    "\n",
    "client = mqtt.Client()        # MQTT Client \n",
    "client.on_connect = on_connect     # on_connect callback \n",
    "client.on_message = on_message     # on_message callback \n",
    "\n",
    "client.connect(\"test.mosquitto.org\", 1883, 60)   # MQTT \n",
    "#client.connect(\"localhost\", 1883, 60)   # iCORE-SDP Broker \n",
    "\n",
    "client.loop_forever()"
   ]
  },
  {
   "cell_type": "markdown",
   "id": "b7aebd1e-2558-40dd-a1c8-3aefa726151d",
   "metadata": {},
   "source": [
    "## 과제\n",
    "(1) PI3가 보내온 센서데이터를 수신(subscribe)하는 코드 4개를 각각 따로 구현 <br>\n",
    "(2) PI3로 제어 명령을 보내는(publish)하는 코드 4개를 각각 따로구현"
   ]
  },
  {
   "cell_type": "markdown",
   "id": "6cb12e10-f91b-476d-ad3d-d2ee94eef720",
   "metadata": {},
   "source": [
    "### 과제 1번 \n",
    ": PI3가 보내온 센서데이터를 수신(subscribe)하는 코드 4개를 각각 따로 구현"
   ]
  },
  {
   "cell_type": "code",
   "execution_count": null,
   "id": "e7f3d270-fd2c-4c02-9bcb-72d5b41cbbb2",
   "metadata": {
    "scrolled": true
   },
   "outputs": [],
   "source": [
    "### <1> pi3 subscribe : icore-sdp/temp_humi\n",
    "def on_connect(client, userdata, flags,rc):\n",
    "  print (\"Connected with result code \" + str(rc))\n",
    "  client.subscribe(\"icore-sdp/temp_humi\")\n",
    "\n",
    "def on_message(client, userdata, msg):\n",
    "  print (\"Topic: \", msg.topic + '\\nMessage: ' + str(msg.payload))\n",
    "  # print (\"Topic: \", msg.topic + '\\nMessage: ' + str(msg.payload.decode('euc-kr'))) # 완성형 (windows_\n",
    "  # print (\"Topic: \", msg.topic + '\\nMessage: ' + str(msg.payload.decode('utf-8')))  # 조합형 (linux,mac)\n",
    "\n",
    "client = mqtt.Client()        # MQTT Client \n",
    "client.on_connect = on_connect     # on_connect callback \n",
    "client.on_message = on_message     # on_message callback \n",
    "\n",
    "client.connect(\"test.mosquitto.org\", 1883, 60)   # MQTT \n",
    "#client.connect(\"localhost\", 1883, 60)   # iCORE-SDP Broker \n",
    "\n",
    "client.loop_forever()"
   ]
  },
  {
   "cell_type": "code",
   "execution_count": null,
   "id": "1841d9a6-9bfa-4e3c-b3a1-ba7afcf51c8d",
   "metadata": {
    "scrolled": true
   },
   "outputs": [],
   "source": [
    "### <2> pi3 subscribe : icore-sdp/light\n",
    "def on_connect(client, userdata, flags,rc):\n",
    "  print (\"Connected with result code \" + str(rc))\n",
    "  client.subscribe(\"icore-sdp/light\")\n",
    "\n",
    "def on_message(client, userdata, msg):\n",
    "  print (\"Topic: \", msg.topic + '\\nMessage: ' + str(msg.payload))\n",
    "  # print (\"Topic: \", msg.topic + '\\nMessage: ' + str(msg.payload.decode('euc-kr'))) # 완성형 (windows_\n",
    "  # print (\"Topic: \", msg.topic + '\\nMessage: ' + str(msg.payload.decode('utf-8')))  # 조합형 (linux,mac)\n",
    "\n",
    "client = mqtt.Client()        # MQTT Client \n",
    "client.on_connect = on_connect     # on_connect callback \n",
    "client.on_message = on_message     # on_message callback \n",
    "\n",
    "client.connect(\"test.mosquitto.org\", 1883, 60)   # MQTT \n",
    "#client.connect(\"localhost\", 1883, 60)   # iCORE-SDP Broker \n",
    "\n",
    "client.loop_forever()"
   ]
  },
  {
   "cell_type": "code",
   "execution_count": null,
   "id": "3cf5b2f1-f89f-4de1-b02f-ac53b91be6c3",
   "metadata": {
    "scrolled": true
   },
   "outputs": [],
   "source": [
    "### <3> pi3 subscribe : icore-sdp/pir\n",
    "def on_connect(client, userdata, flags,rc):\n",
    "  print (\"Connected with result code \" + str(rc))\n",
    "  client.subscribe(\"icore-sdp/pir\")\n",
    "\n",
    "def on_message(client, userdata, msg):\n",
    "  print (\"Topic: \", msg.topic + '\\nMessage: ' + str(msg.payload))\n",
    "  # print (\"Topic: \", msg.topic + '\\nMessage: ' + str(msg.payload.decode('euc-kr'))) # 완성형 (windows_\n",
    "  # print (\"Topic: \", msg.topic + '\\nMessage: ' + str(msg.payload.decode('utf-8')))  # 조합형 (linux,mac)\n",
    "\n",
    "client = mqtt.Client()        # MQTT Client \n",
    "client.on_connect = on_connect     # on_connect callback \n",
    "client.on_message = on_message     # on_message callback \n",
    "\n",
    "client.connect(\"test.mosquitto.org\", 1883, 60)   # MQTT \n",
    "#client.connect(\"localhost\", 1883, 60)   # iCORE-SDP Broker \n",
    "\n",
    "client.loop_forever()"
   ]
  },
  {
   "cell_type": "code",
   "execution_count": null,
   "id": "67cd4c09-245c-49f6-8c6b-674fa16ad693",
   "metadata": {},
   "outputs": [],
   "source": [
    "### <4> pi3 subscribe : icore-sdp/ultrasonic \n",
    "def on_connect(client, userdata, flags,rc):\n",
    "  print (\"Connected with result code \" + str(rc))\n",
    "  client.subscribe(\"icore-sdp/ultrasonic\")\n",
    "\n",
    "def on_message(client, userdata, msg):\n",
    "  print (\"Topic: \", msg.topic + '\\nMessage: ' + str(msg.payload))\n",
    "  # print (\"Topic: \", msg.topic + '\\nMessage: ' + str(msg.payload.decode('euc-kr'))) # 완성형 (windows_\n",
    "  # print (\"Topic: \", msg.topic + '\\nMessage: ' + str(msg.payload.decode('utf-8')))  # 조합형 (linux,mac)\n",
    "\n",
    "client = mqtt.Client()        # MQTT Client \n",
    "client.on_connect = on_connect     # on_connect callback \n",
    "client.on_message = on_message     # on_message callback \n",
    "\n",
    "client.connect(\"test.mosquitto.org\", 1883, 60)   # MQTT \n",
    "#client.connect(\"localhost\", 1883, 60)   # iCORE-SDP Broker \n",
    "\n",
    "client.loop_forever()"
   ]
  },
  {
   "cell_type": "markdown",
   "id": "1bf5a114-fa67-4c20-bf33-02306827dc8f",
   "metadata": {},
   "source": [
    "### 과제 2번\n",
    ": PI3로 제어 명령을 보내는(publish)하는 코드 4개를 각각 따로구현"
   ]
  },
  {
   "cell_type": "code",
   "execution_count": null,
   "id": "6041e3b9-f76e-43b4-9e04-44c88a5ebda5",
   "metadata": {},
   "outputs": [],
   "source": [
    "### <1> pi3 publish : icore-sdp/buzzer\n",
    "mqttc = mqtt.Client()      # MQTT Client \n",
    "mqttc.connect(\"test.mosquitto.org\", 1883)    # MQTT \n",
    "#mqttc.connect(\"localhost\", 1883)    # iCORE-SDP Broker \n",
    "mqttc.publish(\"icore-sdp/buzzer\", \"on\")  # 'hello/world'  \"Hello World!\"\n",
    "mqttc.loop(2) "
   ]
  },
  {
   "cell_type": "code",
   "execution_count": null,
   "id": "4627ad77-3f39-4172-a838-f9ac612fe662",
   "metadata": {},
   "outputs": [],
   "source": [
    "### <2> pi3 publish : icore-sdp/dc_motor\n",
    "import time\n",
    "mqttc = mqtt.Client()      # MQTT Client \n",
    "mqttc.connect(\"test.mosquitto.org\", 1883)    # MQTT \n",
    "#mqttc.connect(\"localhost\", 1883)    # iCORE-SDP Broker \n",
    "mqttc.publish(\"icore-sdp/dc_motor\", \"on\")  # 'hello/world'  \"Hello World!\"\n",
    "mqttc.loop(2) \n",
    "time.sleep(1)   # 1초간 대기\n",
    "mqttc.publish(\"icore-sdp/dc_motor\", \"off\")  # 'hello/world'  \"Hello World!\"\n",
    "mqttc.loop(2) "
   ]
  },
  {
   "cell_type": "code",
   "execution_count": null,
   "id": "45775cd2-b376-4e11-a9a4-e8f2e133bb30",
   "metadata": {},
   "outputs": [],
   "source": [
    "### <3> pi3 publish : icore-sdp/led1\n",
    "import time\n",
    "mqttc = mqtt.Client()      # MQTT Client \n",
    "mqttc.connect(\"test.mosquitto.org\", 1883)    # MQTT \n",
    "#mqttc.connect(\"localhost\", 1883)    # iCORE-SDP Broker \n",
    "mqttc.publish(\"icore-sdp/led1\", \"on\")  # 'hello/world'  \"Hello World!\"\n",
    "mqttc.loop(2) \n",
    "time.sleep(1)   # 1초간 대기\n",
    "mqttc.publish(\"icore-sdp/led1\", \"off\")  # 'hello/world'  \"Hello World!\"\n",
    "mqttc.loop(2) "
   ]
  },
  {
   "cell_type": "code",
   "execution_count": null,
   "id": "b85061a5-0272-448d-a13f-8b0477c554ee",
   "metadata": {},
   "outputs": [],
   "source": [
    "### <4> pi3 publish : icore-sdp/led2\n",
    "import time\n",
    "mqttc = mqtt.Client()      # MQTT Client \n",
    "mqttc.connect(\"test.mosquitto.org\", 1883)    # MQTT \n",
    "#mqttc.connect(\"localhost\", 1883)    # iCORE-SDP Broker \n",
    "mqttc.publish(\"icore-sdp/led2\", \"on\")  # 'hello/world'  \"Hello World!\"\n",
    "mqttc.loop(2) \n",
    "time.sleep(1)   # 1초간 대기\n",
    "mqttc.publish(\"icore-sdp/led2\", \"off\")  # 'hello/world'  \"Hello World!\"\n",
    "mqttc.loop(2) "
   ]
  },
  {
   "cell_type": "code",
   "execution_count": null,
   "id": "95780789-83c9-42f8-9dce-6f1e744fd2df",
   "metadata": {},
   "outputs": [],
   "source": []
  }
 ],
 "metadata": {
  "kernelspec": {
   "display_name": "Python 3 (ipykernel)",
   "language": "python",
   "name": "python3"
  },
  "language_info": {
   "codemirror_mode": {
    "name": "ipython",
    "version": 3
   },
   "file_extension": ".py",
   "mimetype": "text/x-python",
   "name": "python",
   "nbconvert_exporter": "python",
   "pygments_lexer": "ipython3",
   "version": "3.10.14"
  }
 },
 "nbformat": 4,
 "nbformat_minor": 5
}
