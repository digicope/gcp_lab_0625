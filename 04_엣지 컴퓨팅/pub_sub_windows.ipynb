{
 "cells": [
  {
   "cell_type": "markdown",
   "id": "d33fa618-0a0e-4ead-897c-6b9346b114a7",
   "metadata": {},
   "source": [
    "### pub_sub_windows"
   ]
  },
  {
   "cell_type": "code",
   "execution_count": null,
   "id": "083bad6d-975e-4da8-b33d-6185db372102",
   "metadata": {},
   "outputs": [],
   "source": [
    "# paho-mqtt 설치\n",
    "# ! pip install paho-mqtt\n",
    "# ! python.exe -m pip install --upgrade pip   [불필요]"
   ]
  },
  {
   "cell_type": "code",
   "execution_count": null,
   "id": "ffc6a1e0-9582-4fd5-a459-b8ad8b07aa9c",
   "metadata": {},
   "outputs": [],
   "source": []
  },
  {
   "cell_type": "markdown",
   "id": "15f0881a-f383-4534-9bbc-66fc110bd7dc",
   "metadata": {},
   "source": [
    "### publish"
   ]
  },
  {
   "cell_type": "code",
   "execution_count": null,
   "id": "c9be7b40-dc2d-4507-b2be-072a209e45ff",
   "metadata": {},
   "outputs": [],
   "source": [
    "import paho.mqtt.client as mqtt\n",
    "\n",
    "mqttc = mqtt.Client()      # MQTT Client \n",
    "mqttc.connect(\"test.mosquitto.org\", 1883)    # MQTT \n",
    "#mqttc.connect(\"localhost\", 1883)    # iCORE-SDP Broker \n",
    "mqttc.publish(\"hello/world\", \"I am Windows PC(XXX)!! Hello World!\")  # 'hello/world'  \"Hello World!\"\n",
    "mqttc.loop(2)  "
   ]
  },
  {
   "cell_type": "markdown",
   "id": "0aa312ad-8a6b-4c5b-bc98-c0d5af0e5e3c",
   "metadata": {},
   "source": [
    "### subscribe"
   ]
  },
  {
   "cell_type": "code",
   "execution_count": null,
   "id": "86dab0a3-f68b-4f1a-92c3-ce02d37310de",
   "metadata": {},
   "outputs": [],
   "source": [
    "def on_connect(client, userdata, flags,rc):\n",
    "  print (\"Connected with result code \" + str(rc))\n",
    "  client.subscribe(\"hello/world\")\n",
    "\n",
    "def on_message(client, userdata, msg):\n",
    "  print (\"Topic: \", msg.topic + '\\nMessage: ' + str(msg.payload))\n",
    "  # print (\"Topic: \", msg.topic + '\\nMessage: ' + str(msg.payload.decode('euc-kr'))) # 완성형 (windows_\n",
    "  # print (\"Topic: \", msg.topic + '\\nMessage: ' + str(msg.payload.decode('utf-8')))  # 조합형 (linux,mac)\n",
    "\n",
    "client = mqtt.Client()        # MQTT Client \n",
    "client.on_connect = on_connect     # on_connect callback \n",
    "client.on_message = on_message     # on_message callback \n",
    "\n",
    "client.connect(\"test.mosquitto.org\", 1883, 60)   # MQTT \n",
    "#client.connect(\"localhost\", 1883, 60)   # iCORE-SDP Broker \n",
    "\n",
    "client.loop_forever()"
   ]
  },
  {
   "cell_type": "code",
   "execution_count": null,
   "id": "c4e42e9b-1e6f-49b1-bc75-c4816f1238c6",
   "metadata": {},
   "outputs": [],
   "source": []
  }
 ],
 "metadata": {
  "kernelspec": {
   "display_name": "Python 3 (ipykernel)",
   "language": "python",
   "name": "python3"
  },
  "language_info": {
   "codemirror_mode": {
    "name": "ipython",
    "version": 3
   },
   "file_extension": ".py",
   "mimetype": "text/x-python",
   "name": "python",
   "nbconvert_exporter": "python",
   "pygments_lexer": "ipython3",
   "version": "3.10.14"
  }
 },
 "nbformat": 4,
 "nbformat_minor": 5
}
